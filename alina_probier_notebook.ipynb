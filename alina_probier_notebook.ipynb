{
 "cells": [
  {
   "cell_type": "code",
   "execution_count": 7,
   "id": "d04a3141",
   "metadata": {},
   "outputs": [],
   "source": [
    "import pandas as pd\n",
    "import numpy as np\n",
    "import matplotlib.pyplot as plt\n",
    "pd.options.mode.chained_assignment = None\n",
    "import scipy.stats as stats\n",
    "import plotly.express as px\n",
    "import plotly.graph_objs as go\n",
    "import plotly"
   ]
  },
  {
   "cell_type": "code",
   "execution_count": 8,
   "id": "3c19292f",
   "metadata": {},
   "outputs": [
    {
     "name": "stdout",
     "output_type": "stream",
     "text": [
      "5.9.0\n"
     ]
    }
   ],
   "source": [
    "print(plotly.__version__)"
   ]
  },
  {
   "cell_type": "code",
   "execution_count": null,
   "id": "ecdfd45b",
   "metadata": {},
   "outputs": [],
   "source": [
    "# Python 3.10.4"
   ]
  },
  {
   "cell_type": "code",
   "execution_count": 2,
   "id": "2bae0aa5",
   "metadata": {},
   "outputs": [],
   "source": [
    "data = pd.io.stata.read_stata('data/data.dta', convert_categoricals = False)\n",
    "df = data.to_csv('data/data.csv')"
   ]
  },
  {
   "cell_type": "code",
   "execution_count": 2,
   "id": "57ed8440",
   "metadata": {},
   "outputs": [
    {
     "data": {
      "text/html": [
       "<div>\n",
       "<style scoped>\n",
       "    .dataframe tbody tr th:only-of-type {\n",
       "        vertical-align: middle;\n",
       "    }\n",
       "\n",
       "    .dataframe tbody tr th {\n",
       "        vertical-align: top;\n",
       "    }\n",
       "\n",
       "    .dataframe thead th {\n",
       "        text-align: right;\n",
       "    }\n",
       "</style>\n",
       "<table border=\"1\" class=\"dataframe\">\n",
       "  <thead>\n",
       "    <tr style=\"text-align: right;\">\n",
       "      <th></th>\n",
       "      <th>za_nr</th>\n",
       "      <th>doi</th>\n",
       "      <th>version</th>\n",
       "      <th>respid</th>\n",
       "      <th>eastwest</th>\n",
       "      <th>german</th>\n",
       "      <th>ep01</th>\n",
       "      <th>ep03</th>\n",
       "      <th>ep04</th>\n",
       "      <th>ep06</th>\n",
       "      <th>...</th>\n",
       "      <th>xi04</th>\n",
       "      <th>xi05</th>\n",
       "      <th>land</th>\n",
       "      <th>bik</th>\n",
       "      <th>gkpol</th>\n",
       "      <th>xs11</th>\n",
       "      <th>wghtpew</th>\n",
       "      <th>wghtht</th>\n",
       "      <th>wghthew</th>\n",
       "      <th>wghthtew</th>\n",
       "    </tr>\n",
       "  </thead>\n",
       "  <tbody>\n",
       "    <tr>\n",
       "      <th>0</th>\n",
       "      <td>5272</td>\n",
       "      <td>doi:10.4232/1.13325</td>\n",
       "      <td>1.0.0 (2019-08-05)</td>\n",
       "      <td>1</td>\n",
       "      <td>1</td>\n",
       "      <td>1</td>\n",
       "      <td>1</td>\n",
       "      <td>2</td>\n",
       "      <td>2</td>\n",
       "      <td>3</td>\n",
       "      <td>...</td>\n",
       "      <td>3</td>\n",
       "      <td>9</td>\n",
       "      <td>90</td>\n",
       "      <td>4</td>\n",
       "      <td>1</td>\n",
       "      <td>2</td>\n",
       "      <td>1.207859</td>\n",
       "      <td>0.870885</td>\n",
       "      <td>1.198172</td>\n",
       "      <td>1.043471</td>\n",
       "    </tr>\n",
       "    <tr>\n",
       "      <th>1</th>\n",
       "      <td>5272</td>\n",
       "      <td>doi:10.4232/1.13325</td>\n",
       "      <td>1.0.0 (2019-08-05)</td>\n",
       "      <td>2</td>\n",
       "      <td>2</td>\n",
       "      <td>1</td>\n",
       "      <td>2</td>\n",
       "      <td>4</td>\n",
       "      <td>3</td>\n",
       "      <td>3</td>\n",
       "      <td>...</td>\n",
       "      <td>1</td>\n",
       "      <td>3</td>\n",
       "      <td>150</td>\n",
       "      <td>8</td>\n",
       "      <td>6</td>\n",
       "      <td>69</td>\n",
       "      <td>0.544808</td>\n",
       "      <td>0.829881</td>\n",
       "      <td>0.566418</td>\n",
       "      <td>0.470059</td>\n",
       "    </tr>\n",
       "    <tr>\n",
       "      <th>2</th>\n",
       "      <td>5272</td>\n",
       "      <td>doi:10.4232/1.13325</td>\n",
       "      <td>1.0.0 (2019-08-05)</td>\n",
       "      <td>3</td>\n",
       "      <td>1</td>\n",
       "      <td>1</td>\n",
       "      <td>2</td>\n",
       "      <td>2</td>\n",
       "      <td>3</td>\n",
       "      <td>2</td>\n",
       "      <td>...</td>\n",
       "      <td>5</td>\n",
       "      <td>27</td>\n",
       "      <td>30</td>\n",
       "      <td>9</td>\n",
       "      <td>4</td>\n",
       "      <td>138</td>\n",
       "      <td>1.207859</td>\n",
       "      <td>0.870885</td>\n",
       "      <td>1.198172</td>\n",
       "      <td>1.043471</td>\n",
       "    </tr>\n",
       "    <tr>\n",
       "      <th>3</th>\n",
       "      <td>5272</td>\n",
       "      <td>doi:10.4232/1.13325</td>\n",
       "      <td>1.0.0 (2019-08-05)</td>\n",
       "      <td>4</td>\n",
       "      <td>2</td>\n",
       "      <td>1</td>\n",
       "      <td>2</td>\n",
       "      <td>2</td>\n",
       "      <td>3</td>\n",
       "      <td>3</td>\n",
       "      <td>...</td>\n",
       "      <td>5</td>\n",
       "      <td>11</td>\n",
       "      <td>120</td>\n",
       "      <td>9</td>\n",
       "      <td>2</td>\n",
       "      <td>74</td>\n",
       "      <td>0.544808</td>\n",
       "      <td>0.829881</td>\n",
       "      <td>0.566418</td>\n",
       "      <td>0.470059</td>\n",
       "    </tr>\n",
       "    <tr>\n",
       "      <th>4</th>\n",
       "      <td>5272</td>\n",
       "      <td>doi:10.4232/1.13325</td>\n",
       "      <td>1.0.0 (2019-08-05)</td>\n",
       "      <td>5</td>\n",
       "      <td>2</td>\n",
       "      <td>1</td>\n",
       "      <td>3</td>\n",
       "      <td>2</td>\n",
       "      <td>3</td>\n",
       "      <td>2</td>\n",
       "      <td>...</td>\n",
       "      <td>5</td>\n",
       "      <td>12</td>\n",
       "      <td>140</td>\n",
       "      <td>10</td>\n",
       "      <td>7</td>\n",
       "      <td>42</td>\n",
       "      <td>0.544808</td>\n",
       "      <td>0.829881</td>\n",
       "      <td>0.566418</td>\n",
       "      <td>0.470059</td>\n",
       "    </tr>\n",
       "    <tr>\n",
       "      <th>...</th>\n",
       "      <td>...</td>\n",
       "      <td>...</td>\n",
       "      <td>...</td>\n",
       "      <td>...</td>\n",
       "      <td>...</td>\n",
       "      <td>...</td>\n",
       "      <td>...</td>\n",
       "      <td>...</td>\n",
       "      <td>...</td>\n",
       "      <td>...</td>\n",
       "      <td>...</td>\n",
       "      <td>...</td>\n",
       "      <td>...</td>\n",
       "      <td>...</td>\n",
       "      <td>...</td>\n",
       "      <td>...</td>\n",
       "      <td>...</td>\n",
       "      <td>...</td>\n",
       "      <td>...</td>\n",
       "      <td>...</td>\n",
       "      <td>...</td>\n",
       "    </tr>\n",
       "    <tr>\n",
       "      <th>3472</th>\n",
       "      <td>5272</td>\n",
       "      <td>doi:10.4232/1.13325</td>\n",
       "      <td>1.0.0 (2019-08-05)</td>\n",
       "      <td>3473</td>\n",
       "      <td>2</td>\n",
       "      <td>1</td>\n",
       "      <td>3</td>\n",
       "      <td>2</td>\n",
       "      <td>3</td>\n",
       "      <td>3</td>\n",
       "      <td>...</td>\n",
       "      <td>1</td>\n",
       "      <td>8</td>\n",
       "      <td>160</td>\n",
       "      <td>3</td>\n",
       "      <td>3</td>\n",
       "      <td>98</td>\n",
       "      <td>0.544808</td>\n",
       "      <td>0.829881</td>\n",
       "      <td>0.566418</td>\n",
       "      <td>0.470059</td>\n",
       "    </tr>\n",
       "    <tr>\n",
       "      <th>3473</th>\n",
       "      <td>5272</td>\n",
       "      <td>doi:10.4232/1.13325</td>\n",
       "      <td>1.0.0 (2019-08-05)</td>\n",
       "      <td>3474</td>\n",
       "      <td>1</td>\n",
       "      <td>1</td>\n",
       "      <td>2</td>\n",
       "      <td>2</td>\n",
       "      <td>4</td>\n",
       "      <td>3</td>\n",
       "      <td>...</td>\n",
       "      <td>1</td>\n",
       "      <td>4</td>\n",
       "      <td>20</td>\n",
       "      <td>10</td>\n",
       "      <td>7</td>\n",
       "      <td>132</td>\n",
       "      <td>1.207859</td>\n",
       "      <td>0.870885</td>\n",
       "      <td>1.198172</td>\n",
       "      <td>1.043471</td>\n",
       "    </tr>\n",
       "    <tr>\n",
       "      <th>3474</th>\n",
       "      <td>5272</td>\n",
       "      <td>doi:10.4232/1.13325</td>\n",
       "      <td>1.0.0 (2019-08-05)</td>\n",
       "      <td>3475</td>\n",
       "      <td>1</td>\n",
       "      <td>1</td>\n",
       "      <td>1</td>\n",
       "      <td>1</td>\n",
       "      <td>4</td>\n",
       "      <td>3</td>\n",
       "      <td>...</td>\n",
       "      <td>3</td>\n",
       "      <td>33</td>\n",
       "      <td>90</td>\n",
       "      <td>10</td>\n",
       "      <td>7</td>\n",
       "      <td>121</td>\n",
       "      <td>1.207859</td>\n",
       "      <td>1.741771</td>\n",
       "      <td>1.198172</td>\n",
       "      <td>2.086941</td>\n",
       "    </tr>\n",
       "    <tr>\n",
       "      <th>3475</th>\n",
       "      <td>5272</td>\n",
       "      <td>doi:10.4232/1.13325</td>\n",
       "      <td>1.0.0 (2019-08-05)</td>\n",
       "      <td>3476</td>\n",
       "      <td>1</td>\n",
       "      <td>1</td>\n",
       "      <td>1</td>\n",
       "      <td>1</td>\n",
       "      <td>4</td>\n",
       "      <td>3</td>\n",
       "      <td>...</td>\n",
       "      <td>5</td>\n",
       "      <td>27</td>\n",
       "      <td>30</td>\n",
       "      <td>9</td>\n",
       "      <td>4</td>\n",
       "      <td>138</td>\n",
       "      <td>1.207859</td>\n",
       "      <td>0.870885</td>\n",
       "      <td>1.198172</td>\n",
       "      <td>1.043471</td>\n",
       "    </tr>\n",
       "    <tr>\n",
       "      <th>3476</th>\n",
       "      <td>5272</td>\n",
       "      <td>doi:10.4232/1.13325</td>\n",
       "      <td>1.0.0 (2019-08-05)</td>\n",
       "      <td>3477</td>\n",
       "      <td>2</td>\n",
       "      <td>1</td>\n",
       "      <td>2</td>\n",
       "      <td>2</td>\n",
       "      <td>4</td>\n",
       "      <td>3</td>\n",
       "      <td>...</td>\n",
       "      <td>2</td>\n",
       "      <td>14</td>\n",
       "      <td>160</td>\n",
       "      <td>8</td>\n",
       "      <td>6</td>\n",
       "      <td>142</td>\n",
       "      <td>0.544808</td>\n",
       "      <td>1.659762</td>\n",
       "      <td>0.566418</td>\n",
       "      <td>0.940118</td>\n",
       "    </tr>\n",
       "  </tbody>\n",
       "</table>\n",
       "<p>3477 rows × 708 columns</p>\n",
       "</div>"
      ],
      "text/plain": [
       "      za_nr                  doi             version  respid  eastwest  \\\n",
       "0      5272  doi:10.4232/1.13325  1.0.0 (2019-08-05)       1         1   \n",
       "1      5272  doi:10.4232/1.13325  1.0.0 (2019-08-05)       2         2   \n",
       "2      5272  doi:10.4232/1.13325  1.0.0 (2019-08-05)       3         1   \n",
       "3      5272  doi:10.4232/1.13325  1.0.0 (2019-08-05)       4         2   \n",
       "4      5272  doi:10.4232/1.13325  1.0.0 (2019-08-05)       5         2   \n",
       "...     ...                  ...                 ...     ...       ...   \n",
       "3472   5272  doi:10.4232/1.13325  1.0.0 (2019-08-05)    3473         2   \n",
       "3473   5272  doi:10.4232/1.13325  1.0.0 (2019-08-05)    3474         1   \n",
       "3474   5272  doi:10.4232/1.13325  1.0.0 (2019-08-05)    3475         1   \n",
       "3475   5272  doi:10.4232/1.13325  1.0.0 (2019-08-05)    3476         1   \n",
       "3476   5272  doi:10.4232/1.13325  1.0.0 (2019-08-05)    3477         2   \n",
       "\n",
       "      german  ep01  ep03  ep04  ep06  ...  xi04  xi05  land  bik  gkpol  xs11  \\\n",
       "0          1     1     2     2     3  ...     3     9    90    4      1     2   \n",
       "1          1     2     4     3     3  ...     1     3   150    8      6    69   \n",
       "2          1     2     2     3     2  ...     5    27    30    9      4   138   \n",
       "3          1     2     2     3     3  ...     5    11   120    9      2    74   \n",
       "4          1     3     2     3     2  ...     5    12   140   10      7    42   \n",
       "...      ...   ...   ...   ...   ...  ...   ...   ...   ...  ...    ...   ...   \n",
       "3472       1     3     2     3     3  ...     1     8   160    3      3    98   \n",
       "3473       1     2     2     4     3  ...     1     4    20   10      7   132   \n",
       "3474       1     1     1     4     3  ...     3    33    90   10      7   121   \n",
       "3475       1     1     1     4     3  ...     5    27    30    9      4   138   \n",
       "3476       1     2     2     4     3  ...     2    14   160    8      6   142   \n",
       "\n",
       "       wghtpew    wghtht   wghthew  wghthtew  \n",
       "0     1.207859  0.870885  1.198172  1.043471  \n",
       "1     0.544808  0.829881  0.566418  0.470059  \n",
       "2     1.207859  0.870885  1.198172  1.043471  \n",
       "3     0.544808  0.829881  0.566418  0.470059  \n",
       "4     0.544808  0.829881  0.566418  0.470059  \n",
       "...        ...       ...       ...       ...  \n",
       "3472  0.544808  0.829881  0.566418  0.470059  \n",
       "3473  1.207859  0.870885  1.198172  1.043471  \n",
       "3474  1.207859  1.741771  1.198172  2.086941  \n",
       "3475  1.207859  0.870885  1.198172  1.043471  \n",
       "3476  0.544808  1.659762  0.566418  0.940118  \n",
       "\n",
       "[3477 rows x 708 columns]"
      ]
     },
     "execution_count": 2,
     "metadata": {},
     "output_type": "execute_result"
    }
   ],
   "source": [
    "dtafile = 'data/data.dta'\n",
    "\n",
    "df = pd.read_stata(dtafile, convert_categoricals = False)\n",
    "df"
   ]
  },
  {
   "cell_type": "code",
   "execution_count": 28,
   "id": "a51e33d1",
   "metadata": {},
   "outputs": [],
   "source": [
    "csvFile = pd.read_csv('data.csv')"
   ]
  },
  {
   "cell_type": "code",
   "execution_count": 3,
   "id": "3deb3199",
   "metadata": {},
   "outputs": [],
   "source": [
    "def tidy_abortion_df():\n",
    "    \"\"\"\n",
    "    Create dataframe with variables relevant for all hypotheses concerning abortion\n",
    "    \"\"\"\n",
    "    \n",
    "    # load data\n",
    "    df = pd.read_stata('data/data.dta', convert_categoricals = False)\n",
    "    # choose relevant columns / variables  \n",
    "    abortion_df = df[[\"sex\", \"age\", \"J005\", \"rd01\", \"J029\"]]\n",
    "    # remove all values below 0 of abortion response, as negative values indicate not apllicable\n",
    "    abortion_df = abortion_df[(abortion_df.J005 > 0)]\n",
    "    # rename columns\n",
    "    abortion_df = abortion_df. rename(columns = {\"J005\": \"response to abortion\", \"rd01\": \"denomination\", \"J029\": \"religious assessment\"})\n",
    "    # rename values \n",
    "    abortion_df = abortion_df.replace({\"sex\": {1: \"male\", 2: \"female\"},\n",
    "                                      \"denomination\": {1: \"protestant church (w.o. free church)\", 2: \"protestant church\", 3: \"roman catholic church\", 4: \"other christian religious group\", 5: \"other non christian religious group\", 6: \"no religious group\", -9: np.nan, -7: np.nan},\n",
    "                                      \"religious assessment\": {1: \"deeply religious\", 2: \"very religious\", 3: \"rather religious\", 4: \"neither nor\", 5: \"rather not religious\", 6: \"not religious\", 7: \"not religious at all\", -13: np.nan, -12: np.nan, -9: np.nan, -8: np.nan}})  \n",
    "    \n",
    "    return abortion_df"
   ]
  },
  {
   "cell_type": "code",
   "execution_count": 18,
   "id": "a087ef9c",
   "metadata": {},
   "outputs": [
    {
     "name": "stdout",
     "output_type": "stream",
     "text": [
      "         sex  age  response to abortion                          denomination  \\\n",
      "1     female   64                     4                    no religious group   \n",
      "5       male   41                     1  protestant church (w.o. free church)   \n",
      "10      male   37                     4                    no religious group   \n",
      "11    female   77                     3                 roman catholic church   \n",
      "13      male   46                     4                    no religious group   \n",
      "...      ...  ...                   ...                                   ...   \n",
      "3467  female   60                     3  protestant church (w.o. free church)   \n",
      "3468  female   69                     4                    no religious group   \n",
      "3471  female   43                     1                    no religious group   \n",
      "3472  female   32                     1                    no religious group   \n",
      "3476    male   88                     3                    no religious group   \n",
      "\n",
      "      religious assessment  \n",
      "1     not religious at all  \n",
      "5     rather not religious  \n",
      "10    not religious at all  \n",
      "11        rather religious  \n",
      "13    rather not religious  \n",
      "...                    ...  \n",
      "3467      rather religious  \n",
      "3468           neither nor  \n",
      "3471  not religious at all  \n",
      "3472  not religious at all  \n",
      "3476  not religious at all  \n",
      "\n",
      "[1570 rows x 5 columns]\n"
     ]
    },
    {
     "data": {
      "text/html": [
       "<div>\n",
       "<style scoped>\n",
       "    .dataframe tbody tr th:only-of-type {\n",
       "        vertical-align: middle;\n",
       "    }\n",
       "\n",
       "    .dataframe tbody tr th {\n",
       "        vertical-align: top;\n",
       "    }\n",
       "\n",
       "    .dataframe thead th {\n",
       "        text-align: right;\n",
       "    }\n",
       "</style>\n",
       "<table border=\"1\" class=\"dataframe\">\n",
       "  <thead>\n",
       "    <tr style=\"text-align: right;\">\n",
       "      <th></th>\n",
       "      <th>sex</th>\n",
       "      <th>age</th>\n",
       "      <th>response to abortion</th>\n",
       "      <th>denomination</th>\n",
       "      <th>religious assessment</th>\n",
       "    </tr>\n",
       "  </thead>\n",
       "  <tbody>\n",
       "    <tr>\n",
       "      <th>count</th>\n",
       "      <td>1570</td>\n",
       "      <td>1570.000000</td>\n",
       "      <td>1570.000000</td>\n",
       "      <td>1569</td>\n",
       "      <td>1533</td>\n",
       "    </tr>\n",
       "    <tr>\n",
       "      <th>unique</th>\n",
       "      <td>2</td>\n",
       "      <td>NaN</td>\n",
       "      <td>NaN</td>\n",
       "      <td>6</td>\n",
       "      <td>7</td>\n",
       "    </tr>\n",
       "    <tr>\n",
       "      <th>top</th>\n",
       "      <td>male</td>\n",
       "      <td>NaN</td>\n",
       "      <td>NaN</td>\n",
       "      <td>no religious group</td>\n",
       "      <td>not religious at all</td>\n",
       "    </tr>\n",
       "    <tr>\n",
       "      <th>freq</th>\n",
       "      <td>792</td>\n",
       "      <td>NaN</td>\n",
       "      <td>NaN</td>\n",
       "      <td>621</td>\n",
       "      <td>461</td>\n",
       "    </tr>\n",
       "    <tr>\n",
       "      <th>mean</th>\n",
       "      <td>NaN</td>\n",
       "      <td>51.313376</td>\n",
       "      <td>2.667516</td>\n",
       "      <td>NaN</td>\n",
       "      <td>NaN</td>\n",
       "    </tr>\n",
       "    <tr>\n",
       "      <th>std</th>\n",
       "      <td>NaN</td>\n",
       "      <td>17.800570</td>\n",
       "      <td>1.198694</td>\n",
       "      <td>NaN</td>\n",
       "      <td>NaN</td>\n",
       "    </tr>\n",
       "    <tr>\n",
       "      <th>min</th>\n",
       "      <td>NaN</td>\n",
       "      <td>18.000000</td>\n",
       "      <td>1.000000</td>\n",
       "      <td>NaN</td>\n",
       "      <td>NaN</td>\n",
       "    </tr>\n",
       "    <tr>\n",
       "      <th>25%</th>\n",
       "      <td>NaN</td>\n",
       "      <td>37.000000</td>\n",
       "      <td>1.000000</td>\n",
       "      <td>NaN</td>\n",
       "      <td>NaN</td>\n",
       "    </tr>\n",
       "    <tr>\n",
       "      <th>50%</th>\n",
       "      <td>NaN</td>\n",
       "      <td>52.000000</td>\n",
       "      <td>3.000000</td>\n",
       "      <td>NaN</td>\n",
       "      <td>NaN</td>\n",
       "    </tr>\n",
       "    <tr>\n",
       "      <th>75%</th>\n",
       "      <td>NaN</td>\n",
       "      <td>65.000000</td>\n",
       "      <td>4.000000</td>\n",
       "      <td>NaN</td>\n",
       "      <td>NaN</td>\n",
       "    </tr>\n",
       "    <tr>\n",
       "      <th>max</th>\n",
       "      <td>NaN</td>\n",
       "      <td>94.000000</td>\n",
       "      <td>4.000000</td>\n",
       "      <td>NaN</td>\n",
       "      <td>NaN</td>\n",
       "    </tr>\n",
       "  </tbody>\n",
       "</table>\n",
       "</div>"
      ],
      "text/plain": [
       "         sex          age  response to abortion        denomination  \\\n",
       "count   1570  1570.000000           1570.000000                1569   \n",
       "unique     2          NaN                   NaN                   6   \n",
       "top     male          NaN                   NaN  no religious group   \n",
       "freq     792          NaN                   NaN                 621   \n",
       "mean     NaN    51.313376              2.667516                 NaN   \n",
       "std      NaN    17.800570              1.198694                 NaN   \n",
       "min      NaN    18.000000              1.000000                 NaN   \n",
       "25%      NaN    37.000000              1.000000                 NaN   \n",
       "50%      NaN    52.000000              3.000000                 NaN   \n",
       "75%      NaN    65.000000              4.000000                 NaN   \n",
       "max      NaN    94.000000              4.000000                 NaN   \n",
       "\n",
       "        religious assessment  \n",
       "count                   1533  \n",
       "unique                     7  \n",
       "top     not religious at all  \n",
       "freq                     461  \n",
       "mean                     NaN  \n",
       "std                      NaN  \n",
       "min                      NaN  \n",
       "25%                      NaN  \n",
       "50%                      NaN  \n",
       "75%                      NaN  \n",
       "max                      NaN  "
      ]
     },
     "execution_count": 18,
     "metadata": {},
     "output_type": "execute_result"
    }
   ],
   "source": [
    "\"\"\"\n",
    "Create dataframe with variables relevant for all hypotheses concerning abortion\n",
    "\"\"\"\n",
    "\n",
    "# choose relevant columns / variables  \n",
    "abortion_df = df[[\"sex\", \"age\", \"J005\", \"rd01\", \"J029\"]]\n",
    "# remove all values below 0 of abortion response, as negative values indicate not apllicable\n",
    "abortion_df = abortion_df[(abortion_df.J005 > 0)]\n",
    "# rename columns\n",
    "abortion_df = abortion_df. rename(columns = {\"J005\": \"response to abortion\", \"rd01\": \"denomination\", \"J029\": \"religious assessment\"})\n",
    "\n",
    "# rename values \n",
    "abortion_df = abortion_df.replace({\"sex\": {1: \"male\", 2: \"female\"},\n",
    "                                  \"denomination\": {1: \"protestant church (w.o. free church)\", 2: \"protestant church\", 3: \"roman catholic church\", 4: \"other christian religious group\", 5: \"other non christian religious group\", 6: \"no religious group\", -9: np.nan, -7: np.nan},\n",
    "                                  \"religious assessment\": {1: \"deeply religious\", 2: \"very religious\", 3: \"rather religious\", 4: \"neither nor\", 5: \"rather not religious\", 6: \"not religious\", 7: \"not religious at all\", -13: np.nan, -12: np.nan, -9: np.nan, -8: np.nan}})\n",
    "\n",
    "\n",
    "print(abortion_df)\n",
    "\n",
    "\n",
    "# summary statistic\n",
    "summary = abortion_df.describe(include='all')\n",
    "summary\n",
    "\n",
    "\n",
    "# df.dropna()"
   ]
  },
  {
   "cell_type": "code",
   "execution_count": 35,
   "id": "b3885cf6",
   "metadata": {},
   "outputs": [],
   "source": [
    "# helper function, used for abortion_sex() and abortion_rel()\n",
    "def percentage_mean_max(df, quantity):\n",
    "    \"\"\"\n",
    "    doc:\n",
    "    \"\"\"\n",
    "    \n",
    "    df[\"percentage\"] = df[\"counts\"]/quantity\n",
    "    percentage_arr = df[\"percentage\"].to_numpy()\n",
    "    mean = df[\"counts\"].to_numpy()@df[\"response to abortion\"].to_numpy()/quantity\n",
    "    maxval = df[\"response to abortion\"].to_numpy()[df[\"counts\"].to_numpy().argmax()]\n",
    "    \n",
    "    return df,percentage_arr, mean, maxval"
   ]
  },
  {
   "cell_type": "code",
   "execution_count": 36,
   "id": "62c80f40",
   "metadata": {},
   "outputs": [],
   "source": [
    "# helper function to check whether a sample is likely coming from a normal distribution\n",
    "def normal_shapiro(data, column, bins):\n",
    "    \"\"\"\n",
    "    Check whether some data column is likely normally distributed \n",
    "    \"\"\"\n",
    "    fig = px.histogram(data, x = column, nbins = bins, title = \"Histogram for '\"+ column + \"'\")\n",
    "    fig.show()\n",
    "\n",
    "    statistic, pvalue = stats.shapiro(data[column])\n",
    "    print('\\033[1m' + \"Shapiro-Wilk Test:\\n\\n\" + '\\033[0m'+\"Statistic: \", statistic, \"\\nPvalue: \", pvalue)\n",
    "    \n",
    "    return"
   ]
  },
  {
   "cell_type": "code",
   "execution_count": 76,
   "id": "3f95db66",
   "metadata": {},
   "outputs": [],
   "source": [
    "# could still add mean and max response of males and females to summarizing df \n",
    "# test still missing\n",
    "def abortion_sex():\n",
    "    \"\"\"\n",
    "    Check for correlation between sex and response to abortion by counting responses\n",
    "    of males and females and plotting the percentage\n",
    "    \"\"\"\n",
    "    \n",
    "    print(\"\\n\" + '\\033[1m' + 'Hypothesis 1: Is there any relation between the response concerning abortion and sex?' + '\\033[0m')\n",
    "    \n",
    "    # choosing relevant columns\n",
    "    abortion_df = tidy_abortion_df()\n",
    "    abse_df = abortion_df[[\"sex\", \"response to abortion\"]]\n",
    "        \n",
    "    # group_by\n",
    "    abse_group_df = abse_df.groupby([\"sex\",\"response to abortion\"]).value_counts().reset_index()\n",
    "    abse_group_df = abse_group_df.rename(columns = {0:\"counts\"})\n",
    "    \n",
    "    # get counts of how many males and how many females \n",
    "    quantity = abse_df[\"sex\"].value_counts()\n",
    "    quantity_males = np.asarray(quantity)[0]\n",
    "    quantity_females = np.asarray(quantity)[1]\n",
    "    \n",
    "    # split df for males and females \n",
    "    females_df = abse_group_df[:4]\n",
    "    males_df = abse_group_df[4:]\n",
    "    \n",
    "    # get percentage of male and female counts on response to abortion\n",
    "    males_df[\"percentage\"] = males_df[\"counts\"]/quantity_males\n",
    "    females_df[\"percentage\"] = females_df[\"counts\"]/quantity_females\n",
    "    \n",
    "    males_percentage = males_df[\"percentage\"].to_numpy()\n",
    "    females_percentage = females_df[\"percentage\"].to_numpy()\n",
    "    \n",
    "    values = males_df[\"response to abortion\"].to_numpy()\n",
    "    \n",
    "    # add percentage to grouped df\n",
    "    abse_group_df = pd.concat([females_df, males_df])\n",
    "    print(\"\\n Grouped Dataframe: \\n\\n\",abse_group_df, \"\\n\")\n",
    "    \n",
    "    \n",
    "    females_counts = females_df[\"counts\"].to_numpy()\n",
    "    mean_female_response = females_counts@values / quantity_females\n",
    "    print(\"mean female response:\", mean_female_response)\n",
    "    males_counts = males_df[\"counts\"].to_numpy()\n",
    "    mean_male_response = males_counts@values / quantity_males\n",
    "    print(\"mean male response:\", mean_male_response)\n",
    "    \n",
    "    # line plot for response to abortion of males and females in percentage \n",
    "    plt.plot(values, males_percentage, 'o-g')\n",
    "    plt.plot(values, females_percentage, 'o-b')\n",
    "    plt.legend(['males', 'females'])\n",
    "    plt.title(\"Response to abortion depending on sex in percentage\\n\")\n",
    "    plt.xlabel(\"Response to abortion in numeric values\")\n",
    "    plt.ylabel(\"percentage\")\n",
    "    plt.xticks(ticks=values, labels=values)\n",
    "    plt.show()\n",
    "    \n",
    "    return "
   ]
  },
  {
   "cell_type": "code",
   "execution_count": 74,
   "id": "430add2d",
   "metadata": {},
   "outputs": [],
   "source": [
    "# could still add mean and max response of males and females to summarizing df \n",
    "# test still missing\n",
    "def abortion_sex():\n",
    "    \"\"\"\n",
    "    Check for correlation between sex and response to abortion by counting responses\n",
    "    of males and females and plotting the percentage\n",
    "    \"\"\"\n",
    "    \n",
    "    print(\"\\n\" + '\\033[1m' + 'Hypothesis 1: Is there any relation between the response concerning abortion and sex?' + '\\033[0m')\n",
    "    \n",
    "    # choosing relevant columns\n",
    "    abortion_df = tidy_abortion_df()\n",
    "    abse_df = abortion_df[[\"sex\", \"response to abortion\"]]\n",
    "        \n",
    "    # group_by\n",
    "    abse_group_df = abse_df.groupby([\"sex\",\"response to abortion\"]).value_counts().reset_index()\n",
    "    abse_group_df = abse_group_df.rename(columns = {0:\"counts\"})\n",
    "    \n",
    "    # get counts of how many males and how many females \n",
    "    quantity = abse_df[\"sex\"].value_counts()\n",
    "    quantity_males = np.asarray(quantity)[0]\n",
    "    quantity_females = np.asarray(quantity)[1]\n",
    "    \n",
    "    # split df for males and females \n",
    "    females_df = abse_group_df[:4]\n",
    "    males_df = abse_group_df[4:]\n",
    "    \n",
    "    values = males_df[\"response to abortion\"].to_numpy()\n",
    "    \n",
    "    # use function to get percentage, mean and max values respectively \n",
    "    females_df, females_percentage, mean_female_response, max_female_response = percentage_mean_max(females_df, quantity_females)\n",
    "    males_df, males_percentage, mean_male_response, max_male_response = percentage_mean_max(males_df, quantity_males)\n",
    "\n",
    "    # add percentage to grouped df\n",
    "    abse_group_df = pd.concat([females_df, males_df])\n",
    "    print(\"\\n Grouped Dataframe: \\n\\n\",abse_group_df, \"\\n\")\n",
    "    \n",
    "    # summary df with mean and max response\n",
    "    zipped = list(zip(set(abse_df[\"sex\"].to_numpy()), [mean_male_response, mean_female_response], [max_male_response, max_female_response]))\n",
    "    summary_df = pd.DataFrame(zipped, columns = [\"Age\", \"Mean Response\", \"Max Response\"])\n",
    "    print(\"\\nSummary:\\n\\n\",summary_df)\n",
    "    \n",
    "    # line plot for response to abortion of males and females in percentage \n",
    "    plt.plot(values, males_percentage, 'o-g')\n",
    "    plt.plot(values, females_percentage, 'o-b')\n",
    "    plt.legend(['males', 'females'])\n",
    "    plt.title(\"Response to abortion depending on sex in percentage\\n\")\n",
    "    plt.xlabel(\"Response to abortion in numeric values\")\n",
    "    plt.ylabel(\"percentage\")\n",
    "    plt.xticks(ticks=values, labels=values)\n",
    "    plt.show()\n",
    "    \n",
    "    return "
   ]
  },
  {
   "cell_type": "code",
   "execution_count": 70,
   "id": "3b82354a",
   "metadata": {},
   "outputs": [],
   "source": [
    "# helper function, used for abortion_sex() and abortion_rel()\n",
    "def percentage_mean_max(df, quantity):\n",
    "    \"\"\"\n",
    "    doc:\n",
    "    \"\"\"\n",
    "    \n",
    "    df[\"percentage\"] = df[\"counts\"]/quantity\n",
    "    percentage_arr = df[\"percentage\"].to_numpy()\n",
    "    mean = df[\"counts\"].to_numpy()@df[\"response to abortion\"].to_numpy()/quantity\n",
    "    maxval = df[\"response to abortion\"].to_numpy()[df[\"counts\"].to_numpy().argmax()]\n",
    "    \n",
    "    return df,percentage_arr, mean, maxval"
   ]
  },
  {
   "cell_type": "code",
   "execution_count": 75,
   "id": "ca81d0d2",
   "metadata": {},
   "outputs": [
    {
     "name": "stdout",
     "output_type": "stream",
     "text": [
      "\n",
      "\u001b[1mHypothesis 1: Is there any relation between the response concerning abortion and sex?\u001b[0m\n",
      "\n",
      " Grouped Dataframe: \n",
      "\n",
      "       sex  response to abortion  counts  percentage\n",
      "0  female                     1     198    0.254499\n",
      "1  female                     2     125    0.160668\n",
      "2  female                     3     169    0.217224\n",
      "3  female                     4     286    0.367609\n",
      "4    male                     1     212    0.267677\n",
      "5    male                     2     120    0.151515\n",
      "6    male                     3     203    0.256313\n",
      "7    male                     4     257    0.324495 \n",
      "\n",
      "\n",
      "Summary:\n",
      "\n",
      "       Age  Mean Response  Max Response\n",
      "0    male       2.637626             4\n",
      "1  female       2.697943             4\n"
     ]
    },
    {
     "data": {
      "image/png": "[encoded data removed]",
      "text/plain": [
       "<Figure size 432x288 with 1 Axes>"
      ]
     },
     "metadata": {
      "needs_background": "light"
     },
     "output_type": "display_data"
    }
   ],
   "source": [
    "abortion_sex2()"
   ]
  },
  {
   "cell_type": "code",
   "execution_count": 77,
   "id": "4a60279a",
   "metadata": {},
   "outputs": [
    {
     "name": "stdout",
     "output_type": "stream",
     "text": [
      "\n",
      "\u001b[1mHypothesis 1: Is there any relation between the response concerning abortion and sex?\u001b[0m\n",
      "\n",
      " Grouped Dataframe: \n",
      "\n",
      "       sex  response to abortion  counts  percentage\n",
      "0  female                     1     198    0.254499\n",
      "1  female                     2     125    0.160668\n",
      "2  female                     3     169    0.217224\n",
      "3  female                     4     286    0.367609\n",
      "4    male                     1     212    0.267677\n",
      "5    male                     2     120    0.151515\n",
      "6    male                     3     203    0.256313\n",
      "7    male                     4     257    0.324495 \n",
      "\n",
      "mean female response: 2.697943444730077\n",
      "mean male response: 2.6376262626262625\n"
     ]
    },
    {
     "data": {
      "image/png": "[encoded data removed]",
      "text/plain": [
       "<Figure size 432x288 with 1 Axes>"
      ]
     },
     "metadata": {
      "needs_background": "light"
     },
     "output_type": "display_data"
    }
   ],
   "source": [
    "abortion_sex()"
   ]
  },
  {
   "cell_type": "code",
   "execution_count": 19,
   "id": "6c1d7529",
   "metadata": {},
   "outputs": [
    {
     "name": "stdout",
     "output_type": "stream",
     "text": [
      "      sex  response to abortion  counts  percentage\n",
      "0  female                     1     198    0.254499\n",
      "1  female                     2     125    0.160668\n",
      "2  female                     3     169    0.217224\n",
      "3  female                     4     286    0.367609\n",
      "4    male                     1     212    0.267677\n",
      "5    male                     2     120    0.151515\n",
      "6    male                     3     203    0.256313\n",
      "7    male                     4     257    0.324495\n"
     ]
    },
    {
     "data": {
      "text/plain": [
       "<matplotlib.legend.Legend at 0x7f7ddbcbc430>"
      ]
     },
     "execution_count": 19,
     "metadata": {},
     "output_type": "execute_result"
    },
    {
     "data": {
      "image/png": "[encoded data removed]",
      "text/plain": [
       "<Figure size 432x288 with 1 Axes>"
      ]
     },
     "metadata": {
      "needs_background": "light"
     },
     "output_type": "display_data"
    }
   ],
   "source": [
    "abse_df = abortion_df[[\"sex\", \"response to abortion\"]]\n",
    "    \n",
    "# group_by\n",
    "abse_group_df = abse_df.groupby([\"sex\",\"response to abortion\"]).value_counts().reset_index()\n",
    "abse_group_df = abse_group_df.rename(columns = {0:\"counts\"})\n",
    "\n",
    "quantity = abse_df[\"sex\"].value_counts()\n",
    "quantity_males = np.asarray(quantity)[0]\n",
    "quantity_females = np.asarray(quantity)[1]\n",
    "\n",
    "females_df = abse_group_df[:4]\n",
    "males_df = abse_group_df[4:]\n",
    "\n",
    "males_df[\"percentage\"] = males_df[\"counts\"]/quantity_males\n",
    "females_df[\"percentage\"] = females_df[\"counts\"]/quantity_females\n",
    "\n",
    "males_percentage = males_df[\"percentage\"].to_numpy()\n",
    "females_percentage = females_df[\"percentage\"].to_numpy()\n",
    "\n",
    "values = males_df[\"response to abortion\"].to_numpy()\n",
    "\n",
    "abse_group_df = pd.concat([females_df, males_df])\n",
    "print(abse_group_df)\n",
    "\n",
    "# line plot for response to abortion of males and females in percentage \n",
    "plt.plot(values, males_percentage, 'o-g')\n",
    "plt.plot(values, females_percentage, 'o-b')\n",
    "plt.legend(['males', 'females'])\n",
    "\n"
   ]
  },
  {
   "cell_type": "code",
   "execution_count": null,
   "id": "b1214c42",
   "metadata": {},
   "outputs": [],
   "source": []
  },
  {
   "cell_type": "code",
   "execution_count": 20,
   "id": "2b02cea9",
   "metadata": {
    "scrolled": true
   },
   "outputs": [
    {
     "name": "stdout",
     "output_type": "stream",
     "text": [
      "      sex  J005\n",
      "1       2     4\n",
      "5       1     1\n",
      "10      1     4\n",
      "11      2     3\n",
      "13      1     4\n",
      "...   ...   ...\n",
      "3467    2     3\n",
      "3468    2     4\n",
      "3471    2     1\n",
      "3472    2     1\n",
      "3476    1     3\n",
      "\n",
      "[1570 rows x 2 columns]\n",
      "   sex  J005  counts\n",
      "0    1     1     212\n",
      "1    1     2     120\n",
      "2    1     3     203\n",
      "3    1     4     257\n",
      "4    2     1     198\n",
      "5    2     2     125\n",
      "6    2     3     169\n",
      "7    2     4     286\n",
      "792\n",
      "778\n",
      "   sex  J005  counts  percentage\n",
      "0    1     1     212    0.267677\n",
      "1    1     2     120    0.151515\n",
      "2    1     3     203    0.256313\n",
      "3    1     4     257    0.324495\n",
      "4    2     1     198    0.254499\n",
      "5    2     2     125    0.160668\n",
      "6    2     3     169    0.217224\n",
      "7    2     4     286    0.367609\n"
     ]
    },
    {
     "data": {
      "image/png": "[encoded data removed]",
      "text/plain": [
       "<Figure size 432x288 with 1 Axes>"
      ]
     },
     "metadata": {
      "needs_background": "light"
     },
     "output_type": "display_data"
    }
   ],
   "source": [
    "pd.options.mode.chained_assignment = None\n",
    "\n",
    "\"\"\"\n",
    "Check for correlation between abortion response and sex\n",
    "\"\"\"\n",
    "\n",
    "small_df = df[[\"sex\",\"J005\"]]\n",
    "small_df = small_df[(small_df.J005 > 0)]\n",
    "\n",
    "print(small_df)\n",
    "\n",
    "group_df = small_df.groupby([\"sex\",\"J005\"]).value_counts().reset_index()\n",
    "group_df = group_df.rename(columns = {0:\"counts\"})\n",
    "print(group_df)\n",
    "\n",
    "quantity = small_df[\"sex\"].value_counts()\n",
    "quantity_males = np.asarray(quantity)[0]\n",
    "quantity_females = np.asarray(quantity)[1]\n",
    "\n",
    "print(quantity_males)\n",
    "print(quantity_females)\n",
    "\n",
    "males_df = group_df[:4]\n",
    "females_df = group_df[4:]\n",
    "\n",
    "males_df[\"percentage\"] = males_df[\"counts\"]/quantity_males\n",
    "females_df[\"percentage\"] = females_df[\"counts\"]/quantity_females\n",
    "\n",
    "males_percentage = males_df[\"percentage\"].to_numpy()\n",
    "females_percentage = females_df[\"percentage\"].to_numpy()\n",
    "\n",
    "values = males_df[\"J005\"].to_numpy()\n",
    "\n",
    "plt.plot(values, males_percentage, 'o-g')\n",
    "plt.plot(values, females_percentage, 'o-b')\n",
    "plt.legend(['males', 'females'])\n",
    "\n",
    "abse_group_df = pd.concat([males_df, females_df])\n",
    "print(group_df)"
   ]
  },
  {
   "cell_type": "code",
   "execution_count": 12,
   "id": "b6281ac4",
   "metadata": {},
   "outputs": [],
   "source": [
    "# Fehlt: test\n",
    "# Fehlt: plot beschriftung\n",
    "# Idee: plot mit shared x axis anstat zwei plots komplett individuell \n",
    "# könnte man noch machen: die dfs zusammen führen als eins \n",
    "# könnte man noch machen: age bins und nochmal alles \n",
    "def abortion_age():\n",
    "    \"\"\"\n",
    "    doc:\n",
    "    \"\"\"\n",
    "    \n",
    "    print(\"\\n\" + '\\033[1m' + 'Hypothesis 2: Is there a any relation between the response to abortion and the age?' + '\\033[0m')\n",
    "    \n",
    "    # choose relevant columns and remove rows containing nans\n",
    "    abortion_df = tidy_abortion_df()\n",
    "    abag_df = abortion_df[[\"age\", \"response to abortion\"]]\n",
    "    abag_df = abag_df.dropna()\n",
    "    \n",
    "    # grouped df\n",
    "    abag_group_df = abag_df.groupby([\"age\",\"response to abortion\"]).value_counts().reset_index()\n",
    "    abag_group_df = abag_group_df.rename(columns = {0:\"counts\"})\n",
    "    print(\"\\nGrouped Dataframe:\\n\\n\",abag_group_df)\n",
    "    \n",
    "    # get mean and max response to abortion from each age group\n",
    "    counts = abag_group_df['counts'].to_numpy()\n",
    "    ages = abag_group_df['age'].to_numpy()\n",
    "    values = abag_group_df['response to abortion'].to_numpy()\n",
    "    \n",
    "    individual_ages = set(ages)\n",
    "    mean_values = []\n",
    "    max_values = []\n",
    "    \n",
    "    for element in individual_ages:\n",
    "        inter = 0\n",
    "        counter = 0\n",
    "        mval = 0\n",
    "        m = 0\n",
    "        for i,val in enumerate(ages):\n",
    "            if val == element:\n",
    "                inter += values[i]*counts[i]\n",
    "                counter += counts[i]\n",
    "                \n",
    "                if counts[i] > mval:\n",
    "                    mval = counts[i]\n",
    "                    m = values[i]\n",
    "                \n",
    "        mean_values.append(inter/counter)\n",
    "        max_values.append(m)\n",
    "    \n",
    "    # summary df containing each age group and the mean and max response to abortion\n",
    "    zipped = list(zip(individual_ages, mean_values, max_values))\n",
    "    summary_df = pd.DataFrame(zipped, columns = [\"Age\", \"Mean Response\", \"Max Response\"])\n",
    "    print(\"\\nSummary:\\n\\n\",summary_df)    \n",
    "    \n",
    "    # scatterplots for mean and max response\n",
    "#     plt.scatter(list(individual_ages), mean_values)\n",
    "#     plt.title(\"Mean response to abortion of every age\")\n",
    "#     plt.xlabel(\"ages\")\n",
    "#     plt.ylabel(\"numeric response to abortion\")\n",
    "#     plt.show()\n",
    "#     plt.scatter(list(individual_ages), max_values)\n",
    "#     plt.title(\"Max response to abortion of every age\")\n",
    "#     plt.xlabel(\"ages\")\n",
    "#     plt.ylabel(\"numeric response to abortion\")\n",
    "#     plt.yticks(list(set(max_values)), list(set(max_values)) )\n",
    "#     plt.show()\n",
    "\n",
    "#     fig, ax = plt.subplots(2,1, sharex = True)\n",
    "#     ax[0].scatter(list(individual_ages), mean_values)\n",
    "#     ax[1].scatter(list(individual_ages), max_values)\n",
    "#     plt.show()\n",
    "\n",
    "#     fig = plt.figure\n",
    "#     ax1 = plt.subplot(211)\n",
    "#     ax2 = plt.subplot(212, sharex = ax1)\n",
    "    \n",
    "#     ax1.scatter(list(individual_ages), mean_values)\n",
    "#     ax2.scatter(list(individual_ages), max_values)\n",
    "    \n",
    "#     plt.show()\n",
    "    \n",
    "    fig, (ax1, ax2) = plt.subplots(2)\n",
    "    ax1.scatter(list(individual_ages), mean_values)\n",
    "    ax2.scatter(list(individual_ages), max_values)\n",
    "    \n",
    "    plt.show()\n",
    "    \n",
    "    return "
   ]
  },
  {
   "cell_type": "code",
   "execution_count": 13,
   "id": "b713d3a3",
   "metadata": {},
   "outputs": [
    {
     "name": "stdout",
     "output_type": "stream",
     "text": [
      "\n",
      "\u001b[1mHypothesis 2: Is there a any relation between the response to abortion and the age?\u001b[0m\n",
      "\n",
      "Grouped Dataframe:\n",
      "\n",
      "      age  response to abortion  counts\n",
      "0     18                     1       1\n",
      "1     18                     3       6\n",
      "2     18                     4       8\n",
      "3     19                     1       6\n",
      "4     19                     2       2\n",
      "..   ...                   ...     ...\n",
      "278   89                     2       1\n",
      "279   90                     3       1\n",
      "280   92                     2       2\n",
      "281   92                     3       2\n",
      "282   94                     4       1\n",
      "\n",
      "[283 rows x 3 columns]\n",
      "\n",
      "Summary:\n",
      "\n",
      "     Age  Mean Response  Max Response\n",
      "0    18       3.400000             4\n",
      "1    19       2.631579             4\n",
      "2    20       2.312500             1\n",
      "3    21       3.000000             4\n",
      "4    22       2.333333             1\n",
      "..  ...            ...           ...\n",
      "70   88       2.600000             1\n",
      "71   89       1.333333             1\n",
      "72   90       3.000000             3\n",
      "73   92       2.500000             2\n",
      "74   94       4.000000             4\n",
      "\n",
      "[75 rows x 3 columns]\n"
     ]
    },
    {
     "data": {
      "image/png": "[encoded data removed]",
      "text/plain": [
       "<Figure size 432x288 with 2 Axes>"
      ]
     },
     "metadata": {
      "needs_background": "light"
     },
     "output_type": "display_data"
    }
   ],
   "source": [
    "abortion_age()"
   ]
  },
  {
   "cell_type": "code",
   "execution_count": 6,
   "id": "fe88cb67",
   "metadata": {},
   "outputs": [
    {
     "name": "stdout",
     "output_type": "stream",
     "text": [
      "     age  J005  counts\n",
      "0     18     1       1\n",
      "1     18     3       6\n",
      "2     18     4       8\n",
      "3     19     1       6\n",
      "4     19     2       2\n",
      "..   ...   ...     ...\n",
      "278   89     2       1\n",
      "279   90     3       1\n",
      "280   92     2       2\n",
      "281   92     3       2\n",
      "282   94     4       1\n",
      "\n",
      "[283 rows x 3 columns]\n",
      "    Age  Mean Response  Max Response\n",
      "0    18       3.400000             4\n",
      "1    19       2.631579             4\n",
      "2    20       2.312500             1\n",
      "3    21       3.000000             4\n",
      "4    22       2.333333             1\n",
      "..  ...            ...           ...\n",
      "70   88       2.600000             1\n",
      "71   89       1.333333             1\n",
      "72   90       3.000000             3\n",
      "73   92       2.500000             2\n",
      "74   94       4.000000             4\n",
      "\n",
      "[75 rows x 3 columns]\n"
     ]
    },
    {
     "data": {
      "image/png": "[encoded data removed]",
      "text/plain": [
       "<Figure size 432x288 with 1 Axes>"
      ]
     },
     "metadata": {
      "needs_background": "light"
     },
     "output_type": "display_data"
    },
    {
     "data": {
      "image/png": "[encoded data removed]",
      "text/plain": [
       "<Figure size 432x288 with 1 Axes>"
      ]
     },
     "metadata": {
      "needs_background": "light"
     },
     "output_type": "display_data"
    }
   ],
   "source": [
    "\"\"\"\n",
    "Check for correlation between response to abortion and age using mean and max response.\n",
    "No correlation found (according to scatterplot)\n",
    "\"\"\"\n",
    "\n",
    "new_df = df[[\"age\",\"J005\"]]\n",
    "new_df = new_df[(new_df.J005 > 0)]\n",
    "\n",
    "group_df = new_df.groupby([\"age\",\"J005\"]).value_counts().reset_index()\n",
    "group_df = group_df.rename(columns = {0:\"counts\"})\n",
    "print(group_df)\n",
    "\n",
    "counts = group_df['counts'].to_numpy()\n",
    "ages = group_df['age'].to_numpy()\n",
    "values = group_df['J005'].to_numpy()\n",
    "\n",
    "individual_ages = set(ages)\n",
    "mean_values = []\n",
    "max_values = []\n",
    "\n",
    "for element in individual_ages:\n",
    "    inter = 0\n",
    "    counter = 0\n",
    "    mval = 0\n",
    "    m = 0\n",
    "    for i,val in enumerate(ages):\n",
    "        if val == element:\n",
    "            inter += values[i]*counts[i]\n",
    "            counter += counts[i]\n",
    "            \n",
    "            if counts[i] > mval:\n",
    "                mval = counts[i]\n",
    "                m = values[i]\n",
    "            \n",
    "    mean_values.append(inter/counter)\n",
    "    max_values.append(m)\n",
    "\n",
    "\n",
    "zipped = list(zip(individual_ages, mean_values, max_values))\n",
    "summary_df = pd.DataFrame(zipped, columns = [\"Age\", \"Mean Response\", \"Max Response\"])\n",
    "print(summary_df)    \n",
    "    \n",
    "plt.scatter(list(individual_ages), mean_values)\n",
    "plt.show()\n",
    "plt.scatter(list(individual_ages), max_values)\n",
    "plt.show()\n",
    "\n"
   ]
  },
  {
   "cell_type": "code",
   "execution_count": 84,
   "id": "2824aab9",
   "metadata": {},
   "outputs": [],
   "source": [
    "def abortion_rel():\n",
    "    \"\"\"\n",
    "    doc:\n",
    "    \"\"\"\n",
    "    \n",
    "    print(\"\\n\" + '\\033[1m' + 'Hypothesis 3: Is there any relation between the response to abortion and christian religious assessment?' + '\\033[0m')\n",
    "    \n",
    "    # choose relevant columns and drop nan rows \n",
    "    abortion_df = tidy_abortion_df()\n",
    "    abre_df = abortion_df[[\"response to abortion\", \"denomination\", \"religious assessment\"]]\n",
    "    abre_df = abre_df.dropna()\n",
    "    # also drop rows on two other conditions\n",
    "    abre_df = abre_df[(abre_df[\"denomination\"] != \"other non christian religious group\") & (abre_df[\"religious assessment\"] != \"neither nor\" )]\n",
    "    \n",
    "    # merge some values \n",
    "    abre_df[\"religious assessment\"] = abre_df[\"religious assessment\"].replace([\"deeply religious\", \"very religious\", \"rather religious\"],\"religious\").replace([\"rather not religious\", \"not religious\", \"not religious at all\"], \"not religious\")\n",
    "    abre_df[\"denomination\"] = abre_df[\"denomination\"].replace([\"protestant church (w.o. free church)\", \"protestant church\", \"roman catholic church\", \"other christian religious group\"],\"christian\")\n",
    "    \n",
    "    # drop combination of religious self assessment and no religious denomination\n",
    "    index_names = abre_df[(abre_df[\"religious assessment\"] == \"religious\") & (abre_df[\"denomination\"] == \"no religious group\")].index\n",
    "    abre_df.drop(index_names, inplace = True)\n",
    "    \n",
    "    # groupby\n",
    "    abre_group_df = abre_df[[\"religious assessment\", \"response to abortion\"]].groupby([\"religious assessment\", \"response to abortion\"]).value_counts().reset_index()\n",
    "    abre_group_df = abre_group_df.rename(columns = {0:\"counts\"})   \n",
    "    \n",
    "    # get amount of religious and not religious people\n",
    "    quantity = abre_df[\"religious assessment\"].value_counts()\n",
    "    quantity_nr = np.asarray(quantity)[0]\n",
    "    quantity_r = np.asarray(quantity)[1]\n",
    "    \n",
    "    # split df into two for religious and not religious respectively\n",
    "    nr_df = abre_group_df[:4]\n",
    "    r_df = abre_group_df[4:]\n",
    "    \n",
    "    # response values (1 to 4)\n",
    "    values = nr_df[\"response to abortion\"].to_numpy()\n",
    "    \n",
    "    # use function to get percentage, mean and max response respectively\n",
    "    nr_df, nr_percentage, mean_nr_response, max_nr_response = percentage_mean_max(nr_df, quantity_nr)\n",
    "    r_df, r_percentage, mean_r_response, max_r_response = percentage_mean_max(r_df, quantity_r)\n",
    "    \n",
    "    # add percentage to grouped df\n",
    "    abre_group_df = pd.concat([nr_df, r_df])\n",
    "    print(\"\\nGrouped Dataframe:\\n\\n\",abre_group_df)\n",
    "    \n",
    "    # summray df with mean and max repsonse\n",
    "    zipped = list(zip(set(abre_df[\"religious assessment\"].to_numpy()), [mean_r_response, mean_nr_response], [max_r_response, max_nr_response]))\n",
    "    summary_df = pd.DataFrame(zipped, columns = [\"Religiuousness\", \"Mean Response\", \"Max Response\"])\n",
    "    print(\"\\nSummary:\\n\\n\",summary_df)\n",
    "    \n",
    "    # line plot \n",
    "    plt.plot(values, nr_percentage, 'o-g')\n",
    "    plt.plot(values, r_percentage, 'o-b')\n",
    "    plt.legend(['not religious', 'religious'])\n",
    "    plt.title(\"Response to abortion depending on religious self assessemnt in percentage\\n\")\n",
    "    plt.xlabel(\"Response to abortion in numeric values\")\n",
    "    plt.ylabel(\"percentage\")\n",
    "    plt.xticks(ticks=values, labels=values)\n",
    "    plt.show()\n",
    "    \n",
    "    return \n",
    "    "
   ]
  },
  {
   "cell_type": "code",
   "execution_count": 85,
   "id": "75bd3753",
   "metadata": {},
   "outputs": [
    {
     "name": "stdout",
     "output_type": "stream",
     "text": [
      "\n",
      "\u001b[1mHypothesis 3: Is there any relation between the response to abortion and christian religious assessment?\u001b[0m\n",
      "\n",
      "Grouped Dataframe:\n",
      "\n",
      "   religious assessment  response to abortion  counts  percentage\n",
      "0        not religious                     1     167    0.201205\n",
      "1        not religious                     2      94    0.113253\n",
      "2        not religious                     3     189    0.227711\n",
      "3        not religious                     4     380    0.457831\n",
      "4            religious                     1     150    0.349650\n",
      "5            religious                     2      98    0.228438\n",
      "6            religious                     3     100    0.233100\n",
      "7            religious                     4      81    0.188811\n",
      "\n",
      "Summary:\n",
      "\n",
      "   Religiuousness  Mean Response  Max Response\n",
      "0      religious       2.261072             1\n",
      "1  not religious       2.942169             4\n"
     ]
    },
    {
     "data": {
      "image/png": "[encoded data removed]",
      "text/plain": [
       "<Figure size 432x288 with 1 Axes>"
      ]
     },
     "metadata": {
      "needs_background": "light"
     },
     "output_type": "display_data"
    }
   ],
   "source": [
    "abortion_rel()"
   ]
  },
  {
   "cell_type": "code",
   "execution_count": 5,
   "id": "a0304b83",
   "metadata": {},
   "outputs": [
    {
     "name": "stdout",
     "output_type": "stream",
     "text": [
      "     Einschätzung  Abtreibung  counts\n",
      "0  nicht religiös           1     167\n",
      "1  nicht religiös           2      94\n",
      "2  nicht religiös           3     189\n",
      "3  nicht religiös           4     380\n",
      "4        religiös           1     150\n",
      "5        religiös           2      98\n",
      "6        religiös           3     100\n",
      "7        religiös           4      81\n",
      "     Einschätzung  Abtreibung  counts  percentage\n",
      "0  nicht religiös           1     167    0.201205\n",
      "1  nicht religiös           2      94    0.113253\n",
      "2  nicht religiös           3     189    0.227711\n",
      "3  nicht religiös           4     380    0.457831\n",
      "4        religiös           1     150    0.349650\n",
      "5        religiös           2      98    0.228438\n",
      "6        religiös           3     100    0.233100\n",
      "7        religiös           4      81    0.188811\n"
     ]
    },
    {
     "data": {
      "text/plain": [
       "<matplotlib.legend.Legend at 0x7fcf07757df0>"
      ]
     },
     "execution_count": 5,
     "metadata": {},
     "output_type": "execute_result"
    },
    {
     "data": {
      "image/png": "[encoded data removed]",
      "text/plain": [
       "<Figure size 432x288 with 1 Axes>"
      ]
     },
     "metadata": {
      "needs_background": "light"
     },
     "output_type": "display_data"
    }
   ],
   "source": [
    "\"\"\"\n",
    "Check for abortion response in relation to religion\n",
    "\"\"\"\n",
    "\n",
    "reli_df = df[[\"J029\",\"rd01\", \"J005\"]]\n",
    "\n",
    "# !!! muss anders gehen, also zusammen irgendwie \n",
    "reli_df = reli_df[(reli_df.J005 > 0)]\n",
    "reli_df = reli_df[(reli_df.rd01 > 0)]\n",
    "reli_df = reli_df[(reli_df.rd01 != 5)]\n",
    "reli_df = reli_df[(reli_df.J029 > 0)]\n",
    "reli_df = reli_df[(reli_df.J029 != 4)]\n",
    "\n",
    "reli_df = reli_df.rename(columns = {\"J029\":\"Einschätzung\", \"rd01\": \"Konfession\", \"J005\": \"Abtreibung\"})\n",
    "\n",
    "reli_df[\"Einschätzung\"] = reli_df[\"Einschätzung\"].replace([1,2,3],\"religiös\").replace([5,6,7], \"nicht religiös\")\n",
    "reli_df[\"Konfession\"] = reli_df[\"Konfession\"].replace([1,2,3,4],\"christlich\").replace(6, \"keine Religion\")\n",
    "\n",
    "# df['column name'] = df['column name'].replace(['1st old value','2nd old value',...],'new value')\n",
    "\n",
    "#groupreli_df = reli_df.groupby([\"Einschätzung\",\"Konfession\"]).value_counts().reset_index()\n",
    "\n",
    "index_names = reli_df[(reli_df[\"Einschätzung\"] == \"religiös\") & (reli_df[\"Konfession\"] == \"keine Religion\")].index\n",
    "reli_df.drop(index_names, inplace = True)\n",
    "\n",
    "group_df = reli_df[[\"Einschätzung\", \"Abtreibung\"]].groupby([\"Einschätzung\", \"Abtreibung\"]).value_counts().reset_index()\n",
    "group_df = group_df.rename(columns = {0:\"counts\"})\n",
    "print(group_df)\n",
    "\n",
    "quantity = reli_df[\"Einschätzung\"].value_counts()\n",
    "quantity_nr = np.asarray(quantity)[0]\n",
    "quantity_r = np.asarray(quantity)[1]\n",
    "\n",
    "nr_df = group_df[:4]\n",
    "r_df = group_df[4:]\n",
    "\n",
    "nr_df[\"percentage\"] = nr_df[\"counts\"]/quantity_nr\n",
    "r_df[\"percentage\"] = r_df[\"counts\"]/quantity_r\n",
    "\n",
    "nr_percentage = nr_df[\"percentage\"].to_numpy()\n",
    "r_percentage = r_df[\"percentage\"].to_numpy()\n",
    "\n",
    "values = nr_df[\"Abtreibung\"].to_numpy()\n",
    "\n",
    "group_df = pd.concat([nr_df, r_df])\n",
    "print(group_df)\n",
    "\n",
    "plt.plot(values, nr_percentage, 'o-g')\n",
    "plt.plot(values, r_percentage, 'o-b')\n",
    "plt.legend(['nr', 'r'])\n"
   ]
  },
  {
   "cell_type": "code",
   "execution_count": 12,
   "id": "e927bb87",
   "metadata": {},
   "outputs": [
    {
     "data": {
      "text/html": [
       "<div>\n",
       "<style scoped>\n",
       "    .dataframe tbody tr th:only-of-type {\n",
       "        vertical-align: middle;\n",
       "    }\n",
       "\n",
       "    .dataframe tbody tr th {\n",
       "        vertical-align: top;\n",
       "    }\n",
       "\n",
       "    .dataframe thead th {\n",
       "        text-align: right;\n",
       "    }\n",
       "</style>\n",
       "<table border=\"1\" class=\"dataframe\">\n",
       "  <thead>\n",
       "    <tr style=\"text-align: right;\">\n",
       "      <th></th>\n",
       "      <th>sex</th>\n",
       "      <th>age</th>\n",
       "      <th>J005</th>\n",
       "      <th>rd01</th>\n",
       "      <th>J029</th>\n",
       "    </tr>\n",
       "  </thead>\n",
       "  <tbody>\n",
       "    <tr>\n",
       "      <th>1</th>\n",
       "      <td>2</td>\n",
       "      <td>64</td>\n",
       "      <td>4</td>\n",
       "      <td>6</td>\n",
       "      <td>7</td>\n",
       "    </tr>\n",
       "    <tr>\n",
       "      <th>5</th>\n",
       "      <td>1</td>\n",
       "      <td>41</td>\n",
       "      <td>1</td>\n",
       "      <td>1</td>\n",
       "      <td>5</td>\n",
       "    </tr>\n",
       "    <tr>\n",
       "      <th>10</th>\n",
       "      <td>1</td>\n",
       "      <td>37</td>\n",
       "      <td>4</td>\n",
       "      <td>6</td>\n",
       "      <td>7</td>\n",
       "    </tr>\n",
       "    <tr>\n",
       "      <th>11</th>\n",
       "      <td>2</td>\n",
       "      <td>77</td>\n",
       "      <td>3</td>\n",
       "      <td>3</td>\n",
       "      <td>3</td>\n",
       "    </tr>\n",
       "    <tr>\n",
       "      <th>13</th>\n",
       "      <td>1</td>\n",
       "      <td>46</td>\n",
       "      <td>4</td>\n",
       "      <td>6</td>\n",
       "      <td>5</td>\n",
       "    </tr>\n",
       "    <tr>\n",
       "      <th>...</th>\n",
       "      <td>...</td>\n",
       "      <td>...</td>\n",
       "      <td>...</td>\n",
       "      <td>...</td>\n",
       "      <td>...</td>\n",
       "    </tr>\n",
       "    <tr>\n",
       "      <th>3467</th>\n",
       "      <td>2</td>\n",
       "      <td>60</td>\n",
       "      <td>3</td>\n",
       "      <td>1</td>\n",
       "      <td>3</td>\n",
       "    </tr>\n",
       "    <tr>\n",
       "      <th>3468</th>\n",
       "      <td>2</td>\n",
       "      <td>69</td>\n",
       "      <td>4</td>\n",
       "      <td>6</td>\n",
       "      <td>4</td>\n",
       "    </tr>\n",
       "    <tr>\n",
       "      <th>3471</th>\n",
       "      <td>2</td>\n",
       "      <td>43</td>\n",
       "      <td>1</td>\n",
       "      <td>6</td>\n",
       "      <td>7</td>\n",
       "    </tr>\n",
       "    <tr>\n",
       "      <th>3472</th>\n",
       "      <td>2</td>\n",
       "      <td>32</td>\n",
       "      <td>1</td>\n",
       "      <td>6</td>\n",
       "      <td>7</td>\n",
       "    </tr>\n",
       "    <tr>\n",
       "      <th>3476</th>\n",
       "      <td>1</td>\n",
       "      <td>88</td>\n",
       "      <td>3</td>\n",
       "      <td>6</td>\n",
       "      <td>7</td>\n",
       "    </tr>\n",
       "  </tbody>\n",
       "</table>\n",
       "<p>1570 rows × 5 columns</p>\n",
       "</div>"
      ],
      "text/plain": [
       "      sex  age  J005  rd01  J029\n",
       "1       2   64     4     6     7\n",
       "5       1   41     1     1     5\n",
       "10      1   37     4     6     7\n",
       "11      2   77     3     3     3\n",
       "13      1   46     4     6     5\n",
       "...   ...  ...   ...   ...   ...\n",
       "3467    2   60     3     1     3\n",
       "3468    2   69     4     6     4\n",
       "3471    2   43     1     6     7\n",
       "3472    2   32     1     6     7\n",
       "3476    1   88     3     6     7\n",
       "\n",
       "[1570 rows x 5 columns]"
      ]
     },
     "execution_count": 12,
     "metadata": {},
     "output_type": "execute_result"
    }
   ],
   "source": [
    "abortion_df = df[[\"sex\", \"age\", \"J005\", \"rd01\", \"J029\"]]\n",
    "abortion_df = abortion_df[(abortion_df.J005 > 0)]\n",
    "abortion_df"
   ]
  },
  {
   "cell_type": "code",
   "execution_count": 41,
   "id": "75ba35f3",
   "metadata": {},
   "outputs": [],
   "source": [
    "def abortion_age():\n",
    "    \"\"\"\n",
    "    doc:\n",
    "    \"\"\"\n",
    "    \n",
    "    print(\"\\n\" + '\\033[1m' + 'Hypothesis 2: Is there a any relation between the response to abortion and the age?' + '\\033[0m')\n",
    "    \n",
    "    # choose relevant columns and remove rows containing nans\n",
    "    abortion_df = tidy_abortion_df()\n",
    "    abag_df = abortion_df[[\"age\", \"response to abortion\"]]\n",
    "    abag_df = abag_df.dropna()\n",
    "    \n",
    "    # grouped df\n",
    "    abag_group_df = abag_df.groupby([\"age\",\"response to abortion\"]).value_counts().reset_index()\n",
    "    abag_group_df = abag_group_df.rename(columns = {0:\"counts\"})\n",
    "    print(\"\\nGrouped Dataframe:\\n\\n\",abag_group_df)\n",
    "    \n",
    "    # get mean and max response to abortion from each age group\n",
    "    counts = abag_group_df['counts'].to_numpy()\n",
    "    ages = abag_group_df['age'].to_numpy()\n",
    "    values = abag_group_df['response to abortion'].to_numpy()\n",
    "    \n",
    "    individual_ages = set(ages)\n",
    "    mean_values = []\n",
    "    max_values = []\n",
    "    \n",
    "    for element in individual_ages:\n",
    "        inter = 0\n",
    "        counter = 0\n",
    "        mval = 0\n",
    "        m = 0\n",
    "        for i,val in enumerate(ages):\n",
    "            if val == element:\n",
    "                inter += values[i]*counts[i]\n",
    "                counter += counts[i]\n",
    "                \n",
    "                if counts[i] > mval:\n",
    "                    mval = counts[i]\n",
    "                    m = values[i]\n",
    "                \n",
    "        mean_values.append(inter/counter)\n",
    "        max_values.append(m)\n",
    "    \n",
    "    # summary df containing each age group and the mean and max response to abortion\n",
    "    zipped = list(zip(individual_ages, mean_values, max_values))\n",
    "    summary_df = pd.DataFrame(zipped, columns = [\"Age\", \"Mean Response\", \"Max Response\"])\n",
    "    print(\"\\nSummary:\\n\\n\",summary_df)    \n",
    "    \n",
    "    # scatterplots for mean and max response\n",
    "    fig1 = px.scatter(x = list(individual_ages), y = mean_values, \n",
    "                      labels = {\n",
    "                                \"x\": \"age\",\n",
    "                                \"y\": \"Mean response to abortion of every age\"   \n",
    "                            },\n",
    "                      title = \"Mean response to abortion of every age\")\n",
    "    fig1.show()\n",
    "    \n",
    "    fig2 = px.scatter(x = list(individual_ages), y = max_values, \n",
    "                      labels = {\n",
    "                                \"x\": \"age\",\n",
    "                                \"y\": \"Max response to abortion of every age\"   \n",
    "                            },\n",
    "                      title = \"Max response to abortion of every age\",)\n",
    "    fig2.update_yaxes(dtick=list(set(max_values)))\n",
    "    fig2.show()\n",
    "    \n",
    "    return"
   ]
  },
  {
   "cell_type": "code",
   "execution_count": 42,
   "id": "0fa86d17",
   "metadata": {},
   "outputs": [
    {
     "name": "stdout",
     "output_type": "stream",
     "text": [
      "\n",
      "\u001b[1mHypothesis 2: Is there a any relation between the response to abortion and the age?\u001b[0m\n",
      "\n",
      "Grouped Dataframe:\n",
      "\n",
      "      age  response to abortion  counts\n",
      "0     18                     1       1\n",
      "1     18                     3       6\n",
      "2     18                     4       8\n",
      "3     19                     1       6\n",
      "4     19                     2       2\n",
      "..   ...                   ...     ...\n",
      "278   89                     2       1\n",
      "279   90                     3       1\n",
      "280   92                     2       2\n",
      "281   92                     3       2\n",
      "282   94                     4       1\n",
      "\n",
      "[283 rows x 3 columns]\n",
      "\n",
      "Summary:\n",
      "\n",
      "     Age  Mean Response  Max Response\n",
      "0    18       3.400000             4\n",
      "1    19       2.631579             4\n",
      "2    20       2.312500             1\n",
      "3    21       3.000000             4\n",
      "4    22       2.333333             1\n",
      "..  ...            ...           ...\n",
      "70   88       2.600000             1\n",
      "71   89       1.333333             1\n",
      "72   90       3.000000             3\n",
      "73   92       2.500000             2\n",
      "74   94       4.000000             4\n",
      "\n",
      "[75 rows x 3 columns]\n"
     ]
    },
    {
     "data": {
      "application/vnd.plotly.v1+json": {
       "config": {
        "plotlyServerURL": "https://plot.ly"
       },
       "data": [
        {
         "hovertemplate": "age=%{x}<br>Mean response to abortion of every age=%{y}<extra></extra>",
         "legendgroup": "",
         "marker": {
          "color": "#636efa",
          "symbol": "circle"
         },
         "mode": "markers",
         "name": "",
         "orientation": "v",
         "showlegend": false,
         "type": "scatter",
         "x": [
          18,
          19,
          20,
          21,
          22,
          23,
          24,
          25,
          26,
          27,
          28,
          29,
          30,
          31,
          32,
          33,
          34,
          35,
          36,
          37,
          38,
          39,
          40,
          41,
          42,
          43,
          44,
          45,
          46,
          47,
          48,
          49,
          50,
          51,
          52,
          53,
          54,
          55,
          56,
          57,
          58,
          59,
          60,
          61,
          62,
          63,
          64,
          65,
          66,
          67,
          68,
          69,
          70,
          71,
          72,
          73,
          74,
          75,
          76,
          77,
          78,
          79,
          80,
          81,
          82,
          83,
          84,
          85,
          86,
          87,
          88,
          89,
          90,
          92,
          94
         ],
         "xaxis": "x",
         "y": [
          3.4,
          2.6315789473684212,
          2.3125,
          3,
          2.3333333333333335,
          2.6315789473684212,
          2.7857142857142856,
          2.789473684210526,
          2.6842105263157894,
          2.52,
          3,
          2.392857142857143,
          2.3333333333333335,
          2.260869565217391,
          2.9473684210526314,
          2.739130434782609,
          2.4761904761904763,
          2.8,
          2.5357142857142856,
          2.625,
          2.6,
          2.533333333333333,
          2.857142857142857,
          2.5,
          2.45,
          2.84,
          2.4615384615384617,
          2.35,
          2.7,
          2.7,
          2.9310344827586206,
          2.6875,
          2.7,
          2.6904761904761907,
          2.625,
          2.235294117647059,
          2.763157894736842,
          2.9444444444444446,
          2.4722222222222223,
          2.4516129032258065,
          2.888888888888889,
          2.576923076923077,
          2.787878787878788,
          2.52,
          2.391304347826087,
          2.6842105263157894,
          2.909090909090909,
          3.206896551724138,
          2.793103448275862,
          2.7027027027027026,
          2.787878787878788,
          2.608695652173913,
          2.619047619047619,
          2.125,
          2.5,
          3.0476190476190474,
          2.6470588235294117,
          2.8823529411764706,
          2.4,
          3.217391304347826,
          2.8,
          2.4615384615384617,
          2.0833333333333335,
          3.1,
          2.5,
          2.6,
          2.5,
          2.5714285714285716,
          2.5,
          2.5,
          2.6,
          1.3333333333333333,
          3,
          2.5,
          4
         ],
         "yaxis": "y"
        }
       ],
       "layout": {
        "legend": {
         "tracegroupgap": 0
        },
        "template": {
         "data": {
          "bar": [
           {
            "error_x": {
             "color": "#2a3f5f"
            },
            "error_y": {
             "color": "#2a3f5f"
            },
            "marker": {
             "line": {
              "color": "#E5ECF6",
              "width": 0.5
             },
             "pattern": {
              "fillmode": "overlay",
              "size": 10,
              "solidity": 0.2
             }
            },
            "type": "bar"
           }
          ],
          "barpolar": [
           {
            "marker": {
             "line": {
              "color": "#E5ECF6",
              "width": 0.5
             },
             "pattern": {
              "fillmode": "overlay",
              "size": 10,
              "solidity": 0.2
             }
            },
            "type": "barpolar"
           }
          ],
          "carpet": [
           {
            "aaxis": {
             "endlinecolor": "#2a3f5f",
             "gridcolor": "white",
             "linecolor": "white",
             "minorgridcolor": "white",
             "startlinecolor": "#2a3f5f"
            },
            "baxis": {
             "endlinecolor": "#2a3f5f",
             "gridcolor": "white",
             "linecolor": "white",
             "minorgridcolor": "white",
             "startlinecolor": "#2a3f5f"
            },
            "type": "carpet"
           }
          ],
          "choropleth": [
           {
            "colorbar": {
             "outlinewidth": 0,
             "ticks": ""
            },
            "type": "choropleth"
           }
          ],
          "contour": [
           {
            "colorbar": {
             "outlinewidth": 0,
             "ticks": ""
            },
            "colorscale": [
             [
              0,
              "#0d0887"
             ],
             [
              0.1111111111111111,
              "#46039f"
             ],
             [
              0.2222222222222222,
              "#7201a8"
             ],
             [
              0.3333333333333333,
              "#9c179e"
             ],
             [
              0.4444444444444444,
              "#bd3786"
             ],
             [
              0.5555555555555556,
              "#d8576b"
             ],
             [
              0.6666666666666666,
              "#ed7953"
             ],
             [
              0.7777777777777778,
              "#fb9f3a"
             ],
             [
              0.8888888888888888,
              "#fdca26"
             ],
             [
              1,
              "#f0f921"
             ]
            ],
            "type": "contour"
           }
          ],
          "contourcarpet": [
           {
            "colorbar": {
             "outlinewidth": 0,
             "ticks": ""
            },
            "type": "contourcarpet"
           }
          ],
          "heatmap": [
           {
            "colorbar": {
             "outlinewidth": 0,
             "ticks": ""
            },
            "colorscale": [
             [
              0,
              "#0d0887"
             ],
             [
              0.1111111111111111,
              "#46039f"
             ],
             [
              0.2222222222222222,
              "#7201a8"
             ],
             [
              0.3333333333333333,
              "#9c179e"
             ],
             [
              0.4444444444444444,
              "#bd3786"
             ],
             [
              0.5555555555555556,
              "#d8576b"
             ],
             [
              0.6666666666666666,
              "#ed7953"
             ],
             [
              0.7777777777777778,
              "#fb9f3a"
             ],
             [
              0.8888888888888888,
              "#fdca26"
             ],
             [
              1,
              "#f0f921"
             ]
            ],
            "type": "heatmap"
           }
          ],
          "heatmapgl": [
           {
            "colorbar": {
             "outlinewidth": 0,
             "ticks": ""
            },
            "colorscale": [
             [
              0,
              "#0d0887"
             ],
             [
              0.1111111111111111,
              "#46039f"
             ],
             [
              0.2222222222222222,
              "#7201a8"
             ],
             [
              0.3333333333333333,
              "#9c179e"
             ],
             [
              0.4444444444444444,
              "#bd3786"
             ],
             [
              0.5555555555555556,
              "#d8576b"
             ],
             [
              0.6666666666666666,
              "#ed7953"
             ],
             [
              0.7777777777777778,
              "#fb9f3a"
             ],
             [
              0.8888888888888888,
              "#fdca26"
             ],
             [
              1,
              "#f0f921"
             ]
            ],
            "type": "heatmapgl"
           }
          ],
          "histogram": [
           {
            "marker": {
             "pattern": {
              "fillmode": "overlay",
              "size": 10,
              "solidity": 0.2
             }
            },
            "type": "histogram"
           }
          ],
          "histogram2d": [
           {
            "colorbar": {
             "outlinewidth": 0,
             "ticks": ""
            },
            "colorscale": [
             [
              0,
              "#0d0887"
             ],
             [
              0.1111111111111111,
              "#46039f"
             ],
             [
              0.2222222222222222,
              "#7201a8"
             ],
             [
              0.3333333333333333,
              "#9c179e"
             ],
             [
              0.4444444444444444,
              "#bd3786"
             ],
             [
              0.5555555555555556,
              "#d8576b"
             ],
             [
              0.6666666666666666,
              "#ed7953"
             ],
             [
              0.7777777777777778,
              "#fb9f3a"
             ],
             [
              0.8888888888888888,
              "#fdca26"
             ],
             [
              1,
              "#f0f921"
             ]
            ],
            "type": "histogram2d"
           }
          ],
          "histogram2dcontour": [
           {
            "colorbar": {
             "outlinewidth": 0,
             "ticks": ""
            },
            "colorscale": [
             [
              0,
              "#0d0887"
             ],
             [
              0.1111111111111111,
              "#46039f"
             ],
             [
              0.2222222222222222,
              "#7201a8"
             ],
             [
              0.3333333333333333,
              "#9c179e"
             ],
             [
              0.4444444444444444,
              "#bd3786"
             ],
             [
              0.5555555555555556,
              "#d8576b"
             ],
             [
              0.6666666666666666,
              "#ed7953"
             ],
             [
              0.7777777777777778,
              "#fb9f3a"
             ],
             [
              0.8888888888888888,
              "#fdca26"
             ],
             [
              1,
              "#f0f921"
             ]
            ],
            "type": "histogram2dcontour"
           }
          ],
          "mesh3d": [
           {
            "colorbar": {
             "outlinewidth": 0,
             "ticks": ""
            },
            "type": "mesh3d"
           }
          ],
          "parcoords": [
           {
            "line": {
             "colorbar": {
              "outlinewidth": 0,
              "ticks": ""
             }
            },
            "type": "parcoords"
           }
          ],
          "pie": [
           {
            "automargin": true,
            "type": "pie"
           }
          ],
          "scatter": [
           {
            "fillpattern": {
             "fillmode": "overlay",
             "size": 10,
             "solidity": 0.2
            },
            "type": "scatter"
           }
          ],
          "scatter3d": [
           {
            "line": {
             "colorbar": {
              "outlinewidth": 0,
              "ticks": ""
             }
            },
            "marker": {
             "colorbar": {
              "outlinewidth": 0,
              "ticks": ""
             }
            },
            "type": "scatter3d"
           }
          ],
          "scattercarpet": [
           {
            "marker": {
             "colorbar": {
              "outlinewidth": 0,
              "ticks": ""
             }
            },
            "type": "scattercarpet"
           }
          ],
          "scattergeo": [
           {
            "marker": {
             "colorbar": {
              "outlinewidth": 0,
              "ticks": ""
             }
            },
            "type": "scattergeo"
           }
          ],
          "scattergl": [
           {
            "marker": {
             "colorbar": {
              "outlinewidth": 0,
              "ticks": ""
             }
            },
            "type": "scattergl"
           }
          ],
          "scattermapbox": [
           {
            "marker": {
             "colorbar": {
              "outlinewidth": 0,
              "ticks": ""
             }
            },
            "type": "scattermapbox"
           }
          ],
          "scatterpolar": [
           {
            "marker": {
             "colorbar": {
              "outlinewidth": 0,
              "ticks": ""
             }
            },
            "type": "scatterpolar"
           }
          ],
          "scatterpolargl": [
           {
            "marker": {
             "colorbar": {
              "outlinewidth": 0,
              "ticks": ""
             }
            },
            "type": "scatterpolargl"
           }
          ],
          "scatterternary": [
           {
            "marker": {
             "colorbar": {
              "outlinewidth": 0,
              "ticks": ""
             }
            },
            "type": "scatterternary"
           }
          ],
          "surface": [
           {
            "colorbar": {
             "outlinewidth": 0,
             "ticks": ""
            },
            "colorscale": [
             [
              0,
              "#0d0887"
             ],
             [
              0.1111111111111111,
              "#46039f"
             ],
             [
              0.2222222222222222,
              "#7201a8"
             ],
             [
              0.3333333333333333,
              "#9c179e"
             ],
             [
              0.4444444444444444,
              "#bd3786"
             ],
             [
              0.5555555555555556,
              "#d8576b"
             ],
             [
              0.6666666666666666,
              "#ed7953"
             ],
             [
              0.7777777777777778,
              "#fb9f3a"
             ],
             [
              0.8888888888888888,
              "#fdca26"
             ],
             [
              1,
              "#f0f921"
             ]
            ],
            "type": "surface"
           }
          ],
          "table": [
           {
            "cells": {
             "fill": {
              "color": "#EBF0F8"
             },
             "line": {
              "color": "white"
             }
            },
            "header": {
             "fill": {
              "color": "#C8D4E3"
             },
             "line": {
              "color": "white"
             }
            },
            "type": "table"
           }
          ]
         },
         "layout": {
          "annotationdefaults": {
           "arrowcolor": "#2a3f5f",
           "arrowhead": 0,
           "arrowwidth": 1
          },
          "autotypenumbers": "strict",
          "coloraxis": {
           "colorbar": {
            "outlinewidth": 0,
            "ticks": ""
           }
          },
          "colorscale": {
           "diverging": [
            [
             0,
             "#8e0152"
            ],
            [
             0.1,
             "#c51b7d"
            ],
            [
             0.2,
             "#de77ae"
            ],
            [
             0.3,
             "#f1b6da"
            ],
            [
             0.4,
             "#fde0ef"
            ],
            [
             0.5,
             "#f7f7f7"
            ],
            [
             0.6,
             "#e6f5d0"
            ],
            [
             0.7,
             "#b8e186"
            ],
            [
             0.8,
             "#7fbc41"
            ],
            [
             0.9,
             "#4d9221"
            ],
            [
             1,
             "#276419"
            ]
           ],
           "sequential": [
            [
             0,
             "#0d0887"
            ],
            [
             0.1111111111111111,
             "#46039f"
            ],
            [
             0.2222222222222222,
             "#7201a8"
            ],
            [
             0.3333333333333333,
             "#9c179e"
            ],
            [
             0.4444444444444444,
             "#bd3786"
            ],
            [
             0.5555555555555556,
             "#d8576b"
            ],
            [
             0.6666666666666666,
             "#ed7953"
            ],
            [
             0.7777777777777778,
             "#fb9f3a"
            ],
            [
             0.8888888888888888,
             "#fdca26"
            ],
            [
             1,
             "#f0f921"
            ]
           ],
           "sequentialminus": [
            [
             0,
             "#0d0887"
            ],
            [
             0.1111111111111111,
             "#46039f"
            ],
            [
             0.2222222222222222,
             "#7201a8"
            ],
            [
             0.3333333333333333,
             "#9c179e"
            ],
            [
             0.4444444444444444,
             "#bd3786"
            ],
            [
             0.5555555555555556,
             "#d8576b"
            ],
            [
             0.6666666666666666,
             "#ed7953"
            ],
            [
             0.7777777777777778,
             "#fb9f3a"
            ],
            [
             0.8888888888888888,
             "#fdca26"
            ],
            [
             1,
             "#f0f921"
            ]
           ]
          },
          "colorway": [
           "#636efa",
           "#EF553B",
           "#00cc96",
           "#ab63fa",
           "#FFA15A",
           "#19d3f3",
           "#FF6692",
           "#B6E880",
           "#FF97FF",
           "#FECB52"
          ],
          "font": {
           "color": "#2a3f5f"
          },
          "geo": {
           "bgcolor": "white",
           "lakecolor": "white",
           "landcolor": "#E5ECF6",
           "showlakes": true,
           "showland": true,
           "subunitcolor": "white"
          },
          "hoverlabel": {
           "align": "left"
          },
          "hovermode": "closest",
          "mapbox": {
           "style": "light"
          },
          "paper_bgcolor": "white",
          "plot_bgcolor": "#E5ECF6",
          "polar": {
           "angularaxis": {
            "gridcolor": "white",
            "linecolor": "white",
            "ticks": ""
           },
           "bgcolor": "#E5ECF6",
           "radialaxis": {
            "gridcolor": "white",
            "linecolor": "white",
            "ticks": ""
           }
          },
          "scene": {
           "xaxis": {
            "backgroundcolor": "#E5ECF6",
            "gridcolor": "white",
            "gridwidth": 2,
            "linecolor": "white",
            "showbackground": true,
            "ticks": "",
            "zerolinecolor": "white"
           },
           "yaxis": {
            "backgroundcolor": "#E5ECF6",
            "gridcolor": "white",
            "gridwidth": 2,
            "linecolor": "white",
            "showbackground": true,
            "ticks": "",
            "zerolinecolor": "white"
           },
           "zaxis": {
            "backgroundcolor": "#E5ECF6",
            "gridcolor": "white",
            "gridwidth": 2,
            "linecolor": "white",
            "showbackground": true,
            "ticks": "",
            "zerolinecolor": "white"
           }
          },
          "shapedefaults": {
           "line": {
            "color": "#2a3f5f"
           }
          },
          "ternary": {
           "aaxis": {
            "gridcolor": "white",
            "linecolor": "white",
            "ticks": ""
           },
           "baxis": {
            "gridcolor": "white",
            "linecolor": "white",
            "ticks": ""
           },
           "bgcolor": "#E5ECF6",
           "caxis": {
            "gridcolor": "white",
            "linecolor": "white",
            "ticks": ""
           }
          },
          "title": {
           "x": 0.05
          },
          "xaxis": {
           "automargin": true,
           "gridcolor": "white",
           "linecolor": "white",
           "ticks": "",
           "title": {
            "standoff": 15
           },
           "zerolinecolor": "white",
           "zerolinewidth": 2
          },
          "yaxis": {
           "automargin": true,
           "gridcolor": "white",
           "linecolor": "white",
           "ticks": "",
           "title": {
            "standoff": 15
           },
           "zerolinecolor": "white",
           "zerolinewidth": 2
          }
         }
        },
        "title": {
         "text": "Mean response to abortion of every age"
        },
        "xaxis": {
         "anchor": "y",
         "domain": [
          0,
          1
         ],
         "title": {
          "text": "age"
         }
        },
        "yaxis": {
         "anchor": "x",
         "domain": [
          0,
          1
         ],
         "title": {
          "text": "Mean response to abortion of every age"
         }
        }
       }
      },
      "text/html": [
       "<div>                            <div id=\"701d3ec8-40eb-4301-bdd4-3cc715bd6155\" class=\"plotly-graph-div\" style=\"height:525px; width:100%;\"></div>            <script type=\"text/javascript\">                require([\"plotly\"], function(Plotly) {                    window.PLOTLYENV=window.PLOTLYENV || {};                                    if (document.getElementById(\"701d3ec8-40eb-4301-bdd4-3cc715bd6155\")) {                    Plotly.newPlot(                        \"701d3ec8-40eb-4301-bdd4-3cc715bd6155\",                        [{\"hovertemplate\":\"age=%{x}<br>Mean response to abortion of every age=%{y}<extra></extra>\",\"legendgroup\":\"\",\"marker\":{\"color\":\"#636efa\",\"symbol\":\"circle\"},\"mode\":\"markers\",\"name\":\"\",\"orientation\":\"v\",\"showlegend\":false,\"x\":[18,19,20,21,22,23,24,25,26,27,28,29,30,31,32,33,34,35,36,37,38,39,40,41,42,43,44,45,46,47,48,49,50,51,52,53,54,55,56,57,58,59,60,61,62,63,64,65,66,67,68,69,70,71,72,73,74,75,76,77,78,79,80,81,82,83,84,85,86,87,88,89,90,92,94],\"xaxis\":\"x\",\"y\":[3.4,2.6315789473684212,2.3125,3.0,2.3333333333333335,2.6315789473684212,2.7857142857142856,2.789473684210526,2.6842105263157894,2.52,3.0,2.392857142857143,2.3333333333333335,2.260869565217391,2.9473684210526314,2.739130434782609,2.4761904761904763,2.8,2.5357142857142856,2.625,2.6,2.533333333333333,2.857142857142857,2.5,2.45,2.84,2.4615384615384617,2.35,2.7,2.7,2.9310344827586206,2.6875,2.7,2.6904761904761907,2.625,2.235294117647059,2.763157894736842,2.9444444444444446,2.4722222222222223,2.4516129032258065,2.888888888888889,2.576923076923077,2.787878787878788,2.52,2.391304347826087,2.6842105263157894,2.909090909090909,3.206896551724138,2.793103448275862,2.7027027027027026,2.787878787878788,2.608695652173913,2.619047619047619,2.125,2.5,3.0476190476190474,2.6470588235294117,2.8823529411764706,2.4,3.217391304347826,2.8,2.4615384615384617,2.0833333333333335,3.1,2.5,2.6,2.5,2.5714285714285716,2.5,2.5,2.6,1.3333333333333333,3.0,2.5,4.0],\"yaxis\":\"y\",\"type\":\"scatter\"}],                        {\"template\":{\"data\":{\"histogram2dcontour\":[{\"type\":\"histogram2dcontour\",\"colorbar\":{\"outlinewidth\":0,\"ticks\":\"\"},\"colorscale\":[[0.0,\"#0d0887\"],[0.1111111111111111,\"#46039f\"],[0.2222222222222222,\"#7201a8\"],[0.3333333333333333,\"#9c179e\"],[0.4444444444444444,\"#bd3786\"],[0.5555555555555556,\"#d8576b\"],[0.6666666666666666,\"#ed7953\"],[0.7777777777777778,\"#fb9f3a\"],[0.8888888888888888,\"#fdca26\"],[1.0,\"#f0f921\"]]}],\"choropleth\":[{\"type\":\"choropleth\",\"colorbar\":{\"outlinewidth\":0,\"ticks\":\"\"}}],\"histogram2d\":[{\"type\":\"histogram2d\",\"colorbar\":{\"outlinewidth\":0,\"ticks\":\"\"},\"colorscale\":[[0.0,\"#0d0887\"],[0.1111111111111111,\"#46039f\"],[0.2222222222222222,\"#7201a8\"],[0.3333333333333333,\"#9c179e\"],[0.4444444444444444,\"#bd3786\"],[0.5555555555555556,\"#d8576b\"],[0.6666666666666666,\"#ed7953\"],[0.7777777777777778,\"#fb9f3a\"],[0.8888888888888888,\"#fdca26\"],[1.0,\"#f0f921\"]]}],\"heatmap\":[{\"type\":\"heatmap\",\"colorbar\":{\"outlinewidth\":0,\"ticks\":\"\"},\"colorscale\":[[0.0,\"#0d0887\"],[0.1111111111111111,\"#46039f\"],[0.2222222222222222,\"#7201a8\"],[0.3333333333333333,\"#9c179e\"],[0.4444444444444444,\"#bd3786\"],[0.5555555555555556,\"#d8576b\"],[0.6666666666666666,\"#ed7953\"],[0.7777777777777778,\"#fb9f3a\"],[0.8888888888888888,\"#fdca26\"],[1.0,\"#f0f921\"]]}],\"heatmapgl\":[{\"type\":\"heatmapgl\",\"colorbar\":{\"outlinewidth\":0,\"ticks\":\"\"},\"colorscale\":[[0.0,\"#0d0887\"],[0.1111111111111111,\"#46039f\"],[0.2222222222222222,\"#7201a8\"],[0.3333333333333333,\"#9c179e\"],[0.4444444444444444,\"#bd3786\"],[0.5555555555555556,\"#d8576b\"],[0.6666666666666666,\"#ed7953\"],[0.7777777777777778,\"#fb9f3a\"],[0.8888888888888888,\"#fdca26\"],[1.0,\"#f0f921\"]]}],\"contourcarpet\":[{\"type\":\"contourcarpet\",\"colorbar\":{\"outlinewidth\":0,\"ticks\":\"\"}}],\"contour\":[{\"type\":\"contour\",\"colorbar\":{\"outlinewidth\":0,\"ticks\":\"\"},\"colorscale\":[[0.0,\"#0d0887\"],[0.1111111111111111,\"#46039f\"],[0.2222222222222222,\"#7201a8\"],[0.3333333333333333,\"#9c179e\"],[0.4444444444444444,\"#bd3786\"],[0.5555555555555556,\"#d8576b\"],[0.6666666666666666,\"#ed7953\"],[0.7777777777777778,\"#fb9f3a\"],[0.8888888888888888,\"#fdca26\"],[1.0,\"#f0f921\"]]}],\"surface\":[{\"type\":\"surface\",\"colorbar\":{\"outlinewidth\":0,\"ticks\":\"\"},\"colorscale\":[[0.0,\"#0d0887\"],[0.1111111111111111,\"#46039f\"],[0.2222222222222222,\"#7201a8\"],[0.3333333333333333,\"#9c179e\"],[0.4444444444444444,\"#bd3786\"],[0.5555555555555556,\"#d8576b\"],[0.6666666666666666,\"#ed7953\"],[0.7777777777777778,\"#fb9f3a\"],[0.8888888888888888,\"#fdca26\"],[1.0,\"#f0f921\"]]}],\"mesh3d\":[{\"type\":\"mesh3d\",\"colorbar\":{\"outlinewidth\":0,\"ticks\":\"\"}}],\"scatter\":[{\"fillpattern\":{\"fillmode\":\"overlay\",\"size\":10,\"solidity\":0.2},\"type\":\"scatter\"}],\"parcoords\":[{\"type\":\"parcoords\",\"line\":{\"colorbar\":{\"outlinewidth\":0,\"ticks\":\"\"}}}],\"scatterpolargl\":[{\"type\":\"scatterpolargl\",\"marker\":{\"colorbar\":{\"outlinewidth\":0,\"ticks\":\"\"}}}],\"bar\":[{\"error_x\":{\"color\":\"#2a3f5f\"},\"error_y\":{\"color\":\"#2a3f5f\"},\"marker\":{\"line\":{\"color\":\"#E5ECF6\",\"width\":0.5},\"pattern\":{\"fillmode\":\"overlay\",\"size\":10,\"solidity\":0.2}},\"type\":\"bar\"}],\"scattergeo\":[{\"type\":\"scattergeo\",\"marker\":{\"colorbar\":{\"outlinewidth\":0,\"ticks\":\"\"}}}],\"scatterpolar\":[{\"type\":\"scatterpolar\",\"marker\":{\"colorbar\":{\"outlinewidth\":0,\"ticks\":\"\"}}}],\"histogram\":[{\"marker\":{\"pattern\":{\"fillmode\":\"overlay\",\"size\":10,\"solidity\":0.2}},\"type\":\"histogram\"}],\"scattergl\":[{\"type\":\"scattergl\",\"marker\":{\"colorbar\":{\"outlinewidth\":0,\"ticks\":\"\"}}}],\"scatter3d\":[{\"type\":\"scatter3d\",\"line\":{\"colorbar\":{\"outlinewidth\":0,\"ticks\":\"\"}},\"marker\":{\"colorbar\":{\"outlinewidth\":0,\"ticks\":\"\"}}}],\"scattermapbox\":[{\"type\":\"scattermapbox\",\"marker\":{\"colorbar\":{\"outlinewidth\":0,\"ticks\":\"\"}}}],\"scatterternary\":[{\"type\":\"scatterternary\",\"marker\":{\"colorbar\":{\"outlinewidth\":0,\"ticks\":\"\"}}}],\"scattercarpet\":[{\"type\":\"scattercarpet\",\"marker\":{\"colorbar\":{\"outlinewidth\":0,\"ticks\":\"\"}}}],\"carpet\":[{\"aaxis\":{\"endlinecolor\":\"#2a3f5f\",\"gridcolor\":\"white\",\"linecolor\":\"white\",\"minorgridcolor\":\"white\",\"startlinecolor\":\"#2a3f5f\"},\"baxis\":{\"endlinecolor\":\"#2a3f5f\",\"gridcolor\":\"white\",\"linecolor\":\"white\",\"minorgridcolor\":\"white\",\"startlinecolor\":\"#2a3f5f\"},\"type\":\"carpet\"}],\"table\":[{\"cells\":{\"fill\":{\"color\":\"#EBF0F8\"},\"line\":{\"color\":\"white\"}},\"header\":{\"fill\":{\"color\":\"#C8D4E3\"},\"line\":{\"color\":\"white\"}},\"type\":\"table\"}],\"barpolar\":[{\"marker\":{\"line\":{\"color\":\"#E5ECF6\",\"width\":0.5},\"pattern\":{\"fillmode\":\"overlay\",\"size\":10,\"solidity\":0.2}},\"type\":\"barpolar\"}],\"pie\":[{\"automargin\":true,\"type\":\"pie\"}]},\"layout\":{\"autotypenumbers\":\"strict\",\"colorway\":[\"#636efa\",\"#EF553B\",\"#00cc96\",\"#ab63fa\",\"#FFA15A\",\"#19d3f3\",\"#FF6692\",\"#B6E880\",\"#FF97FF\",\"#FECB52\"],\"font\":{\"color\":\"#2a3f5f\"},\"hovermode\":\"closest\",\"hoverlabel\":{\"align\":\"left\"},\"paper_bgcolor\":\"white\",\"plot_bgcolor\":\"#E5ECF6\",\"polar\":{\"bgcolor\":\"#E5ECF6\",\"angularaxis\":{\"gridcolor\":\"white\",\"linecolor\":\"white\",\"ticks\":\"\"},\"radialaxis\":{\"gridcolor\":\"white\",\"linecolor\":\"white\",\"ticks\":\"\"}},\"ternary\":{\"bgcolor\":\"#E5ECF6\",\"aaxis\":{\"gridcolor\":\"white\",\"linecolor\":\"white\",\"ticks\":\"\"},\"baxis\":{\"gridcolor\":\"white\",\"linecolor\":\"white\",\"ticks\":\"\"},\"caxis\":{\"gridcolor\":\"white\",\"linecolor\":\"white\",\"ticks\":\"\"}},\"coloraxis\":{\"colorbar\":{\"outlinewidth\":0,\"ticks\":\"\"}},\"colorscale\":{\"sequential\":[[0.0,\"#0d0887\"],[0.1111111111111111,\"#46039f\"],[0.2222222222222222,\"#7201a8\"],[0.3333333333333333,\"#9c179e\"],[0.4444444444444444,\"#bd3786\"],[0.5555555555555556,\"#d8576b\"],[0.6666666666666666,\"#ed7953\"],[0.7777777777777778,\"#fb9f3a\"],[0.8888888888888888,\"#fdca26\"],[1.0,\"#f0f921\"]],\"sequentialminus\":[[0.0,\"#0d0887\"],[0.1111111111111111,\"#46039f\"],[0.2222222222222222,\"#7201a8\"],[0.3333333333333333,\"#9c179e\"],[0.4444444444444444,\"#bd3786\"],[0.5555555555555556,\"#d8576b\"],[0.6666666666666666,\"#ed7953\"],[0.7777777777777778,\"#fb9f3a\"],[0.8888888888888888,\"#fdca26\"],[1.0,\"#f0f921\"]],\"diverging\":[[0,\"#8e0152\"],[0.1,\"#c51b7d\"],[0.2,\"#de77ae\"],[0.3,\"#f1b6da\"],[0.4,\"#fde0ef\"],[0.5,\"#f7f7f7\"],[0.6,\"#e6f5d0\"],[0.7,\"#b8e186\"],[0.8,\"#7fbc41\"],[0.9,\"#4d9221\"],[1,\"#276419\"]]},\"xaxis\":{\"gridcolor\":\"white\",\"linecolor\":\"white\",\"ticks\":\"\",\"title\":{\"standoff\":15},\"zerolinecolor\":\"white\",\"automargin\":true,\"zerolinewidth\":2},\"yaxis\":{\"gridcolor\":\"white\",\"linecolor\":\"white\",\"ticks\":\"\",\"title\":{\"standoff\":15},\"zerolinecolor\":\"white\",\"automargin\":true,\"zerolinewidth\":2},\"scene\":{\"xaxis\":{\"backgroundcolor\":\"#E5ECF6\",\"gridcolor\":\"white\",\"linecolor\":\"white\",\"showbackground\":true,\"ticks\":\"\",\"zerolinecolor\":\"white\",\"gridwidth\":2},\"yaxis\":{\"backgroundcolor\":\"#E5ECF6\",\"gridcolor\":\"white\",\"linecolor\":\"white\",\"showbackground\":true,\"ticks\":\"\",\"zerolinecolor\":\"white\",\"gridwidth\":2},\"zaxis\":{\"backgroundcolor\":\"#E5ECF6\",\"gridcolor\":\"white\",\"linecolor\":\"white\",\"showbackground\":true,\"ticks\":\"\",\"zerolinecolor\":\"white\",\"gridwidth\":2}},\"shapedefaults\":{\"line\":{\"color\":\"#2a3f5f\"}},\"annotationdefaults\":{\"arrowcolor\":\"#2a3f5f\",\"arrowhead\":0,\"arrowwidth\":1},\"geo\":{\"bgcolor\":\"white\",\"landcolor\":\"#E5ECF6\",\"subunitcolor\":\"white\",\"showland\":true,\"showlakes\":true,\"lakecolor\":\"white\"},\"title\":{\"x\":0.05},\"mapbox\":{\"style\":\"light\"}}},\"xaxis\":{\"anchor\":\"y\",\"domain\":[0.0,1.0],\"title\":{\"text\":\"age\"}},\"yaxis\":{\"anchor\":\"x\",\"domain\":[0.0,1.0],\"title\":{\"text\":\"Mean response to abortion of every age\"}},\"legend\":{\"tracegroupgap\":0},\"title\":{\"text\":\"Mean response to abortion of every age\"}},                        {\"responsive\": true}                    ).then(function(){\n",
       "                            \n",
       "var gd = document.getElementById('701d3ec8-40eb-4301-bdd4-3cc715bd6155');\n",
       "var x = new MutationObserver(function (mutations, observer) {{\n",
       "        var display = window.getComputedStyle(gd).display;\n",
       "        if (!display || display === 'none') {{\n",
       "            console.log([gd, 'removed!']);\n",
       "            Plotly.purge(gd);\n",
       "            observer.disconnect();\n",
       "        }}\n",
       "}});\n",
       "\n",
       "// Listen for the removal of the full notebook cells\n",
       "var notebookContainer = gd.closest('#notebook-container');\n",
       "if (notebookContainer) {{\n",
       "    x.observe(notebookContainer, {childList: true});\n",
       "}}\n",
       "\n",
       "// Listen for the clearing of the current output cell\n",
       "var outputEl = gd.closest('.output');\n",
       "if (outputEl) {{\n",
       "    x.observe(outputEl, {childList: true});\n",
       "}}\n",
       "\n",
       "                        })                };                });            </script>        </div>"
      ]
     },
     "metadata": {},
     "output_type": "display_data"
    },
    {
     "data": {
      "application/vnd.plotly.v1+json": {
       "config": {
        "plotlyServerURL": "https://plot.ly"
       },
       "data": [
        {
         "hovertemplate": "age=%{x}<br>Max response to abortion of every age=%{y}<extra></extra>",
         "legendgroup": "",
         "marker": {
          "color": "#636efa",
          "symbol": "circle"
         },
         "mode": "markers",
         "name": "",
         "orientation": "v",
         "showlegend": false,
         "type": "scatter",
         "x": [
          18,
          19,
          20,
          21,
          22,
          23,
          24,
          25,
          26,
          27,
          28,
          29,
          30,
          31,
          32,
          33,
          34,
          35,
          36,
          37,
          38,
          39,
          40,
          41,
          42,
          43,
          44,
          45,
          46,
          47,
          48,
          49,
          50,
          51,
          52,
          53,
          54,
          55,
          56,
          57,
          58,
          59,
          60,
          61,
          62,
          63,
          64,
          65,
          66,
          67,
          68,
          69,
          70,
          71,
          72,
          73,
          74,
          75,
          76,
          77,
          78,
          79,
          80,
          81,
          82,
          83,
          84,
          85,
          86,
          87,
          88,
          89,
          90,
          92,
          94
         ],
         "xaxis": "x",
         "y": [
          4,
          4,
          1,
          4,
          1,
          4,
          4,
          3,
          4,
          4,
          4,
          1,
          2,
          1,
          4,
          4,
          1,
          3,
          3,
          4,
          3,
          1,
          4,
          3,
          3,
          4,
          1,
          1,
          4,
          3,
          4,
          4,
          4,
          4,
          4,
          1,
          4,
          4,
          1,
          1,
          3,
          4,
          3,
          4,
          1,
          4,
          4,
          4,
          4,
          3,
          4,
          4,
          4,
          1,
          2,
          4,
          4,
          3,
          1,
          4,
          4,
          1,
          1,
          4,
          3,
          4,
          3,
          2,
          2,
          1,
          1,
          1,
          3,
          2,
          4
         ],
         "yaxis": "y"
        }
       ],
       "layout": {
        "legend": {
         "tracegroupgap": 0
        },
        "template": {
         "data": {
          "bar": [
           {
            "error_x": {
             "color": "#2a3f5f"
            },
            "error_y": {
             "color": "#2a3f5f"
            },
            "marker": {
             "line": {
              "color": "#E5ECF6",
              "width": 0.5
             },
             "pattern": {
              "fillmode": "overlay",
              "size": 10,
              "solidity": 0.2
             }
            },
            "type": "bar"
           }
          ],
          "barpolar": [
           {
            "marker": {
             "line": {
              "color": "#E5ECF6",
              "width": 0.5
             },
             "pattern": {
              "fillmode": "overlay",
              "size": 10,
              "solidity": 0.2
             }
            },
            "type": "barpolar"
           }
          ],
          "carpet": [
           {
            "aaxis": {
             "endlinecolor": "#2a3f5f",
             "gridcolor": "white",
             "linecolor": "white",
             "minorgridcolor": "white",
             "startlinecolor": "#2a3f5f"
            },
            "baxis": {
             "endlinecolor": "#2a3f5f",
             "gridcolor": "white",
             "linecolor": "white",
             "minorgridcolor": "white",
             "startlinecolor": "#2a3f5f"
            },
            "type": "carpet"
           }
          ],
          "choropleth": [
           {
            "colorbar": {
             "outlinewidth": 0,
             "ticks": ""
            },
            "type": "choropleth"
           }
          ],
          "contour": [
           {
            "colorbar": {
             "outlinewidth": 0,
             "ticks": ""
            },
            "colorscale": [
             [
              0,
              "#0d0887"
             ],
             [
              0.1111111111111111,
              "#46039f"
             ],
             [
              0.2222222222222222,
              "#7201a8"
             ],
             [
              0.3333333333333333,
              "#9c179e"
             ],
             [
              0.4444444444444444,
              "#bd3786"
             ],
             [
              0.5555555555555556,
              "#d8576b"
             ],
             [
              0.6666666666666666,
              "#ed7953"
             ],
             [
              0.7777777777777778,
              "#fb9f3a"
             ],
             [
              0.8888888888888888,
              "#fdca26"
             ],
             [
              1,
              "#f0f921"
             ]
            ],
            "type": "contour"
           }
          ],
          "contourcarpet": [
           {
            "colorbar": {
             "outlinewidth": 0,
             "ticks": ""
            },
            "type": "contourcarpet"
           }
          ],
          "heatmap": [
           {
            "colorbar": {
             "outlinewidth": 0,
             "ticks": ""
            },
            "colorscale": [
             [
              0,
              "#0d0887"
             ],
             [
              0.1111111111111111,
              "#46039f"
             ],
             [
              0.2222222222222222,
              "#7201a8"
             ],
             [
              0.3333333333333333,
              "#9c179e"
             ],
             [
              0.4444444444444444,
              "#bd3786"
             ],
             [
              0.5555555555555556,
              "#d8576b"
             ],
             [
              0.6666666666666666,
              "#ed7953"
             ],
             [
              0.7777777777777778,
              "#fb9f3a"
             ],
             [
              0.8888888888888888,
              "#fdca26"
             ],
             [
              1,
              "#f0f921"
             ]
            ],
            "type": "heatmap"
           }
          ],
          "heatmapgl": [
           {
            "colorbar": {
             "outlinewidth": 0,
             "ticks": ""
            },
            "colorscale": [
             [
              0,
              "#0d0887"
             ],
             [
              0.1111111111111111,
              "#46039f"
             ],
             [
              0.2222222222222222,
              "#7201a8"
             ],
             [
              0.3333333333333333,
              "#9c179e"
             ],
             [
              0.4444444444444444,
              "#bd3786"
             ],
             [
              0.5555555555555556,
              "#d8576b"
             ],
             [
              0.6666666666666666,
              "#ed7953"
             ],
             [
              0.7777777777777778,
              "#fb9f3a"
             ],
             [
              0.8888888888888888,
              "#fdca26"
             ],
             [
              1,
              "#f0f921"
             ]
            ],
            "type": "heatmapgl"
           }
          ],
          "histogram": [
           {
            "marker": {
             "pattern": {
              "fillmode": "overlay",
              "size": 10,
              "solidity": 0.2
             }
            },
            "type": "histogram"
           }
          ],
          "histogram2d": [
           {
            "colorbar": {
             "outlinewidth": 0,
             "ticks": ""
            },
            "colorscale": [
             [
              0,
              "#0d0887"
             ],
             [
              0.1111111111111111,
              "#46039f"
             ],
             [
              0.2222222222222222,
              "#7201a8"
             ],
             [
              0.3333333333333333,
              "#9c179e"
             ],
             [
              0.4444444444444444,
              "#bd3786"
             ],
             [
              0.5555555555555556,
              "#d8576b"
             ],
             [
              0.6666666666666666,
              "#ed7953"
             ],
             [
              0.7777777777777778,
              "#fb9f3a"
             ],
             [
              0.8888888888888888,
              "#fdca26"
             ],
             [
              1,
              "#f0f921"
             ]
            ],
            "type": "histogram2d"
           }
          ],
          "histogram2dcontour": [
           {
            "colorbar": {
             "outlinewidth": 0,
             "ticks": ""
            },
            "colorscale": [
             [
              0,
              "#0d0887"
             ],
             [
              0.1111111111111111,
              "#46039f"
             ],
             [
              0.2222222222222222,
              "#7201a8"
             ],
             [
              0.3333333333333333,
              "#9c179e"
             ],
             [
              0.4444444444444444,
              "#bd3786"
             ],
             [
              0.5555555555555556,
              "#d8576b"
             ],
             [
              0.6666666666666666,
              "#ed7953"
             ],
             [
              0.7777777777777778,
              "#fb9f3a"
             ],
             [
              0.8888888888888888,
              "#fdca26"
             ],
             [
              1,
              "#f0f921"
             ]
            ],
            "type": "histogram2dcontour"
           }
          ],
          "mesh3d": [
           {
            "colorbar": {
             "outlinewidth": 0,
             "ticks": ""
            },
            "type": "mesh3d"
           }
          ],
          "parcoords": [
           {
            "line": {
             "colorbar": {
              "outlinewidth": 0,
              "ticks": ""
             }
            },
            "type": "parcoords"
           }
          ],
          "pie": [
           {
            "automargin": true,
            "type": "pie"
           }
          ],
          "scatter": [
           {
            "fillpattern": {
             "fillmode": "overlay",
             "size": 10,
             "solidity": 0.2
            },
            "type": "scatter"
           }
          ],
          "scatter3d": [
           {
            "line": {
             "colorbar": {
              "outlinewidth": 0,
              "ticks": ""
             }
            },
            "marker": {
             "colorbar": {
              "outlinewidth": 0,
              "ticks": ""
             }
            },
            "type": "scatter3d"
           }
          ],
          "scattercarpet": [
           {
            "marker": {
             "colorbar": {
              "outlinewidth": 0,
              "ticks": ""
             }
            },
            "type": "scattercarpet"
           }
          ],
          "scattergeo": [
           {
            "marker": {
             "colorbar": {
              "outlinewidth": 0,
              "ticks": ""
             }
            },
            "type": "scattergeo"
           }
          ],
          "scattergl": [
           {
            "marker": {
             "colorbar": {
              "outlinewidth": 0,
              "ticks": ""
             }
            },
            "type": "scattergl"
           }
          ],
          "scattermapbox": [
           {
            "marker": {
             "colorbar": {
              "outlinewidth": 0,
              "ticks": ""
             }
            },
            "type": "scattermapbox"
           }
          ],
          "scatterpolar": [
           {
            "marker": {
             "colorbar": {
              "outlinewidth": 0,
              "ticks": ""
             }
            },
            "type": "scatterpolar"
           }
          ],
          "scatterpolargl": [
           {
            "marker": {
             "colorbar": {
              "outlinewidth": 0,
              "ticks": ""
             }
            },
            "type": "scatterpolargl"
           }
          ],
          "scatterternary": [
           {
            "marker": {
             "colorbar": {
              "outlinewidth": 0,
              "ticks": ""
             }
            },
            "type": "scatterternary"
           }
          ],
          "surface": [
           {
            "colorbar": {
             "outlinewidth": 0,
             "ticks": ""
            },
            "colorscale": [
             [
              0,
              "#0d0887"
             ],
             [
              0.1111111111111111,
              "#46039f"
             ],
             [
              0.2222222222222222,
              "#7201a8"
             ],
             [
              0.3333333333333333,
              "#9c179e"
             ],
             [
              0.4444444444444444,
              "#bd3786"
             ],
             [
              0.5555555555555556,
              "#d8576b"
             ],
             [
              0.6666666666666666,
              "#ed7953"
             ],
             [
              0.7777777777777778,
              "#fb9f3a"
             ],
             [
              0.8888888888888888,
              "#fdca26"
             ],
             [
              1,
              "#f0f921"
             ]
            ],
            "type": "surface"
           }
          ],
          "table": [
           {
            "cells": {
             "fill": {
              "color": "#EBF0F8"
             },
             "line": {
              "color": "white"
             }
            },
            "header": {
             "fill": {
              "color": "#C8D4E3"
             },
             "line": {
              "color": "white"
             }
            },
            "type": "table"
           }
          ]
         },
         "layout": {
          "annotationdefaults": {
           "arrowcolor": "#2a3f5f",
           "arrowhead": 0,
           "arrowwidth": 1
          },
          "autotypenumbers": "strict",
          "coloraxis": {
           "colorbar": {
            "outlinewidth": 0,
            "ticks": ""
           }
          },
          "colorscale": {
           "diverging": [
            [
             0,
             "#8e0152"
            ],
            [
             0.1,
             "#c51b7d"
            ],
            [
             0.2,
             "#de77ae"
            ],
            [
             0.3,
             "#f1b6da"
            ],
            [
             0.4,
             "#fde0ef"
            ],
            [
             0.5,
             "#f7f7f7"
            ],
            [
             0.6,
             "#e6f5d0"
            ],
            [
             0.7,
             "#b8e186"
            ],
            [
             0.8,
             "#7fbc41"
            ],
            [
             0.9,
             "#4d9221"
            ],
            [
             1,
             "#276419"
            ]
           ],
           "sequential": [
            [
             0,
             "#0d0887"
            ],
            [
             0.1111111111111111,
             "#46039f"
            ],
            [
             0.2222222222222222,
             "#7201a8"
            ],
            [
             0.3333333333333333,
             "#9c179e"
            ],
            [
             0.4444444444444444,
             "#bd3786"
            ],
            [
             0.5555555555555556,
             "#d8576b"
            ],
            [
             0.6666666666666666,
             "#ed7953"
            ],
            [
             0.7777777777777778,
             "#fb9f3a"
            ],
            [
             0.8888888888888888,
             "#fdca26"
            ],
            [
             1,
             "#f0f921"
            ]
           ],
           "sequentialminus": [
            [
             0,
             "#0d0887"
            ],
            [
             0.1111111111111111,
             "#46039f"
            ],
            [
             0.2222222222222222,
             "#7201a8"
            ],
            [
             0.3333333333333333,
             "#9c179e"
            ],
            [
             0.4444444444444444,
             "#bd3786"
            ],
            [
             0.5555555555555556,
             "#d8576b"
            ],
            [
             0.6666666666666666,
             "#ed7953"
            ],
            [
             0.7777777777777778,
             "#fb9f3a"
            ],
            [
             0.8888888888888888,
             "#fdca26"
            ],
            [
             1,
             "#f0f921"
            ]
           ]
          },
          "colorway": [
           "#636efa",
           "#EF553B",
           "#00cc96",
           "#ab63fa",
           "#FFA15A",
           "#19d3f3",
           "#FF6692",
           "#B6E880",
           "#FF97FF",
           "#FECB52"
          ],
          "font": {
           "color": "#2a3f5f"
          },
          "geo": {
           "bgcolor": "white",
           "lakecolor": "white",
           "landcolor": "#E5ECF6",
           "showlakes": true,
           "showland": true,
           "subunitcolor": "white"
          },
          "hoverlabel": {
           "align": "left"
          },
          "hovermode": "closest",
          "mapbox": {
           "style": "light"
          },
          "paper_bgcolor": "white",
          "plot_bgcolor": "#E5ECF6",
          "polar": {
           "angularaxis": {
            "gridcolor": "white",
            "linecolor": "white",
            "ticks": ""
           },
           "bgcolor": "#E5ECF6",
           "radialaxis": {
            "gridcolor": "white",
            "linecolor": "white",
            "ticks": ""
           }
          },
          "scene": {
           "xaxis": {
            "backgroundcolor": "#E5ECF6",
            "gridcolor": "white",
            "gridwidth": 2,
            "linecolor": "white",
            "showbackground": true,
            "ticks": "",
            "zerolinecolor": "white"
           },
           "yaxis": {
            "backgroundcolor": "#E5ECF6",
            "gridcolor": "white",
            "gridwidth": 2,
            "linecolor": "white",
            "showbackground": true,
            "ticks": "",
            "zerolinecolor": "white"
           },
           "zaxis": {
            "backgroundcolor": "#E5ECF6",
            "gridcolor": "white",
            "gridwidth": 2,
            "linecolor": "white",
            "showbackground": true,
            "ticks": "",
            "zerolinecolor": "white"
           }
          },
          "shapedefaults": {
           "line": {
            "color": "#2a3f5f"
           }
          },
          "ternary": {
           "aaxis": {
            "gridcolor": "white",
            "linecolor": "white",
            "ticks": ""
           },
           "baxis": {
            "gridcolor": "white",
            "linecolor": "white",
            "ticks": ""
           },
           "bgcolor": "#E5ECF6",
           "caxis": {
            "gridcolor": "white",
            "linecolor": "white",
            "ticks": ""
           }
          },
          "title": {
           "x": 0.05
          },
          "xaxis": {
           "automargin": true,
           "gridcolor": "white",
           "linecolor": "white",
           "ticks": "",
           "title": {
            "standoff": 15
           },
           "zerolinecolor": "white",
           "zerolinewidth": 2
          },
          "yaxis": {
           "automargin": true,
           "gridcolor": "white",
           "linecolor": "white",
           "ticks": "",
           "title": {
            "standoff": 15
           },
           "zerolinecolor": "white",
           "zerolinewidth": 2
          }
         }
        },
        "title": {
         "text": "Max response to abortion of every age"
        },
        "xaxis": {
         "anchor": "y",
         "domain": [
          0,
          1
         ],
         "title": {
          "text": "age"
         }
        },
        "yaxis": {
         "anchor": "x",
         "domain": [
          0,
          1
         ],
         "dtick": [
          1,
          2,
          3,
          4
         ],
         "title": {
          "text": "Max response to abortion of every age"
         }
        }
       }
      },
      "text/html": [
       "<div>                            <div id=\"c54d42d8-cdd7-4258-ba62-98b63d10251d\" class=\"plotly-graph-div\" style=\"height:525px; width:100%;\"></div>            <script type=\"text/javascript\">                require([\"plotly\"], function(Plotly) {                    window.PLOTLYENV=window.PLOTLYENV || {};                                    if (document.getElementById(\"c54d42d8-cdd7-4258-ba62-98b63d10251d\")) {                    Plotly.newPlot(                        \"c54d42d8-cdd7-4258-ba62-98b63d10251d\",                        [{\"hovertemplate\":\"age=%{x}<br>Max response to abortion of every age=%{y}<extra></extra>\",\"legendgroup\":\"\",\"marker\":{\"color\":\"#636efa\",\"symbol\":\"circle\"},\"mode\":\"markers\",\"name\":\"\",\"orientation\":\"v\",\"showlegend\":false,\"x\":[18,19,20,21,22,23,24,25,26,27,28,29,30,31,32,33,34,35,36,37,38,39,40,41,42,43,44,45,46,47,48,49,50,51,52,53,54,55,56,57,58,59,60,61,62,63,64,65,66,67,68,69,70,71,72,73,74,75,76,77,78,79,80,81,82,83,84,85,86,87,88,89,90,92,94],\"xaxis\":\"x\",\"y\":[4,4,1,4,1,4,4,3,4,4,4,1,2,1,4,4,1,3,3,4,3,1,4,3,3,4,1,1,4,3,4,4,4,4,4,1,4,4,1,1,3,4,3,4,1,4,4,4,4,3,4,4,4,1,2,4,4,3,1,4,4,1,1,4,3,4,3,2,2,1,1,1,3,2,4],\"yaxis\":\"y\",\"type\":\"scatter\"}],                        {\"template\":{\"data\":{\"histogram2dcontour\":[{\"type\":\"histogram2dcontour\",\"colorbar\":{\"outlinewidth\":0,\"ticks\":\"\"},\"colorscale\":[[0.0,\"#0d0887\"],[0.1111111111111111,\"#46039f\"],[0.2222222222222222,\"#7201a8\"],[0.3333333333333333,\"#9c179e\"],[0.4444444444444444,\"#bd3786\"],[0.5555555555555556,\"#d8576b\"],[0.6666666666666666,\"#ed7953\"],[0.7777777777777778,\"#fb9f3a\"],[0.8888888888888888,\"#fdca26\"],[1.0,\"#f0f921\"]]}],\"choropleth\":[{\"type\":\"choropleth\",\"colorbar\":{\"outlinewidth\":0,\"ticks\":\"\"}}],\"histogram2d\":[{\"type\":\"histogram2d\",\"colorbar\":{\"outlinewidth\":0,\"ticks\":\"\"},\"colorscale\":[[0.0,\"#0d0887\"],[0.1111111111111111,\"#46039f\"],[0.2222222222222222,\"#7201a8\"],[0.3333333333333333,\"#9c179e\"],[0.4444444444444444,\"#bd3786\"],[0.5555555555555556,\"#d8576b\"],[0.6666666666666666,\"#ed7953\"],[0.7777777777777778,\"#fb9f3a\"],[0.8888888888888888,\"#fdca26\"],[1.0,\"#f0f921\"]]}],\"heatmap\":[{\"type\":\"heatmap\",\"colorbar\":{\"outlinewidth\":0,\"ticks\":\"\"},\"colorscale\":[[0.0,\"#0d0887\"],[0.1111111111111111,\"#46039f\"],[0.2222222222222222,\"#7201a8\"],[0.3333333333333333,\"#9c179e\"],[0.4444444444444444,\"#bd3786\"],[0.5555555555555556,\"#d8576b\"],[0.6666666666666666,\"#ed7953\"],[0.7777777777777778,\"#fb9f3a\"],[0.8888888888888888,\"#fdca26\"],[1.0,\"#f0f921\"]]}],\"heatmapgl\":[{\"type\":\"heatmapgl\",\"colorbar\":{\"outlinewidth\":0,\"ticks\":\"\"},\"colorscale\":[[0.0,\"#0d0887\"],[0.1111111111111111,\"#46039f\"],[0.2222222222222222,\"#7201a8\"],[0.3333333333333333,\"#9c179e\"],[0.4444444444444444,\"#bd3786\"],[0.5555555555555556,\"#d8576b\"],[0.6666666666666666,\"#ed7953\"],[0.7777777777777778,\"#fb9f3a\"],[0.8888888888888888,\"#fdca26\"],[1.0,\"#f0f921\"]]}],\"contourcarpet\":[{\"type\":\"contourcarpet\",\"colorbar\":{\"outlinewidth\":0,\"ticks\":\"\"}}],\"contour\":[{\"type\":\"contour\",\"colorbar\":{\"outlinewidth\":0,\"ticks\":\"\"},\"colorscale\":[[0.0,\"#0d0887\"],[0.1111111111111111,\"#46039f\"],[0.2222222222222222,\"#7201a8\"],[0.3333333333333333,\"#9c179e\"],[0.4444444444444444,\"#bd3786\"],[0.5555555555555556,\"#d8576b\"],[0.6666666666666666,\"#ed7953\"],[0.7777777777777778,\"#fb9f3a\"],[0.8888888888888888,\"#fdca26\"],[1.0,\"#f0f921\"]]}],\"surface\":[{\"type\":\"surface\",\"colorbar\":{\"outlinewidth\":0,\"ticks\":\"\"},\"colorscale\":[[0.0,\"#0d0887\"],[0.1111111111111111,\"#46039f\"],[0.2222222222222222,\"#7201a8\"],[0.3333333333333333,\"#9c179e\"],[0.4444444444444444,\"#bd3786\"],[0.5555555555555556,\"#d8576b\"],[0.6666666666666666,\"#ed7953\"],[0.7777777777777778,\"#fb9f3a\"],[0.8888888888888888,\"#fdca26\"],[1.0,\"#f0f921\"]]}],\"mesh3d\":[{\"type\":\"mesh3d\",\"colorbar\":{\"outlinewidth\":0,\"ticks\":\"\"}}],\"scatter\":[{\"fillpattern\":{\"fillmode\":\"overlay\",\"size\":10,\"solidity\":0.2},\"type\":\"scatter\"}],\"parcoords\":[{\"type\":\"parcoords\",\"line\":{\"colorbar\":{\"outlinewidth\":0,\"ticks\":\"\"}}}],\"scatterpolargl\":[{\"type\":\"scatterpolargl\",\"marker\":{\"colorbar\":{\"outlinewidth\":0,\"ticks\":\"\"}}}],\"bar\":[{\"error_x\":{\"color\":\"#2a3f5f\"},\"error_y\":{\"color\":\"#2a3f5f\"},\"marker\":{\"line\":{\"color\":\"#E5ECF6\",\"width\":0.5},\"pattern\":{\"fillmode\":\"overlay\",\"size\":10,\"solidity\":0.2}},\"type\":\"bar\"}],\"scattergeo\":[{\"type\":\"scattergeo\",\"marker\":{\"colorbar\":{\"outlinewidth\":0,\"ticks\":\"\"}}}],\"scatterpolar\":[{\"type\":\"scatterpolar\",\"marker\":{\"colorbar\":{\"outlinewidth\":0,\"ticks\":\"\"}}}],\"histogram\":[{\"marker\":{\"pattern\":{\"fillmode\":\"overlay\",\"size\":10,\"solidity\":0.2}},\"type\":\"histogram\"}],\"scattergl\":[{\"type\":\"scattergl\",\"marker\":{\"colorbar\":{\"outlinewidth\":0,\"ticks\":\"\"}}}],\"scatter3d\":[{\"type\":\"scatter3d\",\"line\":{\"colorbar\":{\"outlinewidth\":0,\"ticks\":\"\"}},\"marker\":{\"colorbar\":{\"outlinewidth\":0,\"ticks\":\"\"}}}],\"scattermapbox\":[{\"type\":\"scattermapbox\",\"marker\":{\"colorbar\":{\"outlinewidth\":0,\"ticks\":\"\"}}}],\"scatterternary\":[{\"type\":\"scatterternary\",\"marker\":{\"colorbar\":{\"outlinewidth\":0,\"ticks\":\"\"}}}],\"scattercarpet\":[{\"type\":\"scattercarpet\",\"marker\":{\"colorbar\":{\"outlinewidth\":0,\"ticks\":\"\"}}}],\"carpet\":[{\"aaxis\":{\"endlinecolor\":\"#2a3f5f\",\"gridcolor\":\"white\",\"linecolor\":\"white\",\"minorgridcolor\":\"white\",\"startlinecolor\":\"#2a3f5f\"},\"baxis\":{\"endlinecolor\":\"#2a3f5f\",\"gridcolor\":\"white\",\"linecolor\":\"white\",\"minorgridcolor\":\"white\",\"startlinecolor\":\"#2a3f5f\"},\"type\":\"carpet\"}],\"table\":[{\"cells\":{\"fill\":{\"color\":\"#EBF0F8\"},\"line\":{\"color\":\"white\"}},\"header\":{\"fill\":{\"color\":\"#C8D4E3\"},\"line\":{\"color\":\"white\"}},\"type\":\"table\"}],\"barpolar\":[{\"marker\":{\"line\":{\"color\":\"#E5ECF6\",\"width\":0.5},\"pattern\":{\"fillmode\":\"overlay\",\"size\":10,\"solidity\":0.2}},\"type\":\"barpolar\"}],\"pie\":[{\"automargin\":true,\"type\":\"pie\"}]},\"layout\":{\"autotypenumbers\":\"strict\",\"colorway\":[\"#636efa\",\"#EF553B\",\"#00cc96\",\"#ab63fa\",\"#FFA15A\",\"#19d3f3\",\"#FF6692\",\"#B6E880\",\"#FF97FF\",\"#FECB52\"],\"font\":{\"color\":\"#2a3f5f\"},\"hovermode\":\"closest\",\"hoverlabel\":{\"align\":\"left\"},\"paper_bgcolor\":\"white\",\"plot_bgcolor\":\"#E5ECF6\",\"polar\":{\"bgcolor\":\"#E5ECF6\",\"angularaxis\":{\"gridcolor\":\"white\",\"linecolor\":\"white\",\"ticks\":\"\"},\"radialaxis\":{\"gridcolor\":\"white\",\"linecolor\":\"white\",\"ticks\":\"\"}},\"ternary\":{\"bgcolor\":\"#E5ECF6\",\"aaxis\":{\"gridcolor\":\"white\",\"linecolor\":\"white\",\"ticks\":\"\"},\"baxis\":{\"gridcolor\":\"white\",\"linecolor\":\"white\",\"ticks\":\"\"},\"caxis\":{\"gridcolor\":\"white\",\"linecolor\":\"white\",\"ticks\":\"\"}},\"coloraxis\":{\"colorbar\":{\"outlinewidth\":0,\"ticks\":\"\"}},\"colorscale\":{\"sequential\":[[0.0,\"#0d0887\"],[0.1111111111111111,\"#46039f\"],[0.2222222222222222,\"#7201a8\"],[0.3333333333333333,\"#9c179e\"],[0.4444444444444444,\"#bd3786\"],[0.5555555555555556,\"#d8576b\"],[0.6666666666666666,\"#ed7953\"],[0.7777777777777778,\"#fb9f3a\"],[0.8888888888888888,\"#fdca26\"],[1.0,\"#f0f921\"]],\"sequentialminus\":[[0.0,\"#0d0887\"],[0.1111111111111111,\"#46039f\"],[0.2222222222222222,\"#7201a8\"],[0.3333333333333333,\"#9c179e\"],[0.4444444444444444,\"#bd3786\"],[0.5555555555555556,\"#d8576b\"],[0.6666666666666666,\"#ed7953\"],[0.7777777777777778,\"#fb9f3a\"],[0.8888888888888888,\"#fdca26\"],[1.0,\"#f0f921\"]],\"diverging\":[[0,\"#8e0152\"],[0.1,\"#c51b7d\"],[0.2,\"#de77ae\"],[0.3,\"#f1b6da\"],[0.4,\"#fde0ef\"],[0.5,\"#f7f7f7\"],[0.6,\"#e6f5d0\"],[0.7,\"#b8e186\"],[0.8,\"#7fbc41\"],[0.9,\"#4d9221\"],[1,\"#276419\"]]},\"xaxis\":{\"gridcolor\":\"white\",\"linecolor\":\"white\",\"ticks\":\"\",\"title\":{\"standoff\":15},\"zerolinecolor\":\"white\",\"automargin\":true,\"zerolinewidth\":2},\"yaxis\":{\"gridcolor\":\"white\",\"linecolor\":\"white\",\"ticks\":\"\",\"title\":{\"standoff\":15},\"zerolinecolor\":\"white\",\"automargin\":true,\"zerolinewidth\":2},\"scene\":{\"xaxis\":{\"backgroundcolor\":\"#E5ECF6\",\"gridcolor\":\"white\",\"linecolor\":\"white\",\"showbackground\":true,\"ticks\":\"\",\"zerolinecolor\":\"white\",\"gridwidth\":2},\"yaxis\":{\"backgroundcolor\":\"#E5ECF6\",\"gridcolor\":\"white\",\"linecolor\":\"white\",\"showbackground\":true,\"ticks\":\"\",\"zerolinecolor\":\"white\",\"gridwidth\":2},\"zaxis\":{\"backgroundcolor\":\"#E5ECF6\",\"gridcolor\":\"white\",\"linecolor\":\"white\",\"showbackground\":true,\"ticks\":\"\",\"zerolinecolor\":\"white\",\"gridwidth\":2}},\"shapedefaults\":{\"line\":{\"color\":\"#2a3f5f\"}},\"annotationdefaults\":{\"arrowcolor\":\"#2a3f5f\",\"arrowhead\":0,\"arrowwidth\":1},\"geo\":{\"bgcolor\":\"white\",\"landcolor\":\"#E5ECF6\",\"subunitcolor\":\"white\",\"showland\":true,\"showlakes\":true,\"lakecolor\":\"white\"},\"title\":{\"x\":0.05},\"mapbox\":{\"style\":\"light\"}}},\"xaxis\":{\"anchor\":\"y\",\"domain\":[0.0,1.0],\"title\":{\"text\":\"age\"}},\"yaxis\":{\"anchor\":\"x\",\"domain\":[0.0,1.0],\"title\":{\"text\":\"Max response to abortion of every age\"},\"dtick\":[1,2,3,4]},\"legend\":{\"tracegroupgap\":0},\"title\":{\"text\":\"Max response to abortion of every age\"}},                        {\"responsive\": true}                    ).then(function(){\n",
       "                            \n",
       "var gd = document.getElementById('c54d42d8-cdd7-4258-ba62-98b63d10251d');\n",
       "var x = new MutationObserver(function (mutations, observer) {{\n",
       "        var display = window.getComputedStyle(gd).display;\n",
       "        if (!display || display === 'none') {{\n",
       "            console.log([gd, 'removed!']);\n",
       "            Plotly.purge(gd);\n",
       "            observer.disconnect();\n",
       "        }}\n",
       "}});\n",
       "\n",
       "// Listen for the removal of the full notebook cells\n",
       "var notebookContainer = gd.closest('#notebook-container');\n",
       "if (notebookContainer) {{\n",
       "    x.observe(notebookContainer, {childList: true});\n",
       "}}\n",
       "\n",
       "// Listen for the clearing of the current output cell\n",
       "var outputEl = gd.closest('.output');\n",
       "if (outputEl) {{\n",
       "    x.observe(outputEl, {childList: true});\n",
       "}}\n",
       "\n",
       "                        })                };                });            </script>        </div>"
      ]
     },
     "metadata": {},
     "output_type": "display_data"
    }
   ],
   "source": [
    "abortion_age()"
   ]
  },
  {
   "cell_type": "code",
   "execution_count": 6,
   "id": "f41630bd",
   "metadata": {
    "scrolled": true
   },
   "outputs": [
    {
     "data": {
      "application/vnd.plotly.v1+json": {
       "config": {
        "plotlyServerURL": "https://plot.ly"
       },
       "data": [
        {
         "alignmentgroup": "True",
         "bingroup": "x",
         "hovertemplate": "age=%{x}<br>count=%{y}<extra></extra>",
         "legendgroup": "",
         "marker": {
          "color": "#636efa",
          "pattern": {
           "shape": ""
          }
         },
         "name": "",
         "nbinsx": 50,
         "offsetgroup": "",
         "orientation": "v",
         "showlegend": false,
         "type": "histogram",
         "x": [
          64,
          41,
          37,
          77,
          46,
          68,
          53,
          27,
          25,
          68,
          47,
          68,
          46,
          37,
          40,
          36,
          83,
          57,
          70,
          85,
          27,
          44,
          51,
          69,
          72,
          51,
          53,
          48,
          24,
          59,
          55,
          19,
          53,
          51,
          71,
          44,
          84,
          29,
          54,
          25,
          24,
          33,
          70,
          36,
          58,
          68,
          75,
          36,
          51,
          48,
          43,
          33,
          50,
          53,
          81,
          31,
          31,
          29,
          55,
          94,
          45,
          76,
          54,
          23,
          84,
          82,
          92,
          47,
          32,
          56,
          46,
          27,
          89,
          79,
          51,
          56,
          63,
          54,
          45,
          35,
          66,
          59,
          64,
          65,
          22,
          70,
          33,
          21,
          22,
          66,
          49,
          70,
          67,
          19,
          53,
          75,
          30,
          39,
          89,
          54,
          79,
          32,
          56,
          50,
          78,
          64,
          57,
          52,
          53,
          55,
          61,
          21,
          44,
          67,
          51,
          53,
          62,
          26,
          26,
          47,
          56,
          57,
          83,
          32,
          37,
          55,
          83,
          43,
          47,
          31,
          63,
          41,
          48,
          23,
          19,
          43,
          33,
          70,
          61,
          44,
          68,
          51,
          79,
          49,
          26,
          62,
          69,
          77,
          23,
          39,
          75,
          78,
          36,
          58,
          30,
          29,
          49,
          43,
          84,
          55,
          37,
          36,
          69,
          69,
          49,
          70,
          31,
          32,
          66,
          37,
          82,
          60,
          48,
          27,
          50,
          54,
          48,
          36,
          61,
          58,
          58,
          49,
          29,
          74,
          25,
          18,
          24,
          51,
          35,
          74,
          87,
          61,
          60,
          64,
          48,
          49,
          35,
          26,
          53,
          73,
          63,
          62,
          54,
          50,
          73,
          73,
          61,
          78,
          34,
          55,
          45,
          26,
          77,
          65,
          46,
          45,
          55,
          46,
          82,
          44,
          48,
          58,
          41,
          29,
          62,
          82,
          65,
          47,
          60,
          53,
          76,
          63,
          19,
          23,
          78,
          46,
          67,
          42,
          42,
          57,
          50,
          78,
          31,
          19,
          19,
          21,
          23,
          64,
          40,
          46,
          40,
          65,
          69,
          36,
          31,
          32,
          55,
          76,
          56,
          41,
          56,
          87,
          24,
          62,
          54,
          18,
          62,
          53,
          28,
          31,
          22,
          54,
          76,
          21,
          83,
          40,
          88,
          27,
          55,
          73,
          47,
          56,
          47,
          66,
          48,
          28,
          74,
          22,
          43,
          78,
          57,
          18,
          60,
          28,
          57,
          29,
          28,
          68,
          58,
          74,
          59,
          51,
          25,
          20,
          38,
          60,
          30,
          62,
          40,
          83,
          34,
          23,
          80,
          77,
          38,
          44,
          61,
          77,
          64,
          57,
          40,
          64,
          71,
          71,
          42,
          32,
          64,
          36,
          40,
          64,
          19,
          75,
          35,
          49,
          47,
          50,
          45,
          60,
          49,
          78,
          37,
          72,
          43,
          61,
          67,
          67,
          68,
          72,
          31,
          49,
          80,
          42,
          28,
          62,
          84,
          20,
          78,
          45,
          46,
          35,
          52,
          21,
          57,
          53,
          59,
          33,
          73,
          72,
          28,
          46,
          38,
          27,
          74,
          88,
          80,
          28,
          32,
          67,
          31,
          26,
          37,
          22,
          70,
          76,
          24,
          74,
          46,
          63,
          33,
          37,
          31,
          51,
          29,
          56,
          33,
          68,
          75,
          58,
          64,
          61,
          21,
          35,
          38,
          32,
          24,
          20,
          71,
          35,
          42,
          54,
          70,
          47,
          65,
          67,
          42,
          28,
          64,
          66,
          41,
          47,
          66,
          84,
          70,
          64,
          31,
          38,
          51,
          54,
          51,
          33,
          79,
          51,
          64,
          74,
          49,
          51,
          76,
          78,
          48,
          77,
          59,
          40,
          66,
          29,
          50,
          32,
          47,
          42,
          47,
          62,
          18,
          43,
          52,
          40,
          57,
          72,
          56,
          45,
          49,
          22,
          51,
          83,
          23,
          55,
          61,
          83,
          52,
          45,
          69,
          23,
          60,
          65,
          54,
          37,
          18,
          54,
          29,
          64,
          50,
          60,
          75,
          38,
          36,
          49,
          80,
          33,
          36,
          73,
          33,
          31,
          52,
          59,
          40,
          18,
          55,
          54,
          77,
          81,
          24,
          75,
          18,
          21,
          82,
          29,
          31,
          79,
          64,
          82,
          54,
          28,
          47,
          59,
          58,
          45,
          56,
          82,
          60,
          60,
          48,
          27,
          77,
          38,
          35,
          34,
          30,
          31,
          51,
          34,
          48,
          53,
          28,
          60,
          45,
          40,
          78,
          53,
          54,
          38,
          75,
          54,
          65,
          63,
          33,
          52,
          66,
          51,
          49,
          53,
          51,
          76,
          77,
          50,
          22,
          57,
          29,
          36,
          57,
          67,
          63,
          37,
          54,
          48,
          18,
          19,
          59,
          31,
          43,
          61,
          50,
          71,
          38,
          54,
          64,
          60,
          59,
          29,
          59,
          21,
          27,
          63,
          51,
          67,
          68,
          27,
          73,
          59,
          80,
          28,
          33,
          56,
          51,
          61,
          60,
          41,
          48,
          18,
          25,
          34,
          49,
          67,
          69,
          48,
          73,
          38,
          38,
          53,
          55,
          27,
          65,
          64,
          53,
          37,
          89,
          67,
          54,
          59,
          49,
          68,
          52,
          63,
          81,
          55,
          19,
          50,
          63,
          38,
          68,
          50,
          67,
          50,
          24,
          33,
          19,
          35,
          42,
          39,
          19,
          57,
          37,
          64,
          78,
          52,
          44,
          50,
          48,
          56,
          58,
          67,
          85,
          48,
          72,
          38,
          54,
          34,
          18,
          82,
          63,
          33,
          64,
          72,
          70,
          75,
          51,
          27,
          37,
          48,
          25,
          79,
          54,
          46,
          28,
          48,
          66,
          36,
          66,
          44,
          25,
          30,
          48,
          35,
          24,
          59,
          59,
          57,
          54,
          71,
          64,
          69,
          66,
          38,
          72,
          52,
          38,
          52,
          51,
          49,
          64,
          68,
          43,
          50,
          77,
          76,
          56,
          43,
          27,
          77,
          40,
          82,
          52,
          26,
          56,
          29,
          43,
          56,
          29,
          75,
          66,
          21,
          41,
          52,
          64,
          30,
          74,
          57,
          68,
          57,
          51,
          46,
          79,
          70,
          50,
          44,
          67,
          73,
          75,
          65,
          57,
          25,
          39,
          62,
          59,
          50,
          59,
          28,
          74,
          54,
          29,
          21,
          66,
          58,
          29,
          29,
          22,
          59,
          42,
          55,
          49,
          56,
          60,
          67,
          40,
          67,
          51,
          44,
          20,
          69,
          41,
          36,
          56,
          44,
          61,
          44,
          41,
          32,
          34,
          82,
          75,
          29,
          32,
          60,
          81,
          36,
          64,
          65,
          60,
          25,
          59,
          60,
          71,
          67,
          37,
          53,
          73,
          55,
          47,
          68,
          35,
          22,
          48,
          19,
          78,
          23,
          51,
          33,
          54,
          40,
          57,
          63,
          55,
          73,
          32,
          81,
          33,
          68,
          60,
          85,
          51,
          49,
          23,
          76,
          61,
          56,
          69,
          40,
          67,
          82,
          65,
          36,
          55,
          54,
          40,
          48,
          68,
          42,
          35,
          35,
          62,
          26,
          40,
          18,
          76,
          68,
          55,
          52,
          30,
          29,
          24,
          66,
          28,
          61,
          30,
          58,
          85,
          54,
          61,
          67,
          49,
          56,
          28,
          50,
          58,
          30,
          54,
          44,
          69,
          30,
          51,
          70,
          85,
          72,
          27,
          60,
          43,
          63,
          37,
          21,
          67,
          71,
          36,
          60,
          76,
          51,
          23,
          46,
          43,
          35,
          58,
          84,
          64,
          43,
          66,
          23,
          67,
          74,
          51,
          75,
          71,
          52,
          70,
          27,
          37,
          70,
          79,
          32,
          28,
          44,
          33,
          54,
          37,
          56,
          55,
          84,
          26,
          73,
          76,
          61,
          56,
          32,
          67,
          53,
          37,
          43,
          63,
          27,
          54,
          38,
          77,
          43,
          61,
          39,
          20,
          53,
          55,
          21,
          39,
          63,
          18,
          70,
          81,
          29,
          62,
          69,
          68,
          58,
          86,
          18,
          41,
          59,
          56,
          52,
          49,
          79,
          45,
          42,
          51,
          92,
          68,
          50,
          80,
          43,
          80,
          60,
          52,
          72,
          65,
          66,
          51,
          56,
          26,
          32,
          82,
          61,
          44,
          48,
          58,
          42,
          67,
          38,
          36,
          39,
          77,
          68,
          76,
          43,
          67,
          60,
          65,
          62,
          57,
          84,
          63,
          60,
          66,
          22,
          18,
          77,
          52,
          25,
          29,
          27,
          68,
          59,
          23,
          56,
          54,
          58,
          26,
          22,
          44,
          58,
          81,
          90,
          62,
          36,
          58,
          52,
          79,
          37,
          57,
          81,
          53,
          69,
          49,
          23,
          65,
          28,
          37,
          21,
          67,
          75,
          53,
          51,
          52,
          77,
          26,
          63,
          55,
          43,
          56,
          73,
          79,
          60,
          53,
          28,
          38,
          35,
          68,
          71,
          87,
          36,
          92,
          70,
          78,
          20,
          58,
          65,
          40,
          68,
          55,
          57,
          29,
          24,
          77,
          42,
          46,
          73,
          42,
          21,
          64,
          29,
          61,
          59,
          58,
          83,
          25,
          51,
          53,
          67,
          56,
          34,
          66,
          53,
          65,
          70,
          56,
          62,
          77,
          82,
          41,
          86,
          52,
          57,
          66,
          50,
          21,
          66,
          38,
          50,
          62,
          80,
          69,
          40,
          88,
          70,
          31,
          57,
          49,
          35,
          58,
          40,
          34,
          64,
          50,
          56,
          77,
          56,
          20,
          57,
          71,
          37,
          37,
          68,
          77,
          44,
          52,
          37,
          51,
          53,
          65,
          69,
          20,
          44,
          54,
          74,
          20,
          73,
          19,
          67,
          85,
          78,
          62,
          48,
          30,
          35,
          26,
          20,
          68,
          69,
          60,
          53,
          64,
          79,
          74,
          32,
          55,
          39,
          21,
          39,
          73,
          35,
          77,
          52,
          27,
          68,
          40,
          30,
          44,
          41,
          75,
          64,
          19,
          60,
          40,
          38,
          52,
          77,
          50,
          35,
          27,
          79,
          58,
          54,
          69,
          64,
          37,
          56,
          38,
          78,
          67,
          25,
          56,
          45,
          64,
          45,
          66,
          38,
          68,
          66,
          76,
          55,
          73,
          19,
          33,
          66,
          73,
          53,
          65,
          58,
          68,
          51,
          80,
          46,
          27,
          55,
          58,
          67,
          34,
          54,
          70,
          34,
          29,
          75,
          68,
          80,
          26,
          27,
          39,
          71,
          66,
          61,
          64,
          57,
          49,
          31,
          39,
          66,
          92,
          66,
          73,
          22,
          69,
          37,
          58,
          33,
          29,
          46,
          34,
          24,
          55,
          34,
          55,
          85,
          20,
          29,
          34,
          42,
          19,
          52,
          59,
          29,
          27,
          49,
          68,
          53,
          33,
          69,
          50,
          78,
          25,
          56,
          25,
          55,
          55,
          38,
          56,
          78,
          38,
          20,
          35,
          77,
          72,
          59,
          52,
          51,
          47,
          39,
          77,
          52,
          66,
          32,
          74,
          49,
          45,
          78,
          82,
          53,
          23,
          33,
          28,
          23,
          69,
          20,
          49,
          88,
          39,
          76,
          82,
          67,
          33,
          67,
          20,
          36,
          48,
          51,
          30,
          44,
          49,
          81,
          52,
          72,
          62,
          70,
          65,
          63,
          52,
          34,
          28,
          18,
          34,
          21,
          45,
          45,
          39,
          40,
          29,
          65,
          32,
          74,
          21,
          37,
          80,
          62,
          34,
          59,
          44,
          57,
          44,
          41,
          66,
          54,
          54,
          27,
          67,
          57,
          64,
          68,
          31,
          26,
          67,
          43,
          68,
          56,
          37,
          60,
          54,
          20,
          27,
          78,
          45,
          31,
          65,
          69,
          22,
          37,
          60,
          35,
          19,
          62,
          61,
          71,
          49,
          62,
          25,
          40,
          48,
          28,
          24,
          56,
          21,
          20,
          19,
          61,
          78,
          36,
          34,
          34,
          40,
          36,
          50,
          74,
          47,
          48,
          71,
          65,
          59,
          42,
          52,
          57,
          48,
          41,
          58,
          56,
          35,
          31,
          21,
          53,
          37,
          71,
          34,
          48,
          40,
          83,
          61,
          51,
          47,
          73,
          84,
          27,
          45,
          52,
          81,
          46,
          25,
          36,
          55,
          22,
          67,
          25,
          44,
          27,
          49,
          44,
          37,
          57,
          21,
          74,
          40,
          50,
          40,
          82,
          36,
          67,
          35,
          26,
          65,
          55,
          26,
          47,
          33,
          46,
          53,
          45,
          65,
          37,
          87,
          74,
          65,
          19,
          57,
          50,
          49,
          67,
          25,
          70,
          51,
          51,
          48,
          53,
          45,
          37,
          42,
          34,
          23,
          43,
          50,
          60,
          44,
          54,
          42,
          28,
          55,
          46,
          43,
          51,
          31,
          71,
          55,
          53,
          55,
          50,
          84,
          23,
          52,
          26,
          36,
          23,
          75,
          72,
          47,
          65,
          65,
          44,
          61,
          65,
          55,
          50,
          60,
          53,
          49,
          83,
          31,
          66,
          60,
          68,
          64,
          35,
          54,
          46,
          36,
          43,
          26,
          30,
          67,
          43,
          42,
          38,
          57,
          72,
          49,
          59,
          35,
          61,
          30,
          24,
          39,
          25,
          63,
          36,
          62,
          22,
          60,
          42,
          47,
          80,
          57,
          62,
          69,
          51,
          65,
          31,
          52,
          55,
          36,
          73,
          58,
          60,
          69,
          43,
          32,
          88
         ],
         "xaxis": "x",
         "yaxis": "y"
        }
       ],
       "layout": {
        "bargap": 0.2,
        "barmode": "relative",
        "legend": {
         "tracegroupgap": 0
        },
        "template": {
         "data": {
          "bar": [
           {
            "error_x": {
             "color": "#2a3f5f"
            },
            "error_y": {
             "color": "#2a3f5f"
            },
            "marker": {
             "line": {
              "color": "#E5ECF6",
              "width": 0.5
             },
             "pattern": {
              "fillmode": "overlay",
              "size": 10,
              "solidity": 0.2
             }
            },
            "type": "bar"
           }
          ],
          "barpolar": [
           {
            "marker": {
             "line": {
              "color": "#E5ECF6",
              "width": 0.5
             },
             "pattern": {
              "fillmode": "overlay",
              "size": 10,
              "solidity": 0.2
             }
            },
            "type": "barpolar"
           }
          ],
          "carpet": [
           {
            "aaxis": {
             "endlinecolor": "#2a3f5f",
             "gridcolor": "white",
             "linecolor": "white",
             "minorgridcolor": "white",
             "startlinecolor": "#2a3f5f"
            },
            "baxis": {
             "endlinecolor": "#2a3f5f",
             "gridcolor": "white",
             "linecolor": "white",
             "minorgridcolor": "white",
             "startlinecolor": "#2a3f5f"
            },
            "type": "carpet"
           }
          ],
          "choropleth": [
           {
            "colorbar": {
             "outlinewidth": 0,
             "ticks": ""
            },
            "type": "choropleth"
           }
          ],
          "contour": [
           {
            "colorbar": {
             "outlinewidth": 0,
             "ticks": ""
            },
            "colorscale": [
             [
              0,
              "#0d0887"
             ],
             [
              0.1111111111111111,
              "#46039f"
             ],
             [
              0.2222222222222222,
              "#7201a8"
             ],
             [
              0.3333333333333333,
              "#9c179e"
             ],
             [
              0.4444444444444444,
              "#bd3786"
             ],
             [
              0.5555555555555556,
              "#d8576b"
             ],
             [
              0.6666666666666666,
              "#ed7953"
             ],
             [
              0.7777777777777778,
              "#fb9f3a"
             ],
             [
              0.8888888888888888,
              "#fdca26"
             ],
             [
              1,
              "#f0f921"
             ]
            ],
            "type": "contour"
           }
          ],
          "contourcarpet": [
           {
            "colorbar": {
             "outlinewidth": 0,
             "ticks": ""
            },
            "type": "contourcarpet"
           }
          ],
          "heatmap": [
           {
            "colorbar": {
             "outlinewidth": 0,
             "ticks": ""
            },
            "colorscale": [
             [
              0,
              "#0d0887"
             ],
             [
              0.1111111111111111,
              "#46039f"
             ],
             [
              0.2222222222222222,
              "#7201a8"
             ],
             [
              0.3333333333333333,
              "#9c179e"
             ],
             [
              0.4444444444444444,
              "#bd3786"
             ],
             [
              0.5555555555555556,
              "#d8576b"
             ],
             [
              0.6666666666666666,
              "#ed7953"
             ],
             [
              0.7777777777777778,
              "#fb9f3a"
             ],
             [
              0.8888888888888888,
              "#fdca26"
             ],
             [
              1,
              "#f0f921"
             ]
            ],
            "type": "heatmap"
           }
          ],
          "heatmapgl": [
           {
            "colorbar": {
             "outlinewidth": 0,
             "ticks": ""
            },
            "colorscale": [
             [
              0,
              "#0d0887"
             ],
             [
              0.1111111111111111,
              "#46039f"
             ],
             [
              0.2222222222222222,
              "#7201a8"
             ],
             [
              0.3333333333333333,
              "#9c179e"
             ],
             [
              0.4444444444444444,
              "#bd3786"
             ],
             [
              0.5555555555555556,
              "#d8576b"
             ],
             [
              0.6666666666666666,
              "#ed7953"
             ],
             [
              0.7777777777777778,
              "#fb9f3a"
             ],
             [
              0.8888888888888888,
              "#fdca26"
             ],
             [
              1,
              "#f0f921"
             ]
            ],
            "type": "heatmapgl"
           }
          ],
          "histogram": [
           {
            "marker": {
             "pattern": {
              "fillmode": "overlay",
              "size": 10,
              "solidity": 0.2
             }
            },
            "type": "histogram"
           }
          ],
          "histogram2d": [
           {
            "colorbar": {
             "outlinewidth": 0,
             "ticks": ""
            },
            "colorscale": [
             [
              0,
              "#0d0887"
             ],
             [
              0.1111111111111111,
              "#46039f"
             ],
             [
              0.2222222222222222,
              "#7201a8"
             ],
             [
              0.3333333333333333,
              "#9c179e"
             ],
             [
              0.4444444444444444,
              "#bd3786"
             ],
             [
              0.5555555555555556,
              "#d8576b"
             ],
             [
              0.6666666666666666,
              "#ed7953"
             ],
             [
              0.7777777777777778,
              "#fb9f3a"
             ],
             [
              0.8888888888888888,
              "#fdca26"
             ],
             [
              1,
              "#f0f921"
             ]
            ],
            "type": "histogram2d"
           }
          ],
          "histogram2dcontour": [
           {
            "colorbar": {
             "outlinewidth": 0,
             "ticks": ""
            },
            "colorscale": [
             [
              0,
              "#0d0887"
             ],
             [
              0.1111111111111111,
              "#46039f"
             ],
             [
              0.2222222222222222,
              "#7201a8"
             ],
             [
              0.3333333333333333,
              "#9c179e"
             ],
             [
              0.4444444444444444,
              "#bd3786"
             ],
             [
              0.5555555555555556,
              "#d8576b"
             ],
             [
              0.6666666666666666,
              "#ed7953"
             ],
             [
              0.7777777777777778,
              "#fb9f3a"
             ],
             [
              0.8888888888888888,
              "#fdca26"
             ],
             [
              1,
              "#f0f921"
             ]
            ],
            "type": "histogram2dcontour"
           }
          ],
          "mesh3d": [
           {
            "colorbar": {
             "outlinewidth": 0,
             "ticks": ""
            },
            "type": "mesh3d"
           }
          ],
          "parcoords": [
           {
            "line": {
             "colorbar": {
              "outlinewidth": 0,
              "ticks": ""
             }
            },
            "type": "parcoords"
           }
          ],
          "pie": [
           {
            "automargin": true,
            "type": "pie"
           }
          ],
          "scatter": [
           {
            "fillpattern": {
             "fillmode": "overlay",
             "size": 10,
             "solidity": 0.2
            },
            "type": "scatter"
           }
          ],
          "scatter3d": [
           {
            "line": {
             "colorbar": {
              "outlinewidth": 0,
              "ticks": ""
             }
            },
            "marker": {
             "colorbar": {
              "outlinewidth": 0,
              "ticks": ""
             }
            },
            "type": "scatter3d"
           }
          ],
          "scattercarpet": [
           {
            "marker": {
             "colorbar": {
              "outlinewidth": 0,
              "ticks": ""
             }
            },
            "type": "scattercarpet"
           }
          ],
          "scattergeo": [
           {
            "marker": {
             "colorbar": {
              "outlinewidth": 0,
              "ticks": ""
             }
            },
            "type": "scattergeo"
           }
          ],
          "scattergl": [
           {
            "marker": {
             "colorbar": {
              "outlinewidth": 0,
              "ticks": ""
             }
            },
            "type": "scattergl"
           }
          ],
          "scattermapbox": [
           {
            "marker": {
             "colorbar": {
              "outlinewidth": 0,
              "ticks": ""
             }
            },
            "type": "scattermapbox"
           }
          ],
          "scatterpolar": [
           {
            "marker": {
             "colorbar": {
              "outlinewidth": 0,
              "ticks": ""
             }
            },
            "type": "scatterpolar"
           }
          ],
          "scatterpolargl": [
           {
            "marker": {
             "colorbar": {
              "outlinewidth": 0,
              "ticks": ""
             }
            },
            "type": "scatterpolargl"
           }
          ],
          "scatterternary": [
           {
            "marker": {
             "colorbar": {
              "outlinewidth": 0,
              "ticks": ""
             }
            },
            "type": "scatterternary"
           }
          ],
          "surface": [
           {
            "colorbar": {
             "outlinewidth": 0,
             "ticks": ""
            },
            "colorscale": [
             [
              0,
              "#0d0887"
             ],
             [
              0.1111111111111111,
              "#46039f"
             ],
             [
              0.2222222222222222,
              "#7201a8"
             ],
             [
              0.3333333333333333,
              "#9c179e"
             ],
             [
              0.4444444444444444,
              "#bd3786"
             ],
             [
              0.5555555555555556,
              "#d8576b"
             ],
             [
              0.6666666666666666,
              "#ed7953"
             ],
             [
              0.7777777777777778,
              "#fb9f3a"
             ],
             [
              0.8888888888888888,
              "#fdca26"
             ],
             [
              1,
              "#f0f921"
             ]
            ],
            "type": "surface"
           }
          ],
          "table": [
           {
            "cells": {
             "fill": {
              "color": "#EBF0F8"
             },
             "line": {
              "color": "white"
             }
            },
            "header": {
             "fill": {
              "color": "#C8D4E3"
             },
             "line": {
              "color": "white"
             }
            },
            "type": "table"
           }
          ]
         },
         "layout": {
          "annotationdefaults": {
           "arrowcolor": "#2a3f5f",
           "arrowhead": 0,
           "arrowwidth": 1
          },
          "autotypenumbers": "strict",
          "coloraxis": {
           "colorbar": {
            "outlinewidth": 0,
            "ticks": ""
           }
          },
          "colorscale": {
           "diverging": [
            [
             0,
             "#8e0152"
            ],
            [
             0.1,
             "#c51b7d"
            ],
            [
             0.2,
             "#de77ae"
            ],
            [
             0.3,
             "#f1b6da"
            ],
            [
             0.4,
             "#fde0ef"
            ],
            [
             0.5,
             "#f7f7f7"
            ],
            [
             0.6,
             "#e6f5d0"
            ],
            [
             0.7,
             "#b8e186"
            ],
            [
             0.8,
             "#7fbc41"
            ],
            [
             0.9,
             "#4d9221"
            ],
            [
             1,
             "#276419"
            ]
           ],
           "sequential": [
            [
             0,
             "#0d0887"
            ],
            [
             0.1111111111111111,
             "#46039f"
            ],
            [
             0.2222222222222222,
             "#7201a8"
            ],
            [
             0.3333333333333333,
             "#9c179e"
            ],
            [
             0.4444444444444444,
             "#bd3786"
            ],
            [
             0.5555555555555556,
             "#d8576b"
            ],
            [
             0.6666666666666666,
             "#ed7953"
            ],
            [
             0.7777777777777778,
             "#fb9f3a"
            ],
            [
             0.8888888888888888,
             "#fdca26"
            ],
            [
             1,
             "#f0f921"
            ]
           ],
           "sequentialminus": [
            [
             0,
             "#0d0887"
            ],
            [
             0.1111111111111111,
             "#46039f"
            ],
            [
             0.2222222222222222,
             "#7201a8"
            ],
            [
             0.3333333333333333,
             "#9c179e"
            ],
            [
             0.4444444444444444,
             "#bd3786"
            ],
            [
             0.5555555555555556,
             "#d8576b"
            ],
            [
             0.6666666666666666,
             "#ed7953"
            ],
            [
             0.7777777777777778,
             "#fb9f3a"
            ],
            [
             0.8888888888888888,
             "#fdca26"
            ],
            [
             1,
             "#f0f921"
            ]
           ]
          },
          "colorway": [
           "#636efa",
           "#EF553B",
           "#00cc96",
           "#ab63fa",
           "#FFA15A",
           "#19d3f3",
           "#FF6692",
           "#B6E880",
           "#FF97FF",
           "#FECB52"
          ],
          "font": {
           "color": "#2a3f5f"
          },
          "geo": {
           "bgcolor": "white",
           "lakecolor": "white",
           "landcolor": "#E5ECF6",
           "showlakes": true,
           "showland": true,
           "subunitcolor": "white"
          },
          "hoverlabel": {
           "align": "left"
          },
          "hovermode": "closest",
          "mapbox": {
           "style": "light"
          },
          "paper_bgcolor": "white",
          "plot_bgcolor": "#E5ECF6",
          "polar": {
           "angularaxis": {
            "gridcolor": "white",
            "linecolor": "white",
            "ticks": ""
           },
           "bgcolor": "#E5ECF6",
           "radialaxis": {
            "gridcolor": "white",
            "linecolor": "white",
            "ticks": ""
           }
          },
          "scene": {
           "xaxis": {
            "backgroundcolor": "#E5ECF6",
            "gridcolor": "white",
            "gridwidth": 2,
            "linecolor": "white",
            "showbackground": true,
            "ticks": "",
            "zerolinecolor": "white"
           },
           "yaxis": {
            "backgroundcolor": "#E5ECF6",
            "gridcolor": "white",
            "gridwidth": 2,
            "linecolor": "white",
            "showbackground": true,
            "ticks": "",
            "zerolinecolor": "white"
           },
           "zaxis": {
            "backgroundcolor": "#E5ECF6",
            "gridcolor": "white",
            "gridwidth": 2,
            "linecolor": "white",
            "showbackground": true,
            "ticks": "",
            "zerolinecolor": "white"
           }
          },
          "shapedefaults": {
           "line": {
            "color": "#2a3f5f"
           }
          },
          "ternary": {
           "aaxis": {
            "gridcolor": "white",
            "linecolor": "white",
            "ticks": ""
           },
           "baxis": {
            "gridcolor": "white",
            "linecolor": "white",
            "ticks": ""
           },
           "bgcolor": "#E5ECF6",
           "caxis": {
            "gridcolor": "white",
            "linecolor": "white",
            "ticks": ""
           }
          },
          "title": {
           "x": 0.05
          },
          "xaxis": {
           "automargin": true,
           "gridcolor": "white",
           "linecolor": "white",
           "ticks": "",
           "title": {
            "standoff": 15
           },
           "zerolinecolor": "white",
           "zerolinewidth": 2
          },
          "yaxis": {
           "automargin": true,
           "gridcolor": "white",
           "linecolor": "white",
           "ticks": "",
           "title": {
            "standoff": 15
           },
           "zerolinecolor": "white",
           "zerolinewidth": 2
          }
         }
        },
        "title": {
         "text": "Histogram for 'age'"
        },
        "xaxis": {
         "anchor": "y",
         "domain": [
          0,
          1
         ],
         "title": {
          "text": "age"
         }
        },
        "yaxis": {
         "anchor": "x",
         "domain": [
          0,
          1
         ],
         "title": {
          "text": "count"
         }
        }
       }
      },
      "text/html": [
       "<div>                            <div id=\"e682a6eb-01a0-4be6-b01d-73a30cf4cd54\" class=\"plotly-graph-div\" style=\"height:525px; width:100%;\"></div>            <script type=\"text/javascript\">                require([\"plotly\"], function(Plotly) {                    window.PLOTLYENV=window.PLOTLYENV || {};                                    if (document.getElementById(\"e682a6eb-01a0-4be6-b01d-73a30cf4cd54\")) {                    Plotly.newPlot(                        \"e682a6eb-01a0-4be6-b01d-73a30cf4cd54\",                        [{\"alignmentgroup\":\"True\",\"bingroup\":\"x\",\"hovertemplate\":\"age=%{x}<br>count=%{y}<extra></extra>\",\"legendgroup\":\"\",\"marker\":{\"color\":\"#636efa\",\"pattern\":{\"shape\":\"\"}},\"name\":\"\",\"nbinsx\":50,\"offsetgroup\":\"\",\"orientation\":\"v\",\"showlegend\":false,\"x\":[64,41,37,77,46,68,53,27,25,68,47,68,46,37,40,36,83,57,70,85,27,44,51,69,72,51,53,48,24,59,55,19,53,51,71,44,84,29,54,25,24,33,70,36,58,68,75,36,51,48,43,33,50,53,81,31,31,29,55,94,45,76,54,23,84,82,92,47,32,56,46,27,89,79,51,56,63,54,45,35,66,59,64,65,22,70,33,21,22,66,49,70,67,19,53,75,30,39,89,54,79,32,56,50,78,64,57,52,53,55,61,21,44,67,51,53,62,26,26,47,56,57,83,32,37,55,83,43,47,31,63,41,48,23,19,43,33,70,61,44,68,51,79,49,26,62,69,77,23,39,75,78,36,58,30,29,49,43,84,55,37,36,69,69,49,70,31,32,66,37,82,60,48,27,50,54,48,36,61,58,58,49,29,74,25,18,24,51,35,74,87,61,60,64,48,49,35,26,53,73,63,62,54,50,73,73,61,78,34,55,45,26,77,65,46,45,55,46,82,44,48,58,41,29,62,82,65,47,60,53,76,63,19,23,78,46,67,42,42,57,50,78,31,19,19,21,23,64,40,46,40,65,69,36,31,32,55,76,56,41,56,87,24,62,54,18,62,53,28,31,22,54,76,21,83,40,88,27,55,73,47,56,47,66,48,28,74,22,43,78,57,18,60,28,57,29,28,68,58,74,59,51,25,20,38,60,30,62,40,83,34,23,80,77,38,44,61,77,64,57,40,64,71,71,42,32,64,36,40,64,19,75,35,49,47,50,45,60,49,78,37,72,43,61,67,67,68,72,31,49,80,42,28,62,84,20,78,45,46,35,52,21,57,53,59,33,73,72,28,46,38,27,74,88,80,28,32,67,31,26,37,22,70,76,24,74,46,63,33,37,31,51,29,56,33,68,75,58,64,61,21,35,38,32,24,20,71,35,42,54,70,47,65,67,42,28,64,66,41,47,66,84,70,64,31,38,51,54,51,33,79,51,64,74,49,51,76,78,48,77,59,40,66,29,50,32,47,42,47,62,18,43,52,40,57,72,56,45,49,22,51,83,23,55,61,83,52,45,69,23,60,65,54,37,18,54,29,64,50,60,75,38,36,49,80,33,36,73,33,31,52,59,40,18,55,54,77,81,24,75,18,21,82,29,31,79,64,82,54,28,47,59,58,45,56,82,60,60,48,27,77,38,35,34,30,31,51,34,48,53,28,60,45,40,78,53,54,38,75,54,65,63,33,52,66,51,49,53,51,76,77,50,22,57,29,36,57,67,63,37,54,48,18,19,59,31,43,61,50,71,38,54,64,60,59,29,59,21,27,63,51,67,68,27,73,59,80,28,33,56,51,61,60,41,48,18,25,34,49,67,69,48,73,38,38,53,55,27,65,64,53,37,89,67,54,59,49,68,52,63,81,55,19,50,63,38,68,50,67,50,24,33,19,35,42,39,19,57,37,64,78,52,44,50,48,56,58,67,85,48,72,38,54,34,18,82,63,33,64,72,70,75,51,27,37,48,25,79,54,46,28,48,66,36,66,44,25,30,48,35,24,59,59,57,54,71,64,69,66,38,72,52,38,52,51,49,64,68,43,50,77,76,56,43,27,77,40,82,52,26,56,29,43,56,29,75,66,21,41,52,64,30,74,57,68,57,51,46,79,70,50,44,67,73,75,65,57,25,39,62,59,50,59,28,74,54,29,21,66,58,29,29,22,59,42,55,49,56,60,67,40,67,51,44,20,69,41,36,56,44,61,44,41,32,34,82,75,29,32,60,81,36,64,65,60,25,59,60,71,67,37,53,73,55,47,68,35,22,48,19,78,23,51,33,54,40,57,63,55,73,32,81,33,68,60,85,51,49,23,76,61,56,69,40,67,82,65,36,55,54,40,48,68,42,35,35,62,26,40,18,76,68,55,52,30,29,24,66,28,61,30,58,85,54,61,67,49,56,28,50,58,30,54,44,69,30,51,70,85,72,27,60,43,63,37,21,67,71,36,60,76,51,23,46,43,35,58,84,64,43,66,23,67,74,51,75,71,52,70,27,37,70,79,32,28,44,33,54,37,56,55,84,26,73,76,61,56,32,67,53,37,43,63,27,54,38,77,43,61,39,20,53,55,21,39,63,18,70,81,29,62,69,68,58,86,18,41,59,56,52,49,79,45,42,51,92,68,50,80,43,80,60,52,72,65,66,51,56,26,32,82,61,44,48,58,42,67,38,36,39,77,68,76,43,67,60,65,62,57,84,63,60,66,22,18,77,52,25,29,27,68,59,23,56,54,58,26,22,44,58,81,90,62,36,58,52,79,37,57,81,53,69,49,23,65,28,37,21,67,75,53,51,52,77,26,63,55,43,56,73,79,60,53,28,38,35,68,71,87,36,92,70,78,20,58,65,40,68,55,57,29,24,77,42,46,73,42,21,64,29,61,59,58,83,25,51,53,67,56,34,66,53,65,70,56,62,77,82,41,86,52,57,66,50,21,66,38,50,62,80,69,40,88,70,31,57,49,35,58,40,34,64,50,56,77,56,20,57,71,37,37,68,77,44,52,37,51,53,65,69,20,44,54,74,20,73,19,67,85,78,62,48,30,35,26,20,68,69,60,53,64,79,74,32,55,39,21,39,73,35,77,52,27,68,40,30,44,41,75,64,19,60,40,38,52,77,50,35,27,79,58,54,69,64,37,56,38,78,67,25,56,45,64,45,66,38,68,66,76,55,73,19,33,66,73,53,65,58,68,51,80,46,27,55,58,67,34,54,70,34,29,75,68,80,26,27,39,71,66,61,64,57,49,31,39,66,92,66,73,22,69,37,58,33,29,46,34,24,55,34,55,85,20,29,34,42,19,52,59,29,27,49,68,53,33,69,50,78,25,56,25,55,55,38,56,78,38,20,35,77,72,59,52,51,47,39,77,52,66,32,74,49,45,78,82,53,23,33,28,23,69,20,49,88,39,76,82,67,33,67,20,36,48,51,30,44,49,81,52,72,62,70,65,63,52,34,28,18,34,21,45,45,39,40,29,65,32,74,21,37,80,62,34,59,44,57,44,41,66,54,54,27,67,57,64,68,31,26,67,43,68,56,37,60,54,20,27,78,45,31,65,69,22,37,60,35,19,62,61,71,49,62,25,40,48,28,24,56,21,20,19,61,78,36,34,34,40,36,50,74,47,48,71,65,59,42,52,57,48,41,58,56,35,31,21,53,37,71,34,48,40,83,61,51,47,73,84,27,45,52,81,46,25,36,55,22,67,25,44,27,49,44,37,57,21,74,40,50,40,82,36,67,35,26,65,55,26,47,33,46,53,45,65,37,87,74,65,19,57,50,49,67,25,70,51,51,48,53,45,37,42,34,23,43,50,60,44,54,42,28,55,46,43,51,31,71,55,53,55,50,84,23,52,26,36,23,75,72,47,65,65,44,61,65,55,50,60,53,49,83,31,66,60,68,64,35,54,46,36,43,26,30,67,43,42,38,57,72,49,59,35,61,30,24,39,25,63,36,62,22,60,42,47,80,57,62,69,51,65,31,52,55,36,73,58,60,69,43,32,88],\"xaxis\":\"x\",\"yaxis\":\"y\",\"type\":\"histogram\"}],                        {\"template\":{\"data\":{\"histogram2dcontour\":[{\"type\":\"histogram2dcontour\",\"colorbar\":{\"outlinewidth\":0,\"ticks\":\"\"},\"colorscale\":[[0.0,\"#0d0887\"],[0.1111111111111111,\"#46039f\"],[0.2222222222222222,\"#7201a8\"],[0.3333333333333333,\"#9c179e\"],[0.4444444444444444,\"#bd3786\"],[0.5555555555555556,\"#d8576b\"],[0.6666666666666666,\"#ed7953\"],[0.7777777777777778,\"#fb9f3a\"],[0.8888888888888888,\"#fdca26\"],[1.0,\"#f0f921\"]]}],\"choropleth\":[{\"type\":\"choropleth\",\"colorbar\":{\"outlinewidth\":0,\"ticks\":\"\"}}],\"histogram2d\":[{\"type\":\"histogram2d\",\"colorbar\":{\"outlinewidth\":0,\"ticks\":\"\"},\"colorscale\":[[0.0,\"#0d0887\"],[0.1111111111111111,\"#46039f\"],[0.2222222222222222,\"#7201a8\"],[0.3333333333333333,\"#9c179e\"],[0.4444444444444444,\"#bd3786\"],[0.5555555555555556,\"#d8576b\"],[0.6666666666666666,\"#ed7953\"],[0.7777777777777778,\"#fb9f3a\"],[0.8888888888888888,\"#fdca26\"],[1.0,\"#f0f921\"]]}],\"heatmap\":[{\"type\":\"heatmap\",\"colorbar\":{\"outlinewidth\":0,\"ticks\":\"\"},\"colorscale\":[[0.0,\"#0d0887\"],[0.1111111111111111,\"#46039f\"],[0.2222222222222222,\"#7201a8\"],[0.3333333333333333,\"#9c179e\"],[0.4444444444444444,\"#bd3786\"],[0.5555555555555556,\"#d8576b\"],[0.6666666666666666,\"#ed7953\"],[0.7777777777777778,\"#fb9f3a\"],[0.8888888888888888,\"#fdca26\"],[1.0,\"#f0f921\"]]}],\"heatmapgl\":[{\"type\":\"heatmapgl\",\"colorbar\":{\"outlinewidth\":0,\"ticks\":\"\"},\"colorscale\":[[0.0,\"#0d0887\"],[0.1111111111111111,\"#46039f\"],[0.2222222222222222,\"#7201a8\"],[0.3333333333333333,\"#9c179e\"],[0.4444444444444444,\"#bd3786\"],[0.5555555555555556,\"#d8576b\"],[0.6666666666666666,\"#ed7953\"],[0.7777777777777778,\"#fb9f3a\"],[0.8888888888888888,\"#fdca26\"],[1.0,\"#f0f921\"]]}],\"contourcarpet\":[{\"type\":\"contourcarpet\",\"colorbar\":{\"outlinewidth\":0,\"ticks\":\"\"}}],\"contour\":[{\"type\":\"contour\",\"colorbar\":{\"outlinewidth\":0,\"ticks\":\"\"},\"colorscale\":[[0.0,\"#0d0887\"],[0.1111111111111111,\"#46039f\"],[0.2222222222222222,\"#7201a8\"],[0.3333333333333333,\"#9c179e\"],[0.4444444444444444,\"#bd3786\"],[0.5555555555555556,\"#d8576b\"],[0.6666666666666666,\"#ed7953\"],[0.7777777777777778,\"#fb9f3a\"],[0.8888888888888888,\"#fdca26\"],[1.0,\"#f0f921\"]]}],\"surface\":[{\"type\":\"surface\",\"colorbar\":{\"outlinewidth\":0,\"ticks\":\"\"},\"colorscale\":[[0.0,\"#0d0887\"],[0.1111111111111111,\"#46039f\"],[0.2222222222222222,\"#7201a8\"],[0.3333333333333333,\"#9c179e\"],[0.4444444444444444,\"#bd3786\"],[0.5555555555555556,\"#d8576b\"],[0.6666666666666666,\"#ed7953\"],[0.7777777777777778,\"#fb9f3a\"],[0.8888888888888888,\"#fdca26\"],[1.0,\"#f0f921\"]]}],\"mesh3d\":[{\"type\":\"mesh3d\",\"colorbar\":{\"outlinewidth\":0,\"ticks\":\"\"}}],\"scatter\":[{\"fillpattern\":{\"fillmode\":\"overlay\",\"size\":10,\"solidity\":0.2},\"type\":\"scatter\"}],\"parcoords\":[{\"type\":\"parcoords\",\"line\":{\"colorbar\":{\"outlinewidth\":0,\"ticks\":\"\"}}}],\"scatterpolargl\":[{\"type\":\"scatterpolargl\",\"marker\":{\"colorbar\":{\"outlinewidth\":0,\"ticks\":\"\"}}}],\"bar\":[{\"error_x\":{\"color\":\"#2a3f5f\"},\"error_y\":{\"color\":\"#2a3f5f\"},\"marker\":{\"line\":{\"color\":\"#E5ECF6\",\"width\":0.5},\"pattern\":{\"fillmode\":\"overlay\",\"size\":10,\"solidity\":0.2}},\"type\":\"bar\"}],\"scattergeo\":[{\"type\":\"scattergeo\",\"marker\":{\"colorbar\":{\"outlinewidth\":0,\"ticks\":\"\"}}}],\"scatterpolar\":[{\"type\":\"scatterpolar\",\"marker\":{\"colorbar\":{\"outlinewidth\":0,\"ticks\":\"\"}}}],\"histogram\":[{\"marker\":{\"pattern\":{\"fillmode\":\"overlay\",\"size\":10,\"solidity\":0.2}},\"type\":\"histogram\"}],\"scattergl\":[{\"type\":\"scattergl\",\"marker\":{\"colorbar\":{\"outlinewidth\":0,\"ticks\":\"\"}}}],\"scatter3d\":[{\"type\":\"scatter3d\",\"line\":{\"colorbar\":{\"outlinewidth\":0,\"ticks\":\"\"}},\"marker\":{\"colorbar\":{\"outlinewidth\":0,\"ticks\":\"\"}}}],\"scattermapbox\":[{\"type\":\"scattermapbox\",\"marker\":{\"colorbar\":{\"outlinewidth\":0,\"ticks\":\"\"}}}],\"scatterternary\":[{\"type\":\"scatterternary\",\"marker\":{\"colorbar\":{\"outlinewidth\":0,\"ticks\":\"\"}}}],\"scattercarpet\":[{\"type\":\"scattercarpet\",\"marker\":{\"colorbar\":{\"outlinewidth\":0,\"ticks\":\"\"}}}],\"carpet\":[{\"aaxis\":{\"endlinecolor\":\"#2a3f5f\",\"gridcolor\":\"white\",\"linecolor\":\"white\",\"minorgridcolor\":\"white\",\"startlinecolor\":\"#2a3f5f\"},\"baxis\":{\"endlinecolor\":\"#2a3f5f\",\"gridcolor\":\"white\",\"linecolor\":\"white\",\"minorgridcolor\":\"white\",\"startlinecolor\":\"#2a3f5f\"},\"type\":\"carpet\"}],\"table\":[{\"cells\":{\"fill\":{\"color\":\"#EBF0F8\"},\"line\":{\"color\":\"white\"}},\"header\":{\"fill\":{\"color\":\"#C8D4E3\"},\"line\":{\"color\":\"white\"}},\"type\":\"table\"}],\"barpolar\":[{\"marker\":{\"line\":{\"color\":\"#E5ECF6\",\"width\":0.5},\"pattern\":{\"fillmode\":\"overlay\",\"size\":10,\"solidity\":0.2}},\"type\":\"barpolar\"}],\"pie\":[{\"automargin\":true,\"type\":\"pie\"}]},\"layout\":{\"autotypenumbers\":\"strict\",\"colorway\":[\"#636efa\",\"#EF553B\",\"#00cc96\",\"#ab63fa\",\"#FFA15A\",\"#19d3f3\",\"#FF6692\",\"#B6E880\",\"#FF97FF\",\"#FECB52\"],\"font\":{\"color\":\"#2a3f5f\"},\"hovermode\":\"closest\",\"hoverlabel\":{\"align\":\"left\"},\"paper_bgcolor\":\"white\",\"plot_bgcolor\":\"#E5ECF6\",\"polar\":{\"bgcolor\":\"#E5ECF6\",\"angularaxis\":{\"gridcolor\":\"white\",\"linecolor\":\"white\",\"ticks\":\"\"},\"radialaxis\":{\"gridcolor\":\"white\",\"linecolor\":\"white\",\"ticks\":\"\"}},\"ternary\":{\"bgcolor\":\"#E5ECF6\",\"aaxis\":{\"gridcolor\":\"white\",\"linecolor\":\"white\",\"ticks\":\"\"},\"baxis\":{\"gridcolor\":\"white\",\"linecolor\":\"white\",\"ticks\":\"\"},\"caxis\":{\"gridcolor\":\"white\",\"linecolor\":\"white\",\"ticks\":\"\"}},\"coloraxis\":{\"colorbar\":{\"outlinewidth\":0,\"ticks\":\"\"}},\"colorscale\":{\"sequential\":[[0.0,\"#0d0887\"],[0.1111111111111111,\"#46039f\"],[0.2222222222222222,\"#7201a8\"],[0.3333333333333333,\"#9c179e\"],[0.4444444444444444,\"#bd3786\"],[0.5555555555555556,\"#d8576b\"],[0.6666666666666666,\"#ed7953\"],[0.7777777777777778,\"#fb9f3a\"],[0.8888888888888888,\"#fdca26\"],[1.0,\"#f0f921\"]],\"sequentialminus\":[[0.0,\"#0d0887\"],[0.1111111111111111,\"#46039f\"],[0.2222222222222222,\"#7201a8\"],[0.3333333333333333,\"#9c179e\"],[0.4444444444444444,\"#bd3786\"],[0.5555555555555556,\"#d8576b\"],[0.6666666666666666,\"#ed7953\"],[0.7777777777777778,\"#fb9f3a\"],[0.8888888888888888,\"#fdca26\"],[1.0,\"#f0f921\"]],\"diverging\":[[0,\"#8e0152\"],[0.1,\"#c51b7d\"],[0.2,\"#de77ae\"],[0.3,\"#f1b6da\"],[0.4,\"#fde0ef\"],[0.5,\"#f7f7f7\"],[0.6,\"#e6f5d0\"],[0.7,\"#b8e186\"],[0.8,\"#7fbc41\"],[0.9,\"#4d9221\"],[1,\"#276419\"]]},\"xaxis\":{\"gridcolor\":\"white\",\"linecolor\":\"white\",\"ticks\":\"\",\"title\":{\"standoff\":15},\"zerolinecolor\":\"white\",\"automargin\":true,\"zerolinewidth\":2},\"yaxis\":{\"gridcolor\":\"white\",\"linecolor\":\"white\",\"ticks\":\"\",\"title\":{\"standoff\":15},\"zerolinecolor\":\"white\",\"automargin\":true,\"zerolinewidth\":2},\"scene\":{\"xaxis\":{\"backgroundcolor\":\"#E5ECF6\",\"gridcolor\":\"white\",\"linecolor\":\"white\",\"showbackground\":true,\"ticks\":\"\",\"zerolinecolor\":\"white\",\"gridwidth\":2},\"yaxis\":{\"backgroundcolor\":\"#E5ECF6\",\"gridcolor\":\"white\",\"linecolor\":\"white\",\"showbackground\":true,\"ticks\":\"\",\"zerolinecolor\":\"white\",\"gridwidth\":2},\"zaxis\":{\"backgroundcolor\":\"#E5ECF6\",\"gridcolor\":\"white\",\"linecolor\":\"white\",\"showbackground\":true,\"ticks\":\"\",\"zerolinecolor\":\"white\",\"gridwidth\":2}},\"shapedefaults\":{\"line\":{\"color\":\"#2a3f5f\"}},\"annotationdefaults\":{\"arrowcolor\":\"#2a3f5f\",\"arrowhead\":0,\"arrowwidth\":1},\"geo\":{\"bgcolor\":\"white\",\"landcolor\":\"#E5ECF6\",\"subunitcolor\":\"white\",\"showland\":true,\"showlakes\":true,\"lakecolor\":\"white\"},\"title\":{\"x\":0.05},\"mapbox\":{\"style\":\"light\"}}},\"xaxis\":{\"anchor\":\"y\",\"domain\":[0.0,1.0],\"title\":{\"text\":\"age\"}},\"yaxis\":{\"anchor\":\"x\",\"domain\":[0.0,1.0],\"title\":{\"text\":\"count\"}},\"legend\":{\"tracegroupgap\":0},\"title\":{\"text\":\"Histogram for 'age'\"},\"barmode\":\"relative\",\"bargap\":0.2},                        {\"responsive\": true}                    ).then(function(){\n",
       "                            \n",
       "var gd = document.getElementById('e682a6eb-01a0-4be6-b01d-73a30cf4cd54');\n",
       "var x = new MutationObserver(function (mutations, observer) {{\n",
       "        var display = window.getComputedStyle(gd).display;\n",
       "        if (!display || display === 'none') {{\n",
       "            console.log([gd, 'removed!']);\n",
       "            Plotly.purge(gd);\n",
       "            observer.disconnect();\n",
       "        }}\n",
       "}});\n",
       "\n",
       "// Listen for the removal of the full notebook cells\n",
       "var notebookContainer = gd.closest('#notebook-container');\n",
       "if (notebookContainer) {{\n",
       "    x.observe(notebookContainer, {childList: true});\n",
       "}}\n",
       "\n",
       "// Listen for the clearing of the current output cell\n",
       "var outputEl = gd.closest('.output');\n",
       "if (outputEl) {{\n",
       "    x.observe(outputEl, {childList: true});\n",
       "}}\n",
       "\n",
       "                        })                };                });            </script>        </div>"
      ]
     },
     "metadata": {},
     "output_type": "display_data"
    },
    {
     "name": "stdout",
     "output_type": "stream",
     "text": [
      "\u001b[1mShapiro-Wilk Test:\n",
      "\n",
      "\u001b[0mStatistic:  0.9804152846336365 \n",
      "Pvalue:  1.6023814256343897e-21\n"
     ]
    }
   ],
   "source": [
    "import pandas as pd\n",
    "\n",
    "\n",
    "dfn = df[(df.age > 0) & (df.J005 > 0)]\n",
    "my_data = pd.Series(df[\"age\"].to_numpy())\n",
    "\n",
    "column = \"age\"\n",
    "\n",
    "fig = px.histogram(dfn, x = \"age\", nbins = 50, title = \"Histogram for '\"+ column + \"'\")\n",
    "fig.update_layout(bargap=0.2)\n",
    "fig.show()\n",
    "\n",
    "\n",
    "statistic, pvalue = stats.shapiro(my_data)\n",
    "print('\\033[1m' + \"Shapiro-Wilk Test:\\n\\n\" + '\\033[0m'+\"Statistic: \", statistic, \"\\nPvalue: \", pvalue)\n",
    "\n"
   ]
  },
  {
   "cell_type": "code",
   "execution_count": null,
   "id": "08fcdb8d",
   "metadata": {},
   "outputs": [],
   "source": [
    "\n",
    "\n",
    "stats.shapiro(my_data)"
   ]
  },
  {
   "cell_type": "code",
   "execution_count": 30,
   "id": "e8bc306b",
   "metadata": {},
   "outputs": [],
   "source": [
    "def normal_shapiro(data, column, bins):\n",
    "    \"\"\"\n",
    "    Check whether some data column is likely normally distributed \n",
    "    \"\"\"\n",
    "#     fig = px.histogram(df, x = column, nbins = bins, title = \"Histogram for '\"+ column + \"'\")\n",
    "#     fig.show()\n",
    "\n",
    "    fig = go.Figure(data=[go.Bar(x=x, y=y)])\n",
    "\n",
    "    statistic, pvalue = stats.shapiro(my_data)\n",
    "    print('\\033[1m' + \"Shapiro-Wilk Test:\\n\\n\" + '\\033[0m'+\"Statistic: \", statistic, \"\\nPvalue: \", pvalue)\n",
    "    \n",
    "    return\n",
    "    "
   ]
  },
  {
   "cell_type": "code",
   "execution_count": 31,
   "id": "062cbdc7",
   "metadata": {},
   "outputs": [
    {
     "data": {
      "application/vnd.plotly.v1+json": {
       "config": {
        "plotlyServerURL": "https://plot.ly"
       },
       "data": [
        {
         "alignmentgroup": "True",
         "bingroup": "x",
         "hovertemplate": "age=%{x}<br>count=%{y}<extra></extra>",
         "legendgroup": "",
         "marker": {
          "color": "#636efa",
          "pattern": {
           "shape": ""
          }
         },
         "name": "",
         "nbinsx": 40,
         "offsetgroup": "",
         "orientation": "v",
         "showlegend": false,
         "type": "histogram",
         "x": [
          64,
          41,
          37,
          77,
          46,
          68,
          53,
          27,
          25,
          68,
          47,
          68,
          46,
          37,
          40,
          36,
          83,
          57,
          70,
          85,
          27,
          44,
          51,
          69,
          72,
          51,
          53,
          48,
          24,
          59,
          55,
          19,
          53,
          51,
          71,
          44,
          84,
          29,
          54,
          25,
          24,
          33,
          70,
          36,
          58,
          68,
          75,
          36,
          51,
          48,
          43,
          33,
          50,
          53,
          81,
          31,
          31,
          29,
          55,
          94,
          45,
          76,
          54,
          23,
          84,
          82,
          92,
          47,
          32,
          56,
          46,
          27,
          89,
          79,
          51,
          56,
          63,
          54,
          45,
          35,
          66,
          59,
          64,
          65,
          22,
          70,
          33,
          21,
          22,
          66,
          49,
          70,
          67,
          19,
          53,
          75,
          30,
          39,
          89,
          54,
          79,
          32,
          56,
          50,
          78,
          64,
          57,
          52,
          53,
          55,
          61,
          21,
          44,
          67,
          51,
          53,
          62,
          26,
          26,
          47,
          56,
          57,
          83,
          32,
          37,
          55,
          83,
          43,
          47,
          31,
          63,
          41,
          48,
          23,
          19,
          43,
          33,
          70,
          61,
          44,
          68,
          51,
          79,
          49,
          26,
          62,
          69,
          77,
          23,
          39,
          75,
          78,
          36,
          58,
          30,
          29,
          49,
          43,
          84,
          55,
          37,
          36,
          69,
          69,
          49,
          70,
          31,
          32,
          66,
          37,
          82,
          60,
          48,
          27,
          50,
          54,
          48,
          36,
          61,
          58,
          58,
          49,
          29,
          74,
          25,
          18,
          24,
          51,
          35,
          74,
          87,
          61,
          60,
          64,
          48,
          49,
          35,
          26,
          53,
          73,
          63,
          62,
          54,
          50,
          73,
          73,
          61,
          78,
          34,
          55,
          45,
          26,
          77,
          65,
          46,
          45,
          55,
          46,
          82,
          44,
          48,
          58,
          41,
          29,
          62,
          82,
          65,
          47,
          60,
          53,
          76,
          63,
          19,
          23,
          78,
          46,
          67,
          42,
          42,
          57,
          50,
          78,
          31,
          19,
          19,
          21,
          23,
          64,
          40,
          46,
          40,
          65,
          69,
          36,
          31,
          32,
          55,
          76,
          56,
          41,
          56,
          87,
          24,
          62,
          54,
          18,
          62,
          53,
          28,
          31,
          22,
          54,
          76,
          21,
          83,
          40,
          88,
          27,
          55,
          73,
          47,
          56,
          47,
          66,
          48,
          28,
          74,
          22,
          43,
          78,
          57,
          18,
          60,
          28,
          57,
          29,
          28,
          68,
          58,
          74,
          59,
          51,
          25,
          20,
          38,
          60,
          30,
          62,
          40,
          83,
          34,
          23,
          80,
          77,
          38,
          44,
          61,
          77,
          64,
          57,
          40,
          64,
          71,
          71,
          42,
          32,
          64,
          36,
          40,
          64,
          19,
          75,
          35,
          49,
          47,
          50,
          45,
          60,
          49,
          78,
          37,
          72,
          43,
          61,
          67,
          67,
          68,
          72,
          31,
          49,
          80,
          42,
          28,
          62,
          84,
          20,
          78,
          45,
          46,
          35,
          52,
          21,
          57,
          53,
          59,
          33,
          73,
          72,
          28,
          46,
          38,
          27,
          74,
          88,
          80,
          28,
          32,
          67,
          31,
          26,
          37,
          22,
          70,
          76,
          24,
          74,
          46,
          63,
          33,
          37,
          31,
          51,
          29,
          56,
          33,
          68,
          75,
          58,
          64,
          61,
          21,
          35,
          38,
          32,
          24,
          20,
          71,
          35,
          42,
          54,
          70,
          47,
          65,
          67,
          42,
          28,
          64,
          66,
          41,
          47,
          66,
          84,
          70,
          64,
          31,
          38,
          51,
          54,
          51,
          33,
          79,
          51,
          64,
          74,
          49,
          51,
          76,
          78,
          48,
          77,
          59,
          40,
          66,
          29,
          50,
          32,
          47,
          42,
          47,
          62,
          18,
          43,
          52,
          40,
          57,
          72,
          56,
          45,
          49,
          22,
          51,
          83,
          23,
          55,
          61,
          83,
          52,
          45,
          69,
          23,
          60,
          65,
          54,
          37,
          18,
          54,
          29,
          64,
          50,
          60,
          75,
          38,
          36,
          49,
          80,
          33,
          36,
          73,
          33,
          31,
          52,
          59,
          40,
          18,
          55,
          54,
          77,
          81,
          24,
          75,
          18,
          21,
          82,
          29,
          31,
          79,
          64,
          82,
          54,
          28,
          47,
          59,
          58,
          45,
          56,
          82,
          60,
          60,
          48,
          27,
          77,
          38,
          35,
          34,
          30,
          31,
          51,
          34,
          48,
          53,
          28,
          60,
          45,
          40,
          78,
          53,
          54,
          38,
          75,
          54,
          65,
          63,
          33,
          52,
          66,
          51,
          49,
          53,
          51,
          76,
          77,
          50,
          22,
          57,
          29,
          36,
          57,
          67,
          63,
          37,
          54,
          48,
          18,
          19,
          59,
          31,
          43,
          61,
          50,
          71,
          38,
          54,
          64,
          60,
          59,
          29,
          59,
          21,
          27,
          63,
          51,
          67,
          68,
          27,
          73,
          59,
          80,
          28,
          33,
          56,
          51,
          61,
          60,
          41,
          48,
          18,
          25,
          34,
          49,
          67,
          69,
          48,
          73,
          38,
          38,
          53,
          55,
          27,
          65,
          64,
          53,
          37,
          89,
          67,
          54,
          59,
          49,
          68,
          52,
          63,
          81,
          55,
          19,
          50,
          63,
          38,
          68,
          50,
          67,
          50,
          24,
          33,
          19,
          35,
          42,
          39,
          19,
          57,
          37,
          64,
          78,
          52,
          44,
          50,
          48,
          56,
          58,
          67,
          85,
          48,
          72,
          38,
          54,
          34,
          18,
          82,
          63,
          33,
          64,
          72,
          70,
          75,
          51,
          27,
          37,
          48,
          25,
          79,
          54,
          46,
          28,
          48,
          66,
          36,
          66,
          44,
          25,
          30,
          48,
          35,
          24,
          59,
          59,
          57,
          54,
          71,
          64,
          69,
          66,
          38,
          72,
          52,
          38,
          52,
          51,
          49,
          64,
          68,
          43,
          50,
          77,
          76,
          56,
          43,
          27,
          77,
          40,
          82,
          52,
          26,
          56,
          29,
          43,
          56,
          29,
          75,
          66,
          21,
          41,
          52,
          64,
          30,
          74,
          57,
          68,
          57,
          51,
          46,
          79,
          70,
          50,
          44,
          67,
          73,
          75,
          65,
          57,
          25,
          39,
          62,
          59,
          50,
          59,
          28,
          74,
          54,
          29,
          21,
          66,
          58,
          29,
          29,
          22,
          59,
          42,
          55,
          49,
          56,
          60,
          67,
          40,
          67,
          51,
          44,
          20,
          69,
          41,
          36,
          56,
          44,
          61,
          44,
          41,
          32,
          34,
          82,
          75,
          29,
          32,
          60,
          81,
          36,
          64,
          65,
          60,
          25,
          59,
          60,
          71,
          67,
          37,
          53,
          73,
          55,
          47,
          68,
          35,
          22,
          48,
          19,
          78,
          23,
          51,
          33,
          54,
          40,
          57,
          63,
          55,
          73,
          32,
          81,
          33,
          68,
          60,
          85,
          51,
          49,
          23,
          76,
          61,
          56,
          69,
          40,
          67,
          82,
          65,
          36,
          55,
          54,
          40,
          48,
          68,
          42,
          35,
          35,
          62,
          26,
          40,
          18,
          76,
          68,
          55,
          52,
          30,
          29,
          24,
          66,
          28,
          61,
          30,
          58,
          85,
          54,
          61,
          67,
          49,
          56,
          28,
          50,
          58,
          30,
          54,
          44,
          69,
          30,
          51,
          70,
          85,
          72,
          27,
          60,
          43,
          63,
          37,
          21,
          67,
          71,
          36,
          60,
          76,
          51,
          23,
          46,
          43,
          35,
          58,
          84,
          64,
          43,
          66,
          23,
          67,
          74,
          51,
          75,
          71,
          52,
          70,
          27,
          37,
          70,
          79,
          32,
          28,
          44,
          33,
          54,
          37,
          56,
          55,
          84,
          26,
          73,
          76,
          61,
          56,
          32,
          67,
          53,
          37,
          43,
          63,
          27,
          54,
          38,
          77,
          43,
          61,
          39,
          20,
          53,
          55,
          21,
          39,
          63,
          18,
          70,
          81,
          29,
          62,
          69,
          68,
          58,
          86,
          18,
          41,
          59,
          56,
          52,
          49,
          79,
          45,
          42,
          51,
          92,
          68,
          50,
          80,
          43,
          80,
          60,
          52,
          72,
          65,
          66,
          51,
          56,
          26,
          32,
          82,
          61,
          44,
          48,
          58,
          42,
          67,
          38,
          36,
          39,
          77,
          68,
          76,
          43,
          67,
          60,
          65,
          62,
          57,
          84,
          63,
          60,
          66,
          22,
          18,
          77,
          52,
          25,
          29,
          27,
          68,
          59,
          23,
          56,
          54,
          58,
          26,
          22,
          44,
          58,
          81,
          90,
          62,
          36,
          58,
          52,
          79,
          37,
          57,
          81,
          53,
          69,
          49,
          23,
          65,
          28,
          37,
          21,
          67,
          75,
          53,
          51,
          52,
          77,
          26,
          63,
          55,
          43,
          56,
          73,
          79,
          60,
          53,
          28,
          38,
          35,
          68,
          71,
          87,
          36,
          92,
          70,
          78,
          20,
          58,
          65,
          40,
          68,
          55,
          57,
          29,
          24,
          77,
          42,
          46,
          73,
          42,
          21,
          64,
          29,
          61,
          59,
          58,
          83,
          25,
          51,
          53,
          67,
          56,
          34,
          66,
          53,
          65,
          70,
          56,
          62,
          77,
          82,
          41,
          86,
          52,
          57,
          66,
          50,
          21,
          66,
          38,
          50,
          62,
          80,
          69,
          40,
          88,
          70,
          31,
          57,
          49,
          35,
          58,
          40,
          34,
          64,
          50,
          56,
          77,
          56,
          20,
          57,
          71,
          37,
          37,
          68,
          77,
          44,
          52,
          37,
          51,
          53,
          65,
          69,
          20,
          44,
          54,
          74,
          20,
          73,
          19,
          67,
          85,
          78,
          62,
          48,
          30,
          35,
          26,
          20,
          68,
          69,
          60,
          53,
          64,
          79,
          74,
          32,
          55,
          39,
          21,
          39,
          73,
          35,
          77,
          52,
          27,
          68,
          40,
          30,
          44,
          41,
          75,
          64,
          19,
          60,
          40,
          38,
          52,
          77,
          50,
          35,
          27,
          79,
          58,
          54,
          69,
          64,
          37,
          56,
          38,
          78,
          67,
          25,
          56,
          45,
          64,
          45,
          66,
          38,
          68,
          66,
          76,
          55,
          73,
          19,
          33,
          66,
          73,
          53,
          65,
          58,
          68,
          51,
          80,
          46,
          27,
          55,
          58,
          67,
          34,
          54,
          70,
          34,
          29,
          75,
          68,
          80,
          26,
          27,
          39,
          71,
          66,
          61,
          64,
          57,
          49,
          31,
          39,
          66,
          92,
          66,
          73,
          22,
          69,
          37,
          58,
          33,
          29,
          46,
          34,
          24,
          55,
          34,
          55,
          85,
          20,
          29,
          34,
          42,
          19,
          52,
          59,
          29,
          27,
          49,
          68,
          53,
          33,
          69,
          50,
          78,
          25,
          56,
          25,
          55,
          55,
          38,
          56,
          78,
          38,
          20,
          35,
          77,
          72,
          59,
          52,
          51,
          47,
          39,
          77,
          52,
          66,
          32,
          74,
          49,
          45,
          78,
          82,
          53,
          23,
          33,
          28,
          23,
          69,
          20,
          49,
          88,
          39,
          76,
          82,
          67,
          33,
          67,
          20,
          36,
          48,
          51,
          30,
          44,
          49,
          81,
          52,
          72,
          62,
          70,
          65,
          63,
          52,
          34,
          28,
          18,
          34,
          21,
          45,
          45,
          39,
          40,
          29,
          65,
          32,
          74,
          21,
          37,
          80,
          62,
          34,
          59,
          44,
          57,
          44,
          41,
          66,
          54,
          54,
          27,
          67,
          57,
          64,
          68,
          31,
          26,
          67,
          43,
          68,
          56,
          37,
          60,
          54,
          20,
          27,
          78,
          45,
          31,
          65,
          69,
          22,
          37,
          60,
          35,
          19,
          62,
          61,
          71,
          49,
          62,
          25,
          40,
          48,
          28,
          24,
          56,
          21,
          20,
          19,
          61,
          78,
          36,
          34,
          34,
          40,
          36,
          50,
          74,
          47,
          48,
          71,
          65,
          59,
          42,
          52,
          57,
          48,
          41,
          58,
          56,
          35,
          31,
          21,
          53,
          37,
          71,
          34,
          48,
          40,
          83,
          61,
          51,
          47,
          73,
          84,
          27,
          45,
          52,
          81,
          46,
          25,
          36,
          55,
          22,
          67,
          25,
          44,
          27,
          49,
          44,
          37,
          57,
          21,
          74,
          40,
          50,
          40,
          82,
          36,
          67,
          35,
          26,
          65,
          55,
          26,
          47,
          33,
          46,
          53,
          45,
          65,
          37,
          87,
          74,
          65,
          19,
          57,
          50,
          49,
          67,
          25,
          70,
          51,
          51,
          48,
          53,
          45,
          37,
          42,
          34,
          23,
          43,
          50,
          60,
          44,
          54,
          42,
          28,
          55,
          46,
          43,
          51,
          31,
          71,
          55,
          53,
          55,
          50,
          84,
          23,
          52,
          26,
          36,
          23,
          75,
          72,
          47,
          65,
          65,
          44,
          61,
          65,
          55,
          50,
          60,
          53,
          49,
          83,
          31,
          66,
          60,
          68,
          64,
          35,
          54,
          46,
          36,
          43,
          26,
          30,
          67,
          43,
          42,
          38,
          57,
          72,
          49,
          59,
          35,
          61,
          30,
          24,
          39,
          25,
          63,
          36,
          62,
          22,
          60,
          42,
          47,
          80,
          57,
          62,
          69,
          51,
          65,
          31,
          52,
          55,
          36,
          73,
          58,
          60,
          69,
          43,
          32,
          88
         ],
         "xaxis": "x",
         "yaxis": "y"
        }
       ],
       "layout": {
        "barmode": "relative",
        "legend": {
         "tracegroupgap": 0
        },
        "template": {
         "data": {
          "bar": [
           {
            "error_x": {
             "color": "#2a3f5f"
            },
            "error_y": {
             "color": "#2a3f5f"
            },
            "marker": {
             "line": {
              "color": "#E5ECF6",
              "width": 0.5
             },
             "pattern": {
              "fillmode": "overlay",
              "size": 10,
              "solidity": 0.2
             }
            },
            "type": "bar"
           }
          ],
          "barpolar": [
           {
            "marker": {
             "line": {
              "color": "#E5ECF6",
              "width": 0.5
             },
             "pattern": {
              "fillmode": "overlay",
              "size": 10,
              "solidity": 0.2
             }
            },
            "type": "barpolar"
           }
          ],
          "carpet": [
           {
            "aaxis": {
             "endlinecolor": "#2a3f5f",
             "gridcolor": "white",
             "linecolor": "white",
             "minorgridcolor": "white",
             "startlinecolor": "#2a3f5f"
            },
            "baxis": {
             "endlinecolor": "#2a3f5f",
             "gridcolor": "white",
             "linecolor": "white",
             "minorgridcolor": "white",
             "startlinecolor": "#2a3f5f"
            },
            "type": "carpet"
           }
          ],
          "choropleth": [
           {
            "colorbar": {
             "outlinewidth": 0,
             "ticks": ""
            },
            "type": "choropleth"
           }
          ],
          "contour": [
           {
            "colorbar": {
             "outlinewidth": 0,
             "ticks": ""
            },
            "colorscale": [
             [
              0,
              "#0d0887"
             ],
             [
              0.1111111111111111,
              "#46039f"
             ],
             [
              0.2222222222222222,
              "#7201a8"
             ],
             [
              0.3333333333333333,
              "#9c179e"
             ],
             [
              0.4444444444444444,
              "#bd3786"
             ],
             [
              0.5555555555555556,
              "#d8576b"
             ],
             [
              0.6666666666666666,
              "#ed7953"
             ],
             [
              0.7777777777777778,
              "#fb9f3a"
             ],
             [
              0.8888888888888888,
              "#fdca26"
             ],
             [
              1,
              "#f0f921"
             ]
            ],
            "type": "contour"
           }
          ],
          "contourcarpet": [
           {
            "colorbar": {
             "outlinewidth": 0,
             "ticks": ""
            },
            "type": "contourcarpet"
           }
          ],
          "heatmap": [
           {
            "colorbar": {
             "outlinewidth": 0,
             "ticks": ""
            },
            "colorscale": [
             [
              0,
              "#0d0887"
             ],
             [
              0.1111111111111111,
              "#46039f"
             ],
             [
              0.2222222222222222,
              "#7201a8"
             ],
             [
              0.3333333333333333,
              "#9c179e"
             ],
             [
              0.4444444444444444,
              "#bd3786"
             ],
             [
              0.5555555555555556,
              "#d8576b"
             ],
             [
              0.6666666666666666,
              "#ed7953"
             ],
             [
              0.7777777777777778,
              "#fb9f3a"
             ],
             [
              0.8888888888888888,
              "#fdca26"
             ],
             [
              1,
              "#f0f921"
             ]
            ],
            "type": "heatmap"
           }
          ],
          "heatmapgl": [
           {
            "colorbar": {
             "outlinewidth": 0,
             "ticks": ""
            },
            "colorscale": [
             [
              0,
              "#0d0887"
             ],
             [
              0.1111111111111111,
              "#46039f"
             ],
             [
              0.2222222222222222,
              "#7201a8"
             ],
             [
              0.3333333333333333,
              "#9c179e"
             ],
             [
              0.4444444444444444,
              "#bd3786"
             ],
             [
              0.5555555555555556,
              "#d8576b"
             ],
             [
              0.6666666666666666,
              "#ed7953"
             ],
             [
              0.7777777777777778,
              "#fb9f3a"
             ],
             [
              0.8888888888888888,
              "#fdca26"
             ],
             [
              1,
              "#f0f921"
             ]
            ],
            "type": "heatmapgl"
           }
          ],
          "histogram": [
           {
            "marker": {
             "pattern": {
              "fillmode": "overlay",
              "size": 10,
              "solidity": 0.2
             }
            },
            "type": "histogram"
           }
          ],
          "histogram2d": [
           {
            "colorbar": {
             "outlinewidth": 0,
             "ticks": ""
            },
            "colorscale": [
             [
              0,
              "#0d0887"
             ],
             [
              0.1111111111111111,
              "#46039f"
             ],
             [
              0.2222222222222222,
              "#7201a8"
             ],
             [
              0.3333333333333333,
              "#9c179e"
             ],
             [
              0.4444444444444444,
              "#bd3786"
             ],
             [
              0.5555555555555556,
              "#d8576b"
             ],
             [
              0.6666666666666666,
              "#ed7953"
             ],
             [
              0.7777777777777778,
              "#fb9f3a"
             ],
             [
              0.8888888888888888,
              "#fdca26"
             ],
             [
              1,
              "#f0f921"
             ]
            ],
            "type": "histogram2d"
           }
          ],
          "histogram2dcontour": [
           {
            "colorbar": {
             "outlinewidth": 0,
             "ticks": ""
            },
            "colorscale": [
             [
              0,
              "#0d0887"
             ],
             [
              0.1111111111111111,
              "#46039f"
             ],
             [
              0.2222222222222222,
              "#7201a8"
             ],
             [
              0.3333333333333333,
              "#9c179e"
             ],
             [
              0.4444444444444444,
              "#bd3786"
             ],
             [
              0.5555555555555556,
              "#d8576b"
             ],
             [
              0.6666666666666666,
              "#ed7953"
             ],
             [
              0.7777777777777778,
              "#fb9f3a"
             ],
             [
              0.8888888888888888,
              "#fdca26"
             ],
             [
              1,
              "#f0f921"
             ]
            ],
            "type": "histogram2dcontour"
           }
          ],
          "mesh3d": [
           {
            "colorbar": {
             "outlinewidth": 0,
             "ticks": ""
            },
            "type": "mesh3d"
           }
          ],
          "parcoords": [
           {
            "line": {
             "colorbar": {
              "outlinewidth": 0,
              "ticks": ""
             }
            },
            "type": "parcoords"
           }
          ],
          "pie": [
           {
            "automargin": true,
            "type": "pie"
           }
          ],
          "scatter": [
           {
            "fillpattern": {
             "fillmode": "overlay",
             "size": 10,
             "solidity": 0.2
            },
            "type": "scatter"
           }
          ],
          "scatter3d": [
           {
            "line": {
             "colorbar": {
              "outlinewidth": 0,
              "ticks": ""
             }
            },
            "marker": {
             "colorbar": {
              "outlinewidth": 0,
              "ticks": ""
             }
            },
            "type": "scatter3d"
           }
          ],
          "scattercarpet": [
           {
            "marker": {
             "colorbar": {
              "outlinewidth": 0,
              "ticks": ""
             }
            },
            "type": "scattercarpet"
           }
          ],
          "scattergeo": [
           {
            "marker": {
             "colorbar": {
              "outlinewidth": 0,
              "ticks": ""
             }
            },
            "type": "scattergeo"
           }
          ],
          "scattergl": [
           {
            "marker": {
             "colorbar": {
              "outlinewidth": 0,
              "ticks": ""
             }
            },
            "type": "scattergl"
           }
          ],
          "scattermapbox": [
           {
            "marker": {
             "colorbar": {
              "outlinewidth": 0,
              "ticks": ""
             }
            },
            "type": "scattermapbox"
           }
          ],
          "scatterpolar": [
           {
            "marker": {
             "colorbar": {
              "outlinewidth": 0,
              "ticks": ""
             }
            },
            "type": "scatterpolar"
           }
          ],
          "scatterpolargl": [
           {
            "marker": {
             "colorbar": {
              "outlinewidth": 0,
              "ticks": ""
             }
            },
            "type": "scatterpolargl"
           }
          ],
          "scatterternary": [
           {
            "marker": {
             "colorbar": {
              "outlinewidth": 0,
              "ticks": ""
             }
            },
            "type": "scatterternary"
           }
          ],
          "surface": [
           {
            "colorbar": {
             "outlinewidth": 0,
             "ticks": ""
            },
            "colorscale": [
             [
              0,
              "#0d0887"
             ],
             [
              0.1111111111111111,
              "#46039f"
             ],
             [
              0.2222222222222222,
              "#7201a8"
             ],
             [
              0.3333333333333333,
              "#9c179e"
             ],
             [
              0.4444444444444444,
              "#bd3786"
             ],
             [
              0.5555555555555556,
              "#d8576b"
             ],
             [
              0.6666666666666666,
              "#ed7953"
             ],
             [
              0.7777777777777778,
              "#fb9f3a"
             ],
             [
              0.8888888888888888,
              "#fdca26"
             ],
             [
              1,
              "#f0f921"
             ]
            ],
            "type": "surface"
           }
          ],
          "table": [
           {
            "cells": {
             "fill": {
              "color": "#EBF0F8"
             },
             "line": {
              "color": "white"
             }
            },
            "header": {
             "fill": {
              "color": "#C8D4E3"
             },
             "line": {
              "color": "white"
             }
            },
            "type": "table"
           }
          ]
         },
         "layout": {
          "annotationdefaults": {
           "arrowcolor": "#2a3f5f",
           "arrowhead": 0,
           "arrowwidth": 1
          },
          "autotypenumbers": "strict",
          "coloraxis": {
           "colorbar": {
            "outlinewidth": 0,
            "ticks": ""
           }
          },
          "colorscale": {
           "diverging": [
            [
             0,
             "#8e0152"
            ],
            [
             0.1,
             "#c51b7d"
            ],
            [
             0.2,
             "#de77ae"
            ],
            [
             0.3,
             "#f1b6da"
            ],
            [
             0.4,
             "#fde0ef"
            ],
            [
             0.5,
             "#f7f7f7"
            ],
            [
             0.6,
             "#e6f5d0"
            ],
            [
             0.7,
             "#b8e186"
            ],
            [
             0.8,
             "#7fbc41"
            ],
            [
             0.9,
             "#4d9221"
            ],
            [
             1,
             "#276419"
            ]
           ],
           "sequential": [
            [
             0,
             "#0d0887"
            ],
            [
             0.1111111111111111,
             "#46039f"
            ],
            [
             0.2222222222222222,
             "#7201a8"
            ],
            [
             0.3333333333333333,
             "#9c179e"
            ],
            [
             0.4444444444444444,
             "#bd3786"
            ],
            [
             0.5555555555555556,
             "#d8576b"
            ],
            [
             0.6666666666666666,
             "#ed7953"
            ],
            [
             0.7777777777777778,
             "#fb9f3a"
            ],
            [
             0.8888888888888888,
             "#fdca26"
            ],
            [
             1,
             "#f0f921"
            ]
           ],
           "sequentialminus": [
            [
             0,
             "#0d0887"
            ],
            [
             0.1111111111111111,
             "#46039f"
            ],
            [
             0.2222222222222222,
             "#7201a8"
            ],
            [
             0.3333333333333333,
             "#9c179e"
            ],
            [
             0.4444444444444444,
             "#bd3786"
            ],
            [
             0.5555555555555556,
             "#d8576b"
            ],
            [
             0.6666666666666666,
             "#ed7953"
            ],
            [
             0.7777777777777778,
             "#fb9f3a"
            ],
            [
             0.8888888888888888,
             "#fdca26"
            ],
            [
             1,
             "#f0f921"
            ]
           ]
          },
          "colorway": [
           "#636efa",
           "#EF553B",
           "#00cc96",
           "#ab63fa",
           "#FFA15A",
           "#19d3f3",
           "#FF6692",
           "#B6E880",
           "#FF97FF",
           "#FECB52"
          ],
          "font": {
           "color": "#2a3f5f"
          },
          "geo": {
           "bgcolor": "white",
           "lakecolor": "white",
           "landcolor": "#E5ECF6",
           "showlakes": true,
           "showland": true,
           "subunitcolor": "white"
          },
          "hoverlabel": {
           "align": "left"
          },
          "hovermode": "closest",
          "mapbox": {
           "style": "light"
          },
          "paper_bgcolor": "white",
          "plot_bgcolor": "#E5ECF6",
          "polar": {
           "angularaxis": {
            "gridcolor": "white",
            "linecolor": "white",
            "ticks": ""
           },
           "bgcolor": "#E5ECF6",
           "radialaxis": {
            "gridcolor": "white",
            "linecolor": "white",
            "ticks": ""
           }
          },
          "scene": {
           "xaxis": {
            "backgroundcolor": "#E5ECF6",
            "gridcolor": "white",
            "gridwidth": 2,
            "linecolor": "white",
            "showbackground": true,
            "ticks": "",
            "zerolinecolor": "white"
           },
           "yaxis": {
            "backgroundcolor": "#E5ECF6",
            "gridcolor": "white",
            "gridwidth": 2,
            "linecolor": "white",
            "showbackground": true,
            "ticks": "",
            "zerolinecolor": "white"
           },
           "zaxis": {
            "backgroundcolor": "#E5ECF6",
            "gridcolor": "white",
            "gridwidth": 2,
            "linecolor": "white",
            "showbackground": true,
            "ticks": "",
            "zerolinecolor": "white"
           }
          },
          "shapedefaults": {
           "line": {
            "color": "#2a3f5f"
           }
          },
          "ternary": {
           "aaxis": {
            "gridcolor": "white",
            "linecolor": "white",
            "ticks": ""
           },
           "baxis": {
            "gridcolor": "white",
            "linecolor": "white",
            "ticks": ""
           },
           "bgcolor": "#E5ECF6",
           "caxis": {
            "gridcolor": "white",
            "linecolor": "white",
            "ticks": ""
           }
          },
          "title": {
           "x": 0.05
          },
          "xaxis": {
           "automargin": true,
           "gridcolor": "white",
           "linecolor": "white",
           "ticks": "",
           "title": {
            "standoff": 15
           },
           "zerolinecolor": "white",
           "zerolinewidth": 2
          },
          "yaxis": {
           "automargin": true,
           "gridcolor": "white",
           "linecolor": "white",
           "ticks": "",
           "title": {
            "standoff": 15
           },
           "zerolinecolor": "white",
           "zerolinewidth": 2
          }
         }
        },
        "title": {
         "text": "Histogram for 'age'"
        },
        "xaxis": {
         "anchor": "y",
         "domain": [
          0,
          1
         ],
         "title": {
          "text": "age"
         }
        },
        "yaxis": {
         "anchor": "x",
         "domain": [
          0,
          1
         ],
         "title": {
          "text": "count"
         }
        }
       }
      },
      "text/html": [
       "<div>                            <div id=\"e8df24e9-779c-495c-9447-718a7618bace\" class=\"plotly-graph-div\" style=\"height:525px; width:100%;\"></div>            <script type=\"text/javascript\">                require([\"plotly\"], function(Plotly) {                    window.PLOTLYENV=window.PLOTLYENV || {};                                    if (document.getElementById(\"e8df24e9-779c-495c-9447-718a7618bace\")) {                    Plotly.newPlot(                        \"e8df24e9-779c-495c-9447-718a7618bace\",                        [{\"alignmentgroup\":\"True\",\"bingroup\":\"x\",\"hovertemplate\":\"age=%{x}<br>count=%{y}<extra></extra>\",\"legendgroup\":\"\",\"marker\":{\"color\":\"#636efa\",\"pattern\":{\"shape\":\"\"}},\"name\":\"\",\"nbinsx\":40,\"offsetgroup\":\"\",\"orientation\":\"v\",\"showlegend\":false,\"x\":[64,41,37,77,46,68,53,27,25,68,47,68,46,37,40,36,83,57,70,85,27,44,51,69,72,51,53,48,24,59,55,19,53,51,71,44,84,29,54,25,24,33,70,36,58,68,75,36,51,48,43,33,50,53,81,31,31,29,55,94,45,76,54,23,84,82,92,47,32,56,46,27,89,79,51,56,63,54,45,35,66,59,64,65,22,70,33,21,22,66,49,70,67,19,53,75,30,39,89,54,79,32,56,50,78,64,57,52,53,55,61,21,44,67,51,53,62,26,26,47,56,57,83,32,37,55,83,43,47,31,63,41,48,23,19,43,33,70,61,44,68,51,79,49,26,62,69,77,23,39,75,78,36,58,30,29,49,43,84,55,37,36,69,69,49,70,31,32,66,37,82,60,48,27,50,54,48,36,61,58,58,49,29,74,25,18,24,51,35,74,87,61,60,64,48,49,35,26,53,73,63,62,54,50,73,73,61,78,34,55,45,26,77,65,46,45,55,46,82,44,48,58,41,29,62,82,65,47,60,53,76,63,19,23,78,46,67,42,42,57,50,78,31,19,19,21,23,64,40,46,40,65,69,36,31,32,55,76,56,41,56,87,24,62,54,18,62,53,28,31,22,54,76,21,83,40,88,27,55,73,47,56,47,66,48,28,74,22,43,78,57,18,60,28,57,29,28,68,58,74,59,51,25,20,38,60,30,62,40,83,34,23,80,77,38,44,61,77,64,57,40,64,71,71,42,32,64,36,40,64,19,75,35,49,47,50,45,60,49,78,37,72,43,61,67,67,68,72,31,49,80,42,28,62,84,20,78,45,46,35,52,21,57,53,59,33,73,72,28,46,38,27,74,88,80,28,32,67,31,26,37,22,70,76,24,74,46,63,33,37,31,51,29,56,33,68,75,58,64,61,21,35,38,32,24,20,71,35,42,54,70,47,65,67,42,28,64,66,41,47,66,84,70,64,31,38,51,54,51,33,79,51,64,74,49,51,76,78,48,77,59,40,66,29,50,32,47,42,47,62,18,43,52,40,57,72,56,45,49,22,51,83,23,55,61,83,52,45,69,23,60,65,54,37,18,54,29,64,50,60,75,38,36,49,80,33,36,73,33,31,52,59,40,18,55,54,77,81,24,75,18,21,82,29,31,79,64,82,54,28,47,59,58,45,56,82,60,60,48,27,77,38,35,34,30,31,51,34,48,53,28,60,45,40,78,53,54,38,75,54,65,63,33,52,66,51,49,53,51,76,77,50,22,57,29,36,57,67,63,37,54,48,18,19,59,31,43,61,50,71,38,54,64,60,59,29,59,21,27,63,51,67,68,27,73,59,80,28,33,56,51,61,60,41,48,18,25,34,49,67,69,48,73,38,38,53,55,27,65,64,53,37,89,67,54,59,49,68,52,63,81,55,19,50,63,38,68,50,67,50,24,33,19,35,42,39,19,57,37,64,78,52,44,50,48,56,58,67,85,48,72,38,54,34,18,82,63,33,64,72,70,75,51,27,37,48,25,79,54,46,28,48,66,36,66,44,25,30,48,35,24,59,59,57,54,71,64,69,66,38,72,52,38,52,51,49,64,68,43,50,77,76,56,43,27,77,40,82,52,26,56,29,43,56,29,75,66,21,41,52,64,30,74,57,68,57,51,46,79,70,50,44,67,73,75,65,57,25,39,62,59,50,59,28,74,54,29,21,66,58,29,29,22,59,42,55,49,56,60,67,40,67,51,44,20,69,41,36,56,44,61,44,41,32,34,82,75,29,32,60,81,36,64,65,60,25,59,60,71,67,37,53,73,55,47,68,35,22,48,19,78,23,51,33,54,40,57,63,55,73,32,81,33,68,60,85,51,49,23,76,61,56,69,40,67,82,65,36,55,54,40,48,68,42,35,35,62,26,40,18,76,68,55,52,30,29,24,66,28,61,30,58,85,54,61,67,49,56,28,50,58,30,54,44,69,30,51,70,85,72,27,60,43,63,37,21,67,71,36,60,76,51,23,46,43,35,58,84,64,43,66,23,67,74,51,75,71,52,70,27,37,70,79,32,28,44,33,54,37,56,55,84,26,73,76,61,56,32,67,53,37,43,63,27,54,38,77,43,61,39,20,53,55,21,39,63,18,70,81,29,62,69,68,58,86,18,41,59,56,52,49,79,45,42,51,92,68,50,80,43,80,60,52,72,65,66,51,56,26,32,82,61,44,48,58,42,67,38,36,39,77,68,76,43,67,60,65,62,57,84,63,60,66,22,18,77,52,25,29,27,68,59,23,56,54,58,26,22,44,58,81,90,62,36,58,52,79,37,57,81,53,69,49,23,65,28,37,21,67,75,53,51,52,77,26,63,55,43,56,73,79,60,53,28,38,35,68,71,87,36,92,70,78,20,58,65,40,68,55,57,29,24,77,42,46,73,42,21,64,29,61,59,58,83,25,51,53,67,56,34,66,53,65,70,56,62,77,82,41,86,52,57,66,50,21,66,38,50,62,80,69,40,88,70,31,57,49,35,58,40,34,64,50,56,77,56,20,57,71,37,37,68,77,44,52,37,51,53,65,69,20,44,54,74,20,73,19,67,85,78,62,48,30,35,26,20,68,69,60,53,64,79,74,32,55,39,21,39,73,35,77,52,27,68,40,30,44,41,75,64,19,60,40,38,52,77,50,35,27,79,58,54,69,64,37,56,38,78,67,25,56,45,64,45,66,38,68,66,76,55,73,19,33,66,73,53,65,58,68,51,80,46,27,55,58,67,34,54,70,34,29,75,68,80,26,27,39,71,66,61,64,57,49,31,39,66,92,66,73,22,69,37,58,33,29,46,34,24,55,34,55,85,20,29,34,42,19,52,59,29,27,49,68,53,33,69,50,78,25,56,25,55,55,38,56,78,38,20,35,77,72,59,52,51,47,39,77,52,66,32,74,49,45,78,82,53,23,33,28,23,69,20,49,88,39,76,82,67,33,67,20,36,48,51,30,44,49,81,52,72,62,70,65,63,52,34,28,18,34,21,45,45,39,40,29,65,32,74,21,37,80,62,34,59,44,57,44,41,66,54,54,27,67,57,64,68,31,26,67,43,68,56,37,60,54,20,27,78,45,31,65,69,22,37,60,35,19,62,61,71,49,62,25,40,48,28,24,56,21,20,19,61,78,36,34,34,40,36,50,74,47,48,71,65,59,42,52,57,48,41,58,56,35,31,21,53,37,71,34,48,40,83,61,51,47,73,84,27,45,52,81,46,25,36,55,22,67,25,44,27,49,44,37,57,21,74,40,50,40,82,36,67,35,26,65,55,26,47,33,46,53,45,65,37,87,74,65,19,57,50,49,67,25,70,51,51,48,53,45,37,42,34,23,43,50,60,44,54,42,28,55,46,43,51,31,71,55,53,55,50,84,23,52,26,36,23,75,72,47,65,65,44,61,65,55,50,60,53,49,83,31,66,60,68,64,35,54,46,36,43,26,30,67,43,42,38,57,72,49,59,35,61,30,24,39,25,63,36,62,22,60,42,47,80,57,62,69,51,65,31,52,55,36,73,58,60,69,43,32,88],\"xaxis\":\"x\",\"yaxis\":\"y\",\"type\":\"histogram\"}],                        {\"template\":{\"data\":{\"histogram2dcontour\":[{\"type\":\"histogram2dcontour\",\"colorbar\":{\"outlinewidth\":0,\"ticks\":\"\"},\"colorscale\":[[0.0,\"#0d0887\"],[0.1111111111111111,\"#46039f\"],[0.2222222222222222,\"#7201a8\"],[0.3333333333333333,\"#9c179e\"],[0.4444444444444444,\"#bd3786\"],[0.5555555555555556,\"#d8576b\"],[0.6666666666666666,\"#ed7953\"],[0.7777777777777778,\"#fb9f3a\"],[0.8888888888888888,\"#fdca26\"],[1.0,\"#f0f921\"]]}],\"choropleth\":[{\"type\":\"choropleth\",\"colorbar\":{\"outlinewidth\":0,\"ticks\":\"\"}}],\"histogram2d\":[{\"type\":\"histogram2d\",\"colorbar\":{\"outlinewidth\":0,\"ticks\":\"\"},\"colorscale\":[[0.0,\"#0d0887\"],[0.1111111111111111,\"#46039f\"],[0.2222222222222222,\"#7201a8\"],[0.3333333333333333,\"#9c179e\"],[0.4444444444444444,\"#bd3786\"],[0.5555555555555556,\"#d8576b\"],[0.6666666666666666,\"#ed7953\"],[0.7777777777777778,\"#fb9f3a\"],[0.8888888888888888,\"#fdca26\"],[1.0,\"#f0f921\"]]}],\"heatmap\":[{\"type\":\"heatmap\",\"colorbar\":{\"outlinewidth\":0,\"ticks\":\"\"},\"colorscale\":[[0.0,\"#0d0887\"],[0.1111111111111111,\"#46039f\"],[0.2222222222222222,\"#7201a8\"],[0.3333333333333333,\"#9c179e\"],[0.4444444444444444,\"#bd3786\"],[0.5555555555555556,\"#d8576b\"],[0.6666666666666666,\"#ed7953\"],[0.7777777777777778,\"#fb9f3a\"],[0.8888888888888888,\"#fdca26\"],[1.0,\"#f0f921\"]]}],\"heatmapgl\":[{\"type\":\"heatmapgl\",\"colorbar\":{\"outlinewidth\":0,\"ticks\":\"\"},\"colorscale\":[[0.0,\"#0d0887\"],[0.1111111111111111,\"#46039f\"],[0.2222222222222222,\"#7201a8\"],[0.3333333333333333,\"#9c179e\"],[0.4444444444444444,\"#bd3786\"],[0.5555555555555556,\"#d8576b\"],[0.6666666666666666,\"#ed7953\"],[0.7777777777777778,\"#fb9f3a\"],[0.8888888888888888,\"#fdca26\"],[1.0,\"#f0f921\"]]}],\"contourcarpet\":[{\"type\":\"contourcarpet\",\"colorbar\":{\"outlinewidth\":0,\"ticks\":\"\"}}],\"contour\":[{\"type\":\"contour\",\"colorbar\":{\"outlinewidth\":0,\"ticks\":\"\"},\"colorscale\":[[0.0,\"#0d0887\"],[0.1111111111111111,\"#46039f\"],[0.2222222222222222,\"#7201a8\"],[0.3333333333333333,\"#9c179e\"],[0.4444444444444444,\"#bd3786\"],[0.5555555555555556,\"#d8576b\"],[0.6666666666666666,\"#ed7953\"],[0.7777777777777778,\"#fb9f3a\"],[0.8888888888888888,\"#fdca26\"],[1.0,\"#f0f921\"]]}],\"surface\":[{\"type\":\"surface\",\"colorbar\":{\"outlinewidth\":0,\"ticks\":\"\"},\"colorscale\":[[0.0,\"#0d0887\"],[0.1111111111111111,\"#46039f\"],[0.2222222222222222,\"#7201a8\"],[0.3333333333333333,\"#9c179e\"],[0.4444444444444444,\"#bd3786\"],[0.5555555555555556,\"#d8576b\"],[0.6666666666666666,\"#ed7953\"],[0.7777777777777778,\"#fb9f3a\"],[0.8888888888888888,\"#fdca26\"],[1.0,\"#f0f921\"]]}],\"mesh3d\":[{\"type\":\"mesh3d\",\"colorbar\":{\"outlinewidth\":0,\"ticks\":\"\"}}],\"scatter\":[{\"fillpattern\":{\"fillmode\":\"overlay\",\"size\":10,\"solidity\":0.2},\"type\":\"scatter\"}],\"parcoords\":[{\"type\":\"parcoords\",\"line\":{\"colorbar\":{\"outlinewidth\":0,\"ticks\":\"\"}}}],\"scatterpolargl\":[{\"type\":\"scatterpolargl\",\"marker\":{\"colorbar\":{\"outlinewidth\":0,\"ticks\":\"\"}}}],\"bar\":[{\"error_x\":{\"color\":\"#2a3f5f\"},\"error_y\":{\"color\":\"#2a3f5f\"},\"marker\":{\"line\":{\"color\":\"#E5ECF6\",\"width\":0.5},\"pattern\":{\"fillmode\":\"overlay\",\"size\":10,\"solidity\":0.2}},\"type\":\"bar\"}],\"scattergeo\":[{\"type\":\"scattergeo\",\"marker\":{\"colorbar\":{\"outlinewidth\":0,\"ticks\":\"\"}}}],\"scatterpolar\":[{\"type\":\"scatterpolar\",\"marker\":{\"colorbar\":{\"outlinewidth\":0,\"ticks\":\"\"}}}],\"histogram\":[{\"marker\":{\"pattern\":{\"fillmode\":\"overlay\",\"size\":10,\"solidity\":0.2}},\"type\":\"histogram\"}],\"scattergl\":[{\"type\":\"scattergl\",\"marker\":{\"colorbar\":{\"outlinewidth\":0,\"ticks\":\"\"}}}],\"scatter3d\":[{\"type\":\"scatter3d\",\"line\":{\"colorbar\":{\"outlinewidth\":0,\"ticks\":\"\"}},\"marker\":{\"colorbar\":{\"outlinewidth\":0,\"ticks\":\"\"}}}],\"scattermapbox\":[{\"type\":\"scattermapbox\",\"marker\":{\"colorbar\":{\"outlinewidth\":0,\"ticks\":\"\"}}}],\"scatterternary\":[{\"type\":\"scatterternary\",\"marker\":{\"colorbar\":{\"outlinewidth\":0,\"ticks\":\"\"}}}],\"scattercarpet\":[{\"type\":\"scattercarpet\",\"marker\":{\"colorbar\":{\"outlinewidth\":0,\"ticks\":\"\"}}}],\"carpet\":[{\"aaxis\":{\"endlinecolor\":\"#2a3f5f\",\"gridcolor\":\"white\",\"linecolor\":\"white\",\"minorgridcolor\":\"white\",\"startlinecolor\":\"#2a3f5f\"},\"baxis\":{\"endlinecolor\":\"#2a3f5f\",\"gridcolor\":\"white\",\"linecolor\":\"white\",\"minorgridcolor\":\"white\",\"startlinecolor\":\"#2a3f5f\"},\"type\":\"carpet\"}],\"table\":[{\"cells\":{\"fill\":{\"color\":\"#EBF0F8\"},\"line\":{\"color\":\"white\"}},\"header\":{\"fill\":{\"color\":\"#C8D4E3\"},\"line\":{\"color\":\"white\"}},\"type\":\"table\"}],\"barpolar\":[{\"marker\":{\"line\":{\"color\":\"#E5ECF6\",\"width\":0.5},\"pattern\":{\"fillmode\":\"overlay\",\"size\":10,\"solidity\":0.2}},\"type\":\"barpolar\"}],\"pie\":[{\"automargin\":true,\"type\":\"pie\"}]},\"layout\":{\"autotypenumbers\":\"strict\",\"colorway\":[\"#636efa\",\"#EF553B\",\"#00cc96\",\"#ab63fa\",\"#FFA15A\",\"#19d3f3\",\"#FF6692\",\"#B6E880\",\"#FF97FF\",\"#FECB52\"],\"font\":{\"color\":\"#2a3f5f\"},\"hovermode\":\"closest\",\"hoverlabel\":{\"align\":\"left\"},\"paper_bgcolor\":\"white\",\"plot_bgcolor\":\"#E5ECF6\",\"polar\":{\"bgcolor\":\"#E5ECF6\",\"angularaxis\":{\"gridcolor\":\"white\",\"linecolor\":\"white\",\"ticks\":\"\"},\"radialaxis\":{\"gridcolor\":\"white\",\"linecolor\":\"white\",\"ticks\":\"\"}},\"ternary\":{\"bgcolor\":\"#E5ECF6\",\"aaxis\":{\"gridcolor\":\"white\",\"linecolor\":\"white\",\"ticks\":\"\"},\"baxis\":{\"gridcolor\":\"white\",\"linecolor\":\"white\",\"ticks\":\"\"},\"caxis\":{\"gridcolor\":\"white\",\"linecolor\":\"white\",\"ticks\":\"\"}},\"coloraxis\":{\"colorbar\":{\"outlinewidth\":0,\"ticks\":\"\"}},\"colorscale\":{\"sequential\":[[0.0,\"#0d0887\"],[0.1111111111111111,\"#46039f\"],[0.2222222222222222,\"#7201a8\"],[0.3333333333333333,\"#9c179e\"],[0.4444444444444444,\"#bd3786\"],[0.5555555555555556,\"#d8576b\"],[0.6666666666666666,\"#ed7953\"],[0.7777777777777778,\"#fb9f3a\"],[0.8888888888888888,\"#fdca26\"],[1.0,\"#f0f921\"]],\"sequentialminus\":[[0.0,\"#0d0887\"],[0.1111111111111111,\"#46039f\"],[0.2222222222222222,\"#7201a8\"],[0.3333333333333333,\"#9c179e\"],[0.4444444444444444,\"#bd3786\"],[0.5555555555555556,\"#d8576b\"],[0.6666666666666666,\"#ed7953\"],[0.7777777777777778,\"#fb9f3a\"],[0.8888888888888888,\"#fdca26\"],[1.0,\"#f0f921\"]],\"diverging\":[[0,\"#8e0152\"],[0.1,\"#c51b7d\"],[0.2,\"#de77ae\"],[0.3,\"#f1b6da\"],[0.4,\"#fde0ef\"],[0.5,\"#f7f7f7\"],[0.6,\"#e6f5d0\"],[0.7,\"#b8e186\"],[0.8,\"#7fbc41\"],[0.9,\"#4d9221\"],[1,\"#276419\"]]},\"xaxis\":{\"gridcolor\":\"white\",\"linecolor\":\"white\",\"ticks\":\"\",\"title\":{\"standoff\":15},\"zerolinecolor\":\"white\",\"automargin\":true,\"zerolinewidth\":2},\"yaxis\":{\"gridcolor\":\"white\",\"linecolor\":\"white\",\"ticks\":\"\",\"title\":{\"standoff\":15},\"zerolinecolor\":\"white\",\"automargin\":true,\"zerolinewidth\":2},\"scene\":{\"xaxis\":{\"backgroundcolor\":\"#E5ECF6\",\"gridcolor\":\"white\",\"linecolor\":\"white\",\"showbackground\":true,\"ticks\":\"\",\"zerolinecolor\":\"white\",\"gridwidth\":2},\"yaxis\":{\"backgroundcolor\":\"#E5ECF6\",\"gridcolor\":\"white\",\"linecolor\":\"white\",\"showbackground\":true,\"ticks\":\"\",\"zerolinecolor\":\"white\",\"gridwidth\":2},\"zaxis\":{\"backgroundcolor\":\"#E5ECF6\",\"gridcolor\":\"white\",\"linecolor\":\"white\",\"showbackground\":true,\"ticks\":\"\",\"zerolinecolor\":\"white\",\"gridwidth\":2}},\"shapedefaults\":{\"line\":{\"color\":\"#2a3f5f\"}},\"annotationdefaults\":{\"arrowcolor\":\"#2a3f5f\",\"arrowhead\":0,\"arrowwidth\":1},\"geo\":{\"bgcolor\":\"white\",\"landcolor\":\"#E5ECF6\",\"subunitcolor\":\"white\",\"showland\":true,\"showlakes\":true,\"lakecolor\":\"white\"},\"title\":{\"x\":0.05},\"mapbox\":{\"style\":\"light\"}}},\"xaxis\":{\"anchor\":\"y\",\"domain\":[0.0,1.0],\"title\":{\"text\":\"age\"}},\"yaxis\":{\"anchor\":\"x\",\"domain\":[0.0,1.0],\"title\":{\"text\":\"count\"}},\"legend\":{\"tracegroupgap\":0},\"title\":{\"text\":\"Histogram for 'age'\"},\"barmode\":\"relative\"},                        {\"responsive\": true}                    ).then(function(){\n",
       "                            \n",
       "var gd = document.getElementById('e8df24e9-779c-495c-9447-718a7618bace');\n",
       "var x = new MutationObserver(function (mutations, observer) {{\n",
       "        var display = window.getComputedStyle(gd).display;\n",
       "        if (!display || display === 'none') {{\n",
       "            console.log([gd, 'removed!']);\n",
       "            Plotly.purge(gd);\n",
       "            observer.disconnect();\n",
       "        }}\n",
       "}});\n",
       "\n",
       "// Listen for the removal of the full notebook cells\n",
       "var notebookContainer = gd.closest('#notebook-container');\n",
       "if (notebookContainer) {{\n",
       "    x.observe(notebookContainer, {childList: true});\n",
       "}}\n",
       "\n",
       "// Listen for the clearing of the current output cell\n",
       "var outputEl = gd.closest('.output');\n",
       "if (outputEl) {{\n",
       "    x.observe(outputEl, {childList: true});\n",
       "}}\n",
       "\n",
       "                        })                };                });            </script>        </div>"
      ]
     },
     "metadata": {},
     "output_type": "display_data"
    },
    {
     "name": "stdout",
     "output_type": "stream",
     "text": [
      "\u001b[1mShapiro-Wilk Test:\n",
      "\n",
      "\u001b[0mStatistic:  0.978804886341095 \n",
      "Pvalue:  1.8294542855450124e-14\n"
     ]
    }
   ],
   "source": [
    "dfn = df[(df.age > 0) & (df.J005 > 0)]\n",
    "\n",
    "normal_shapiro(dfn, \"age\", 40)"
   ]
  },
  {
   "cell_type": "code",
   "execution_count": 53,
   "id": "a72537c0",
   "metadata": {},
   "outputs": [
    {
     "name": "stderr",
     "output_type": "stream",
     "text": [
      "/home/agriesel/miniconda3/envs/scipy/lib/python3.10/site-packages/plotly/tools.py:460: DeprecationWarning:\n",
      "\n",
      "plotly.tools.make_subplots is deprecated, please use plotly.subplots.make_subplots instead\n",
      "\n"
     ]
    },
    {
     "data": {
      "application/vnd.plotly.v1+json": {
       "config": {
        "linkText": "Export to plot.ly",
        "plotlyServerURL": "https://plot.ly",
        "showLink": false
       },
       "data": [
        {
         "marker": {
          "color": "rgb(128, 0, 128)",
          "line": {
           "color": "rgb(128, 0, 128)",
           "width": 1
          }
         },
         "name": "df2",
         "type": "scatter",
         "x": [
          0,
          4.444444444444445,
          8.88888888888889,
          13.333333333333334,
          17.77777777777778,
          22.22222222222222,
          26.666666666666668,
          31.111111111111114,
          35.55555555555556,
          40
         ],
         "y": [
          0.6764721263326371,
          0.3670514119621835,
          0.9759536705187685,
          0.9250127806501558,
          0.4627469600687474,
          0.8307872280114459,
          0.43995191001713274,
          0.22859007947869547,
          0.769126983602577,
          0.6986089868548491
         ]
        },
        {
         "marker": {
          "color": "rgba(50, 171, 96, 0.6)",
          "line": {
           "color": "rgba(50, 171, 96, 0.6)",
           "width": 1
          }
         },
         "name": "df1",
         "type": "scatter",
         "x": [
          0,
          3.3333333333333335,
          6.666666666666667,
          10,
          13.333333333333334,
          16.666666666666668,
          20,
          23.333333333333336,
          26.666666666666668,
          30
         ],
         "y": [
          0.1496545341568637,
          0.5064380375890459,
          0.6594332854915825,
          0.9489331410053073,
          0.4997067600269651,
          0.2451829340450712,
          0.22601066950198256,
          0.8890774529419698,
          0.7832785533459342,
          0.08450842367590927
         ]
        }
       ],
       "layout": {
        "height": 600,
        "legend": {
         "font": {
          "size": 10
         },
         "x": 0.029,
         "y": 1.038
        },
        "margin": {
         "b": 70,
         "l": 100,
         "r": 20,
         "t": 70
        },
        "paper_bgcolor": "rgb(248, 248, 255)",
        "plot_bgcolor": "rgb(248, 248, 255)",
        "template": {
         "data": {
          "bar": [
           {
            "error_x": {
             "color": "#2a3f5f"
            },
            "error_y": {
             "color": "#2a3f5f"
            },
            "marker": {
             "line": {
              "color": "#E5ECF6",
              "width": 0.5
             },
             "pattern": {
              "fillmode": "overlay",
              "size": 10,
              "solidity": 0.2
             }
            },
            "type": "bar"
           }
          ],
          "barpolar": [
           {
            "marker": {
             "line": {
              "color": "#E5ECF6",
              "width": 0.5
             },
             "pattern": {
              "fillmode": "overlay",
              "size": 10,
              "solidity": 0.2
             }
            },
            "type": "barpolar"
           }
          ],
          "carpet": [
           {
            "aaxis": {
             "endlinecolor": "#2a3f5f",
             "gridcolor": "white",
             "linecolor": "white",
             "minorgridcolor": "white",
             "startlinecolor": "#2a3f5f"
            },
            "baxis": {
             "endlinecolor": "#2a3f5f",
             "gridcolor": "white",
             "linecolor": "white",
             "minorgridcolor": "white",
             "startlinecolor": "#2a3f5f"
            },
            "type": "carpet"
           }
          ],
          "choropleth": [
           {
            "colorbar": {
             "outlinewidth": 0,
             "ticks": ""
            },
            "type": "choropleth"
           }
          ],
          "contour": [
           {
            "colorbar": {
             "outlinewidth": 0,
             "ticks": ""
            },
            "colorscale": [
             [
              0,
              "#0d0887"
             ],
             [
              0.1111111111111111,
              "#46039f"
             ],
             [
              0.2222222222222222,
              "#7201a8"
             ],
             [
              0.3333333333333333,
              "#9c179e"
             ],
             [
              0.4444444444444444,
              "#bd3786"
             ],
             [
              0.5555555555555556,
              "#d8576b"
             ],
             [
              0.6666666666666666,
              "#ed7953"
             ],
             [
              0.7777777777777778,
              "#fb9f3a"
             ],
             [
              0.8888888888888888,
              "#fdca26"
             ],
             [
              1,
              "#f0f921"
             ]
            ],
            "type": "contour"
           }
          ],
          "contourcarpet": [
           {
            "colorbar": {
             "outlinewidth": 0,
             "ticks": ""
            },
            "type": "contourcarpet"
           }
          ],
          "heatmap": [
           {
            "colorbar": {
             "outlinewidth": 0,
             "ticks": ""
            },
            "colorscale": [
             [
              0,
              "#0d0887"
             ],
             [
              0.1111111111111111,
              "#46039f"
             ],
             [
              0.2222222222222222,
              "#7201a8"
             ],
             [
              0.3333333333333333,
              "#9c179e"
             ],
             [
              0.4444444444444444,
              "#bd3786"
             ],
             [
              0.5555555555555556,
              "#d8576b"
             ],
             [
              0.6666666666666666,
              "#ed7953"
             ],
             [
              0.7777777777777778,
              "#fb9f3a"
             ],
             [
              0.8888888888888888,
              "#fdca26"
             ],
             [
              1,
              "#f0f921"
             ]
            ],
            "type": "heatmap"
           }
          ],
          "heatmapgl": [
           {
            "colorbar": {
             "outlinewidth": 0,
             "ticks": ""
            },
            "colorscale": [
             [
              0,
              "#0d0887"
             ],
             [
              0.1111111111111111,
              "#46039f"
             ],
             [
              0.2222222222222222,
              "#7201a8"
             ],
             [
              0.3333333333333333,
              "#9c179e"
             ],
             [
              0.4444444444444444,
              "#bd3786"
             ],
             [
              0.5555555555555556,
              "#d8576b"
             ],
             [
              0.6666666666666666,
              "#ed7953"
             ],
             [
              0.7777777777777778,
              "#fb9f3a"
             ],
             [
              0.8888888888888888,
              "#fdca26"
             ],
             [
              1,
              "#f0f921"
             ]
            ],
            "type": "heatmapgl"
           }
          ],
          "histogram": [
           {
            "marker": {
             "pattern": {
              "fillmode": "overlay",
              "size": 10,
              "solidity": 0.2
             }
            },
            "type": "histogram"
           }
          ],
          "histogram2d": [
           {
            "colorbar": {
             "outlinewidth": 0,
             "ticks": ""
            },
            "colorscale": [
             [
              0,
              "#0d0887"
             ],
             [
              0.1111111111111111,
              "#46039f"
             ],
             [
              0.2222222222222222,
              "#7201a8"
             ],
             [
              0.3333333333333333,
              "#9c179e"
             ],
             [
              0.4444444444444444,
              "#bd3786"
             ],
             [
              0.5555555555555556,
              "#d8576b"
             ],
             [
              0.6666666666666666,
              "#ed7953"
             ],
             [
              0.7777777777777778,
              "#fb9f3a"
             ],
             [
              0.8888888888888888,
              "#fdca26"
             ],
             [
              1,
              "#f0f921"
             ]
            ],
            "type": "histogram2d"
           }
          ],
          "histogram2dcontour": [
           {
            "colorbar": {
             "outlinewidth": 0,
             "ticks": ""
            },
            "colorscale": [
             [
              0,
              "#0d0887"
             ],
             [
              0.1111111111111111,
              "#46039f"
             ],
             [
              0.2222222222222222,
              "#7201a8"
             ],
             [
              0.3333333333333333,
              "#9c179e"
             ],
             [
              0.4444444444444444,
              "#bd3786"
             ],
             [
              0.5555555555555556,
              "#d8576b"
             ],
             [
              0.6666666666666666,
              "#ed7953"
             ],
             [
              0.7777777777777778,
              "#fb9f3a"
             ],
             [
              0.8888888888888888,
              "#fdca26"
             ],
             [
              1,
              "#f0f921"
             ]
            ],
            "type": "histogram2dcontour"
           }
          ],
          "mesh3d": [
           {
            "colorbar": {
             "outlinewidth": 0,
             "ticks": ""
            },
            "type": "mesh3d"
           }
          ],
          "parcoords": [
           {
            "line": {
             "colorbar": {
              "outlinewidth": 0,
              "ticks": ""
             }
            },
            "type": "parcoords"
           }
          ],
          "pie": [
           {
            "automargin": true,
            "type": "pie"
           }
          ],
          "scatter": [
           {
            "fillpattern": {
             "fillmode": "overlay",
             "size": 10,
             "solidity": 0.2
            },
            "type": "scatter"
           }
          ],
          "scatter3d": [
           {
            "line": {
             "colorbar": {
              "outlinewidth": 0,
              "ticks": ""
             }
            },
            "marker": {
             "colorbar": {
              "outlinewidth": 0,
              "ticks": ""
             }
            },
            "type": "scatter3d"
           }
          ],
          "scattercarpet": [
           {
            "marker": {
             "colorbar": {
              "outlinewidth": 0,
              "ticks": ""
             }
            },
            "type": "scattercarpet"
           }
          ],
          "scattergeo": [
           {
            "marker": {
             "colorbar": {
              "outlinewidth": 0,
              "ticks": ""
             }
            },
            "type": "scattergeo"
           }
          ],
          "scattergl": [
           {
            "marker": {
             "colorbar": {
              "outlinewidth": 0,
              "ticks": ""
             }
            },
            "type": "scattergl"
           }
          ],
          "scattermapbox": [
           {
            "marker": {
             "colorbar": {
              "outlinewidth": 0,
              "ticks": ""
             }
            },
            "type": "scattermapbox"
           }
          ],
          "scatterpolar": [
           {
            "marker": {
             "colorbar": {
              "outlinewidth": 0,
              "ticks": ""
             }
            },
            "type": "scatterpolar"
           }
          ],
          "scatterpolargl": [
           {
            "marker": {
             "colorbar": {
              "outlinewidth": 0,
              "ticks": ""
             }
            },
            "type": "scatterpolargl"
           }
          ],
          "scatterternary": [
           {
            "marker": {
             "colorbar": {
              "outlinewidth": 0,
              "ticks": ""
             }
            },
            "type": "scatterternary"
           }
          ],
          "surface": [
           {
            "colorbar": {
             "outlinewidth": 0,
             "ticks": ""
            },
            "colorscale": [
             [
              0,
              "#0d0887"
             ],
             [
              0.1111111111111111,
              "#46039f"
             ],
             [
              0.2222222222222222,
              "#7201a8"
             ],
             [
              0.3333333333333333,
              "#9c179e"
             ],
             [
              0.4444444444444444,
              "#bd3786"
             ],
             [
              0.5555555555555556,
              "#d8576b"
             ],
             [
              0.6666666666666666,
              "#ed7953"
             ],
             [
              0.7777777777777778,
              "#fb9f3a"
             ],
             [
              0.8888888888888888,
              "#fdca26"
             ],
             [
              1,
              "#f0f921"
             ]
            ],
            "type": "surface"
           }
          ],
          "table": [
           {
            "cells": {
             "fill": {
              "color": "#EBF0F8"
             },
             "line": {
              "color": "white"
             }
            },
            "header": {
             "fill": {
              "color": "#C8D4E3"
             },
             "line": {
              "color": "white"
             }
            },
            "type": "table"
           }
          ]
         },
         "layout": {
          "annotationdefaults": {
           "arrowcolor": "#2a3f5f",
           "arrowhead": 0,
           "arrowwidth": 1
          },
          "autotypenumbers": "strict",
          "coloraxis": {
           "colorbar": {
            "outlinewidth": 0,
            "ticks": ""
           }
          },
          "colorscale": {
           "diverging": [
            [
             0,
             "#8e0152"
            ],
            [
             0.1,
             "#c51b7d"
            ],
            [
             0.2,
             "#de77ae"
            ],
            [
             0.3,
             "#f1b6da"
            ],
            [
             0.4,
             "#fde0ef"
            ],
            [
             0.5,
             "#f7f7f7"
            ],
            [
             0.6,
             "#e6f5d0"
            ],
            [
             0.7,
             "#b8e186"
            ],
            [
             0.8,
             "#7fbc41"
            ],
            [
             0.9,
             "#4d9221"
            ],
            [
             1,
             "#276419"
            ]
           ],
           "sequential": [
            [
             0,
             "#0d0887"
            ],
            [
             0.1111111111111111,
             "#46039f"
            ],
            [
             0.2222222222222222,
             "#7201a8"
            ],
            [
             0.3333333333333333,
             "#9c179e"
            ],
            [
             0.4444444444444444,
             "#bd3786"
            ],
            [
             0.5555555555555556,
             "#d8576b"
            ],
            [
             0.6666666666666666,
             "#ed7953"
            ],
            [
             0.7777777777777778,
             "#fb9f3a"
            ],
            [
             0.8888888888888888,
             "#fdca26"
            ],
            [
             1,
             "#f0f921"
            ]
           ],
           "sequentialminus": [
            [
             0,
             "#0d0887"
            ],
            [
             0.1111111111111111,
             "#46039f"
            ],
            [
             0.2222222222222222,
             "#7201a8"
            ],
            [
             0.3333333333333333,
             "#9c179e"
            ],
            [
             0.4444444444444444,
             "#bd3786"
            ],
            [
             0.5555555555555556,
             "#d8576b"
            ],
            [
             0.6666666666666666,
             "#ed7953"
            ],
            [
             0.7777777777777778,
             "#fb9f3a"
            ],
            [
             0.8888888888888888,
             "#fdca26"
            ],
            [
             1,
             "#f0f921"
            ]
           ]
          },
          "colorway": [
           "#636efa",
           "#EF553B",
           "#00cc96",
           "#ab63fa",
           "#FFA15A",
           "#19d3f3",
           "#FF6692",
           "#B6E880",
           "#FF97FF",
           "#FECB52"
          ],
          "font": {
           "color": "#2a3f5f"
          },
          "geo": {
           "bgcolor": "white",
           "lakecolor": "white",
           "landcolor": "#E5ECF6",
           "showlakes": true,
           "showland": true,
           "subunitcolor": "white"
          },
          "hoverlabel": {
           "align": "left"
          },
          "hovermode": "closest",
          "mapbox": {
           "style": "light"
          },
          "paper_bgcolor": "white",
          "plot_bgcolor": "#E5ECF6",
          "polar": {
           "angularaxis": {
            "gridcolor": "white",
            "linecolor": "white",
            "ticks": ""
           },
           "bgcolor": "#E5ECF6",
           "radialaxis": {
            "gridcolor": "white",
            "linecolor": "white",
            "ticks": ""
           }
          },
          "scene": {
           "xaxis": {
            "backgroundcolor": "#E5ECF6",
            "gridcolor": "white",
            "gridwidth": 2,
            "linecolor": "white",
            "showbackground": true,
            "ticks": "",
            "zerolinecolor": "white"
           },
           "yaxis": {
            "backgroundcolor": "#E5ECF6",
            "gridcolor": "white",
            "gridwidth": 2,
            "linecolor": "white",
            "showbackground": true,
            "ticks": "",
            "zerolinecolor": "white"
           },
           "zaxis": {
            "backgroundcolor": "#E5ECF6",
            "gridcolor": "white",
            "gridwidth": 2,
            "linecolor": "white",
            "showbackground": true,
            "ticks": "",
            "zerolinecolor": "white"
           }
          },
          "shapedefaults": {
           "line": {
            "color": "#2a3f5f"
           }
          },
          "ternary": {
           "aaxis": {
            "gridcolor": "white",
            "linecolor": "white",
            "ticks": ""
           },
           "baxis": {
            "gridcolor": "white",
            "linecolor": "white",
            "ticks": ""
           },
           "bgcolor": "#E5ECF6",
           "caxis": {
            "gridcolor": "white",
            "linecolor": "white",
            "ticks": ""
           }
          },
          "title": {
           "x": 0.05
          },
          "xaxis": {
           "automargin": true,
           "gridcolor": "white",
           "linecolor": "white",
           "ticks": "",
           "title": {
            "standoff": 15
           },
           "zerolinecolor": "white",
           "zerolinewidth": 2
          },
          "yaxis": {
           "automargin": true,
           "gridcolor": "white",
           "linecolor": "white",
           "ticks": "",
           "title": {
            "standoff": 15
           },
           "zerolinecolor": "white",
           "zerolinewidth": 2
          }
         }
        },
        "title": {
         "text": "df2 and df1 plot"
        },
        "width": 600,
        "xaxis": {
         "anchor": "y",
         "domain": [
          0,
          1
         ],
         "tickangle": -45
        },
        "yaxis": {
         "anchor": "x",
         "domain": [
          0,
          1
         ]
        }
       }
      },
      "text/html": [
       "<div>                            <div id=\"059702aa-6826-45ed-8887-4bf4c512d2b8\" class=\"plotly-graph-div\" style=\"height:600px; width:600px;\"></div>            <script type=\"text/javascript\">                require([\"plotly\"], function(Plotly) {                    window.PLOTLYENV=window.PLOTLYENV || {};                                    if (document.getElementById(\"059702aa-6826-45ed-8887-4bf4c512d2b8\")) {                    Plotly.newPlot(                        \"059702aa-6826-45ed-8887-4bf4c512d2b8\",                        [{\"marker\":{\"color\":\"rgb(128, 0, 128)\",\"line\":{\"color\":\"rgb(128, 0, 128)\",\"width\":1}},\"name\":\"df2\",\"x\":[0.0,4.444444444444445,8.88888888888889,13.333333333333334,17.77777777777778,22.22222222222222,26.666666666666668,31.111111111111114,35.55555555555556,40.0],\"y\":[0.6764721263326371,0.3670514119621835,0.9759536705187685,0.9250127806501558,0.4627469600687474,0.8307872280114459,0.43995191001713274,0.22859007947869547,0.769126983602577,0.6986089868548491],\"type\":\"scatter\"},{\"marker\":{\"color\":\"rgba(50, 171, 96, 0.6)\",\"line\":{\"color\":\"rgba(50, 171, 96, 0.6)\",\"width\":1}},\"name\":\"df1\",\"x\":[0.0,3.3333333333333335,6.666666666666667,10.0,13.333333333333334,16.666666666666668,20.0,23.333333333333336,26.666666666666668,30.0],\"y\":[0.1496545341568637,0.5064380375890459,0.6594332854915825,0.9489331410053073,0.4997067600269651,0.2451829340450712,0.22601066950198256,0.8890774529419698,0.7832785533459342,0.08450842367590927],\"type\":\"scatter\"}],                        {\"height\":600,\"legend\":{\"font\":{\"size\":10},\"x\":0.029,\"y\":1.038},\"margin\":{\"b\":70,\"l\":100,\"r\":20,\"t\":70},\"paper_bgcolor\":\"rgb(248, 248, 255)\",\"plot_bgcolor\":\"rgb(248, 248, 255)\",\"template\":{\"data\":{\"barpolar\":[{\"marker\":{\"line\":{\"color\":\"#E5ECF6\",\"width\":0.5},\"pattern\":{\"fillmode\":\"overlay\",\"size\":10,\"solidity\":0.2}},\"type\":\"barpolar\"}],\"bar\":[{\"error_x\":{\"color\":\"#2a3f5f\"},\"error_y\":{\"color\":\"#2a3f5f\"},\"marker\":{\"line\":{\"color\":\"#E5ECF6\",\"width\":0.5},\"pattern\":{\"fillmode\":\"overlay\",\"size\":10,\"solidity\":0.2}},\"type\":\"bar\"}],\"carpet\":[{\"aaxis\":{\"endlinecolor\":\"#2a3f5f\",\"gridcolor\":\"white\",\"linecolor\":\"white\",\"minorgridcolor\":\"white\",\"startlinecolor\":\"#2a3f5f\"},\"baxis\":{\"endlinecolor\":\"#2a3f5f\",\"gridcolor\":\"white\",\"linecolor\":\"white\",\"minorgridcolor\":\"white\",\"startlinecolor\":\"#2a3f5f\"},\"type\":\"carpet\"}],\"choropleth\":[{\"colorbar\":{\"outlinewidth\":0,\"ticks\":\"\"},\"type\":\"choropleth\"}],\"contourcarpet\":[{\"colorbar\":{\"outlinewidth\":0,\"ticks\":\"\"},\"type\":\"contourcarpet\"}],\"contour\":[{\"colorbar\":{\"outlinewidth\":0,\"ticks\":\"\"},\"colorscale\":[[0.0,\"#0d0887\"],[0.1111111111111111,\"#46039f\"],[0.2222222222222222,\"#7201a8\"],[0.3333333333333333,\"#9c179e\"],[0.4444444444444444,\"#bd3786\"],[0.5555555555555556,\"#d8576b\"],[0.6666666666666666,\"#ed7953\"],[0.7777777777777778,\"#fb9f3a\"],[0.8888888888888888,\"#fdca26\"],[1.0,\"#f0f921\"]],\"type\":\"contour\"}],\"heatmapgl\":[{\"colorbar\":{\"outlinewidth\":0,\"ticks\":\"\"},\"colorscale\":[[0.0,\"#0d0887\"],[0.1111111111111111,\"#46039f\"],[0.2222222222222222,\"#7201a8\"],[0.3333333333333333,\"#9c179e\"],[0.4444444444444444,\"#bd3786\"],[0.5555555555555556,\"#d8576b\"],[0.6666666666666666,\"#ed7953\"],[0.7777777777777778,\"#fb9f3a\"],[0.8888888888888888,\"#fdca26\"],[1.0,\"#f0f921\"]],\"type\":\"heatmapgl\"}],\"heatmap\":[{\"colorbar\":{\"outlinewidth\":0,\"ticks\":\"\"},\"colorscale\":[[0.0,\"#0d0887\"],[0.1111111111111111,\"#46039f\"],[0.2222222222222222,\"#7201a8\"],[0.3333333333333333,\"#9c179e\"],[0.4444444444444444,\"#bd3786\"],[0.5555555555555556,\"#d8576b\"],[0.6666666666666666,\"#ed7953\"],[0.7777777777777778,\"#fb9f3a\"],[0.8888888888888888,\"#fdca26\"],[1.0,\"#f0f921\"]],\"type\":\"heatmap\"}],\"histogram2dcontour\":[{\"colorbar\":{\"outlinewidth\":0,\"ticks\":\"\"},\"colorscale\":[[0.0,\"#0d0887\"],[0.1111111111111111,\"#46039f\"],[0.2222222222222222,\"#7201a8\"],[0.3333333333333333,\"#9c179e\"],[0.4444444444444444,\"#bd3786\"],[0.5555555555555556,\"#d8576b\"],[0.6666666666666666,\"#ed7953\"],[0.7777777777777778,\"#fb9f3a\"],[0.8888888888888888,\"#fdca26\"],[1.0,\"#f0f921\"]],\"type\":\"histogram2dcontour\"}],\"histogram2d\":[{\"colorbar\":{\"outlinewidth\":0,\"ticks\":\"\"},\"colorscale\":[[0.0,\"#0d0887\"],[0.1111111111111111,\"#46039f\"],[0.2222222222222222,\"#7201a8\"],[0.3333333333333333,\"#9c179e\"],[0.4444444444444444,\"#bd3786\"],[0.5555555555555556,\"#d8576b\"],[0.6666666666666666,\"#ed7953\"],[0.7777777777777778,\"#fb9f3a\"],[0.8888888888888888,\"#fdca26\"],[1.0,\"#f0f921\"]],\"type\":\"histogram2d\"}],\"histogram\":[{\"marker\":{\"pattern\":{\"fillmode\":\"overlay\",\"size\":10,\"solidity\":0.2}},\"type\":\"histogram\"}],\"mesh3d\":[{\"colorbar\":{\"outlinewidth\":0,\"ticks\":\"\"},\"type\":\"mesh3d\"}],\"parcoords\":[{\"line\":{\"colorbar\":{\"outlinewidth\":0,\"ticks\":\"\"}},\"type\":\"parcoords\"}],\"pie\":[{\"automargin\":true,\"type\":\"pie\"}],\"scatter3d\":[{\"line\":{\"colorbar\":{\"outlinewidth\":0,\"ticks\":\"\"}},\"marker\":{\"colorbar\":{\"outlinewidth\":0,\"ticks\":\"\"}},\"type\":\"scatter3d\"}],\"scattercarpet\":[{\"marker\":{\"colorbar\":{\"outlinewidth\":0,\"ticks\":\"\"}},\"type\":\"scattercarpet\"}],\"scattergeo\":[{\"marker\":{\"colorbar\":{\"outlinewidth\":0,\"ticks\":\"\"}},\"type\":\"scattergeo\"}],\"scattergl\":[{\"marker\":{\"colorbar\":{\"outlinewidth\":0,\"ticks\":\"\"}},\"type\":\"scattergl\"}],\"scattermapbox\":[{\"marker\":{\"colorbar\":{\"outlinewidth\":0,\"ticks\":\"\"}},\"type\":\"scattermapbox\"}],\"scatterpolargl\":[{\"marker\":{\"colorbar\":{\"outlinewidth\":0,\"ticks\":\"\"}},\"type\":\"scatterpolargl\"}],\"scatterpolar\":[{\"marker\":{\"colorbar\":{\"outlinewidth\":0,\"ticks\":\"\"}},\"type\":\"scatterpolar\"}],\"scatter\":[{\"fillpattern\":{\"fillmode\":\"overlay\",\"size\":10,\"solidity\":0.2},\"type\":\"scatter\"}],\"scatterternary\":[{\"marker\":{\"colorbar\":{\"outlinewidth\":0,\"ticks\":\"\"}},\"type\":\"scatterternary\"}],\"surface\":[{\"colorbar\":{\"outlinewidth\":0,\"ticks\":\"\"},\"colorscale\":[[0.0,\"#0d0887\"],[0.1111111111111111,\"#46039f\"],[0.2222222222222222,\"#7201a8\"],[0.3333333333333333,\"#9c179e\"],[0.4444444444444444,\"#bd3786\"],[0.5555555555555556,\"#d8576b\"],[0.6666666666666666,\"#ed7953\"],[0.7777777777777778,\"#fb9f3a\"],[0.8888888888888888,\"#fdca26\"],[1.0,\"#f0f921\"]],\"type\":\"surface\"}],\"table\":[{\"cells\":{\"fill\":{\"color\":\"#EBF0F8\"},\"line\":{\"color\":\"white\"}},\"header\":{\"fill\":{\"color\":\"#C8D4E3\"},\"line\":{\"color\":\"white\"}},\"type\":\"table\"}]},\"layout\":{\"annotationdefaults\":{\"arrowcolor\":\"#2a3f5f\",\"arrowhead\":0,\"arrowwidth\":1},\"autotypenumbers\":\"strict\",\"coloraxis\":{\"colorbar\":{\"outlinewidth\":0,\"ticks\":\"\"}},\"colorscale\":{\"diverging\":[[0,\"#8e0152\"],[0.1,\"#c51b7d\"],[0.2,\"#de77ae\"],[0.3,\"#f1b6da\"],[0.4,\"#fde0ef\"],[0.5,\"#f7f7f7\"],[0.6,\"#e6f5d0\"],[0.7,\"#b8e186\"],[0.8,\"#7fbc41\"],[0.9,\"#4d9221\"],[1,\"#276419\"]],\"sequential\":[[0.0,\"#0d0887\"],[0.1111111111111111,\"#46039f\"],[0.2222222222222222,\"#7201a8\"],[0.3333333333333333,\"#9c179e\"],[0.4444444444444444,\"#bd3786\"],[0.5555555555555556,\"#d8576b\"],[0.6666666666666666,\"#ed7953\"],[0.7777777777777778,\"#fb9f3a\"],[0.8888888888888888,\"#fdca26\"],[1.0,\"#f0f921\"]],\"sequentialminus\":[[0.0,\"#0d0887\"],[0.1111111111111111,\"#46039f\"],[0.2222222222222222,\"#7201a8\"],[0.3333333333333333,\"#9c179e\"],[0.4444444444444444,\"#bd3786\"],[0.5555555555555556,\"#d8576b\"],[0.6666666666666666,\"#ed7953\"],[0.7777777777777778,\"#fb9f3a\"],[0.8888888888888888,\"#fdca26\"],[1.0,\"#f0f921\"]]},\"colorway\":[\"#636efa\",\"#EF553B\",\"#00cc96\",\"#ab63fa\",\"#FFA15A\",\"#19d3f3\",\"#FF6692\",\"#B6E880\",\"#FF97FF\",\"#FECB52\"],\"font\":{\"color\":\"#2a3f5f\"},\"geo\":{\"bgcolor\":\"white\",\"lakecolor\":\"white\",\"landcolor\":\"#E5ECF6\",\"showlakes\":true,\"showland\":true,\"subunitcolor\":\"white\"},\"hoverlabel\":{\"align\":\"left\"},\"hovermode\":\"closest\",\"mapbox\":{\"style\":\"light\"},\"paper_bgcolor\":\"white\",\"plot_bgcolor\":\"#E5ECF6\",\"polar\":{\"angularaxis\":{\"gridcolor\":\"white\",\"linecolor\":\"white\",\"ticks\":\"\"},\"bgcolor\":\"#E5ECF6\",\"radialaxis\":{\"gridcolor\":\"white\",\"linecolor\":\"white\",\"ticks\":\"\"}},\"scene\":{\"xaxis\":{\"backgroundcolor\":\"#E5ECF6\",\"gridcolor\":\"white\",\"gridwidth\":2,\"linecolor\":\"white\",\"showbackground\":true,\"ticks\":\"\",\"zerolinecolor\":\"white\"},\"yaxis\":{\"backgroundcolor\":\"#E5ECF6\",\"gridcolor\":\"white\",\"gridwidth\":2,\"linecolor\":\"white\",\"showbackground\":true,\"ticks\":\"\",\"zerolinecolor\":\"white\"},\"zaxis\":{\"backgroundcolor\":\"#E5ECF6\",\"gridcolor\":\"white\",\"gridwidth\":2,\"linecolor\":\"white\",\"showbackground\":true,\"ticks\":\"\",\"zerolinecolor\":\"white\"}},\"shapedefaults\":{\"line\":{\"color\":\"#2a3f5f\"}},\"ternary\":{\"aaxis\":{\"gridcolor\":\"white\",\"linecolor\":\"white\",\"ticks\":\"\"},\"baxis\":{\"gridcolor\":\"white\",\"linecolor\":\"white\",\"ticks\":\"\"},\"bgcolor\":\"#E5ECF6\",\"caxis\":{\"gridcolor\":\"white\",\"linecolor\":\"white\",\"ticks\":\"\"}},\"title\":{\"x\":0.05},\"xaxis\":{\"automargin\":true,\"gridcolor\":\"white\",\"linecolor\":\"white\",\"ticks\":\"\",\"title\":{\"standoff\":15},\"zerolinecolor\":\"white\",\"zerolinewidth\":2},\"yaxis\":{\"automargin\":true,\"gridcolor\":\"white\",\"linecolor\":\"white\",\"ticks\":\"\",\"title\":{\"standoff\":15},\"zerolinecolor\":\"white\",\"zerolinewidth\":2}}},\"title\":{\"text\":\"df2 and df1 plot\"},\"width\":600,\"xaxis\":{\"anchor\":\"y\",\"domain\":[0.0,1.0],\"tickangle\":-45},\"yaxis\":{\"anchor\":\"x\",\"domain\":[0.0,1.0]}},                        {\"responsive\": true}                    ).then(function(){\n",
       "                            \n",
       "var gd = document.getElementById('059702aa-6826-45ed-8887-4bf4c512d2b8');\n",
       "var x = new MutationObserver(function (mutations, observer) {{\n",
       "        var display = window.getComputedStyle(gd).display;\n",
       "        if (!display || display === 'none') {{\n",
       "            console.log([gd, 'removed!']);\n",
       "            Plotly.purge(gd);\n",
       "            observer.disconnect();\n",
       "        }}\n",
       "}});\n",
       "\n",
       "// Listen for the removal of the full notebook cells\n",
       "var notebookContainer = gd.closest('#notebook-container');\n",
       "if (notebookContainer) {{\n",
       "    x.observe(notebookContainer, {childList: true});\n",
       "}}\n",
       "\n",
       "// Listen for the clearing of the current output cell\n",
       "var outputEl = gd.closest('.output');\n",
       "if (outputEl) {{\n",
       "    x.observe(outputEl, {childList: true});\n",
       "}}\n",
       "\n",
       "                        })                };                });            </script>        </div>"
      ]
     },
     "metadata": {},
     "output_type": "display_data"
    }
   ],
   "source": [
    "import numpy as np\n",
    "import pandas as pd\n",
    "import plotly.offline as py\n",
    "import plotly.graph_objs as go\n",
    "from plotly import tools\n",
    "\n",
    "df1 = pd.DataFrame({\"X\":np.linspace(0,30,10), \"Y\":np.random.rand(10)})\n",
    "df2 = pd.DataFrame({\"A\":np.linspace(0,40,10), \"B\":np.random.rand(10)})\n",
    "\n",
    "# plotting the graphs...\n",
    "\n",
    "# 'rgb(128, 0, 128)'\n",
    "# color=sns.color_palette()\n",
    "def scatter_chart(x, y, color, name):\n",
    "\n",
    "    trace = go.Scatter(\n",
    "             x=x.values,\n",
    "             y=y.values,\n",
    "             name=name,\n",
    "   \n",
    "             marker=dict(\n",
    "                    color=color,\n",
    "                    line=dict(\n",
    "                    color=color,\n",
    "                    width=1)\n",
    "                  ),\n",
    "              )\n",
    "    return trace\n",
    "trace1 = scatter_chart(df2[\"A\"], df2[\"B\"], 'rgb(128, 0, 128)', \"df2\")\n",
    "trace2 = scatter_chart(df1[\"X\"], df1[\"Y\"], 'rgba(50, 171, 96, 0.6)', \"df1\")\n",
    "fig = tools.make_subplots(rows=1,cols=1, vertical_spacing=0.5)\n",
    "fig.add_trace(trace1)\n",
    "fig.add_trace(trace2)\n",
    "\n",
    "fig.update_layout(\n",
    "title=\"df2 and df1 plot\",\n",
    "height=600, \n",
    "width=600, \n",
    "# annotations=annotations, \n",
    "xaxis=dict(tickangle=-45),\n",
    "legend=dict(x=0.029, y=1.038, font_size=10),\n",
    "margin=dict(l=100, r=20, t=70, b=70),\n",
    "paper_bgcolor='rgb(248, 248, 255)',\n",
    "plot_bgcolor='rgb(248, 248, 255)',)\n",
    "py.iplot(fig, filename='pageviews_plots_4')"
   ]
  },
  {
   "cell_type": "code",
   "execution_count": 54,
   "id": "743d46c7",
   "metadata": {},
   "outputs": [
    {
     "data": {
      "application/vnd.plotly.v1+json": {
       "config": {
        "plotlyServerURL": "https://plot.ly"
       },
       "data": [
        {
         "name": "Data 1",
         "type": "bar",
         "x": [
          "A",
          "B",
          "C",
          "D"
         ],
         "y": [
          100,
          200,
          500,
          673
         ]
        },
        {
         "name": "Data 2",
         "type": "bar",
         "x": [
          "A",
          "B",
          "C",
          "D"
         ],
         "y": [
          56,
          123,
          982,
          213
         ]
        }
       ],
       "layout": {
        "template": {
         "data": {
          "bar": [
           {
            "error_x": {
             "color": "#2a3f5f"
            },
            "error_y": {
             "color": "#2a3f5f"
            },
            "marker": {
             "line": {
              "color": "#E5ECF6",
              "width": 0.5
             },
             "pattern": {
              "fillmode": "overlay",
              "size": 10,
              "solidity": 0.2
             }
            },
            "type": "bar"
           }
          ],
          "barpolar": [
           {
            "marker": {
             "line": {
              "color": "#E5ECF6",
              "width": 0.5
             },
             "pattern": {
              "fillmode": "overlay",
              "size": 10,
              "solidity": 0.2
             }
            },
            "type": "barpolar"
           }
          ],
          "carpet": [
           {
            "aaxis": {
             "endlinecolor": "#2a3f5f",
             "gridcolor": "white",
             "linecolor": "white",
             "minorgridcolor": "white",
             "startlinecolor": "#2a3f5f"
            },
            "baxis": {
             "endlinecolor": "#2a3f5f",
             "gridcolor": "white",
             "linecolor": "white",
             "minorgridcolor": "white",
             "startlinecolor": "#2a3f5f"
            },
            "type": "carpet"
           }
          ],
          "choropleth": [
           {
            "colorbar": {
             "outlinewidth": 0,
             "ticks": ""
            },
            "type": "choropleth"
           }
          ],
          "contour": [
           {
            "colorbar": {
             "outlinewidth": 0,
             "ticks": ""
            },
            "colorscale": [
             [
              0,
              "#0d0887"
             ],
             [
              0.1111111111111111,
              "#46039f"
             ],
             [
              0.2222222222222222,
              "#7201a8"
             ],
             [
              0.3333333333333333,
              "#9c179e"
             ],
             [
              0.4444444444444444,
              "#bd3786"
             ],
             [
              0.5555555555555556,
              "#d8576b"
             ],
             [
              0.6666666666666666,
              "#ed7953"
             ],
             [
              0.7777777777777778,
              "#fb9f3a"
             ],
             [
              0.8888888888888888,
              "#fdca26"
             ],
             [
              1,
              "#f0f921"
             ]
            ],
            "type": "contour"
           }
          ],
          "contourcarpet": [
           {
            "colorbar": {
             "outlinewidth": 0,
             "ticks": ""
            },
            "type": "contourcarpet"
           }
          ],
          "heatmap": [
           {
            "colorbar": {
             "outlinewidth": 0,
             "ticks": ""
            },
            "colorscale": [
             [
              0,
              "#0d0887"
             ],
             [
              0.1111111111111111,
              "#46039f"
             ],
             [
              0.2222222222222222,
              "#7201a8"
             ],
             [
              0.3333333333333333,
              "#9c179e"
             ],
             [
              0.4444444444444444,
              "#bd3786"
             ],
             [
              0.5555555555555556,
              "#d8576b"
             ],
             [
              0.6666666666666666,
              "#ed7953"
             ],
             [
              0.7777777777777778,
              "#fb9f3a"
             ],
             [
              0.8888888888888888,
              "#fdca26"
             ],
             [
              1,
              "#f0f921"
             ]
            ],
            "type": "heatmap"
           }
          ],
          "heatmapgl": [
           {
            "colorbar": {
             "outlinewidth": 0,
             "ticks": ""
            },
            "colorscale": [
             [
              0,
              "#0d0887"
             ],
             [
              0.1111111111111111,
              "#46039f"
             ],
             [
              0.2222222222222222,
              "#7201a8"
             ],
             [
              0.3333333333333333,
              "#9c179e"
             ],
             [
              0.4444444444444444,
              "#bd3786"
             ],
             [
              0.5555555555555556,
              "#d8576b"
             ],
             [
              0.6666666666666666,
              "#ed7953"
             ],
             [
              0.7777777777777778,
              "#fb9f3a"
             ],
             [
              0.8888888888888888,
              "#fdca26"
             ],
             [
              1,
              "#f0f921"
             ]
            ],
            "type": "heatmapgl"
           }
          ],
          "histogram": [
           {
            "marker": {
             "pattern": {
              "fillmode": "overlay",
              "size": 10,
              "solidity": 0.2
             }
            },
            "type": "histogram"
           }
          ],
          "histogram2d": [
           {
            "colorbar": {
             "outlinewidth": 0,
             "ticks": ""
            },
            "colorscale": [
             [
              0,
              "#0d0887"
             ],
             [
              0.1111111111111111,
              "#46039f"
             ],
             [
              0.2222222222222222,
              "#7201a8"
             ],
             [
              0.3333333333333333,
              "#9c179e"
             ],
             [
              0.4444444444444444,
              "#bd3786"
             ],
             [
              0.5555555555555556,
              "#d8576b"
             ],
             [
              0.6666666666666666,
              "#ed7953"
             ],
             [
              0.7777777777777778,
              "#fb9f3a"
             ],
             [
              0.8888888888888888,
              "#fdca26"
             ],
             [
              1,
              "#f0f921"
             ]
            ],
            "type": "histogram2d"
           }
          ],
          "histogram2dcontour": [
           {
            "colorbar": {
             "outlinewidth": 0,
             "ticks": ""
            },
            "colorscale": [
             [
              0,
              "#0d0887"
             ],
             [
              0.1111111111111111,
              "#46039f"
             ],
             [
              0.2222222222222222,
              "#7201a8"
             ],
             [
              0.3333333333333333,
              "#9c179e"
             ],
             [
              0.4444444444444444,
              "#bd3786"
             ],
             [
              0.5555555555555556,
              "#d8576b"
             ],
             [
              0.6666666666666666,
              "#ed7953"
             ],
             [
              0.7777777777777778,
              "#fb9f3a"
             ],
             [
              0.8888888888888888,
              "#fdca26"
             ],
             [
              1,
              "#f0f921"
             ]
            ],
            "type": "histogram2dcontour"
           }
          ],
          "mesh3d": [
           {
            "colorbar": {
             "outlinewidth": 0,
             "ticks": ""
            },
            "type": "mesh3d"
           }
          ],
          "parcoords": [
           {
            "line": {
             "colorbar": {
              "outlinewidth": 0,
              "ticks": ""
             }
            },
            "type": "parcoords"
           }
          ],
          "pie": [
           {
            "automargin": true,
            "type": "pie"
           }
          ],
          "scatter": [
           {
            "fillpattern": {
             "fillmode": "overlay",
             "size": 10,
             "solidity": 0.2
            },
            "type": "scatter"
           }
          ],
          "scatter3d": [
           {
            "line": {
             "colorbar": {
              "outlinewidth": 0,
              "ticks": ""
             }
            },
            "marker": {
             "colorbar": {
              "outlinewidth": 0,
              "ticks": ""
             }
            },
            "type": "scatter3d"
           }
          ],
          "scattercarpet": [
           {
            "marker": {
             "colorbar": {
              "outlinewidth": 0,
              "ticks": ""
             }
            },
            "type": "scattercarpet"
           }
          ],
          "scattergeo": [
           {
            "marker": {
             "colorbar": {
              "outlinewidth": 0,
              "ticks": ""
             }
            },
            "type": "scattergeo"
           }
          ],
          "scattergl": [
           {
            "marker": {
             "colorbar": {
              "outlinewidth": 0,
              "ticks": ""
             }
            },
            "type": "scattergl"
           }
          ],
          "scattermapbox": [
           {
            "marker": {
             "colorbar": {
              "outlinewidth": 0,
              "ticks": ""
             }
            },
            "type": "scattermapbox"
           }
          ],
          "scatterpolar": [
           {
            "marker": {
             "colorbar": {
              "outlinewidth": 0,
              "ticks": ""
             }
            },
            "type": "scatterpolar"
           }
          ],
          "scatterpolargl": [
           {
            "marker": {
             "colorbar": {
              "outlinewidth": 0,
              "ticks": ""
             }
            },
            "type": "scatterpolargl"
           }
          ],
          "scatterternary": [
           {
            "marker": {
             "colorbar": {
              "outlinewidth": 0,
              "ticks": ""
             }
            },
            "type": "scatterternary"
           }
          ],
          "surface": [
           {
            "colorbar": {
             "outlinewidth": 0,
             "ticks": ""
            },
            "colorscale": [
             [
              0,
              "#0d0887"
             ],
             [
              0.1111111111111111,
              "#46039f"
             ],
             [
              0.2222222222222222,
              "#7201a8"
             ],
             [
              0.3333333333333333,
              "#9c179e"
             ],
             [
              0.4444444444444444,
              "#bd3786"
             ],
             [
              0.5555555555555556,
              "#d8576b"
             ],
             [
              0.6666666666666666,
              "#ed7953"
             ],
             [
              0.7777777777777778,
              "#fb9f3a"
             ],
             [
              0.8888888888888888,
              "#fdca26"
             ],
             [
              1,
              "#f0f921"
             ]
            ],
            "type": "surface"
           }
          ],
          "table": [
           {
            "cells": {
             "fill": {
              "color": "#EBF0F8"
             },
             "line": {
              "color": "white"
             }
            },
            "header": {
             "fill": {
              "color": "#C8D4E3"
             },
             "line": {
              "color": "white"
             }
            },
            "type": "table"
           }
          ]
         },
         "layout": {
          "annotationdefaults": {
           "arrowcolor": "#2a3f5f",
           "arrowhead": 0,
           "arrowwidth": 1
          },
          "autotypenumbers": "strict",
          "coloraxis": {
           "colorbar": {
            "outlinewidth": 0,
            "ticks": ""
           }
          },
          "colorscale": {
           "diverging": [
            [
             0,
             "#8e0152"
            ],
            [
             0.1,
             "#c51b7d"
            ],
            [
             0.2,
             "#de77ae"
            ],
            [
             0.3,
             "#f1b6da"
            ],
            [
             0.4,
             "#fde0ef"
            ],
            [
             0.5,
             "#f7f7f7"
            ],
            [
             0.6,
             "#e6f5d0"
            ],
            [
             0.7,
             "#b8e186"
            ],
            [
             0.8,
             "#7fbc41"
            ],
            [
             0.9,
             "#4d9221"
            ],
            [
             1,
             "#276419"
            ]
           ],
           "sequential": [
            [
             0,
             "#0d0887"
            ],
            [
             0.1111111111111111,
             "#46039f"
            ],
            [
             0.2222222222222222,
             "#7201a8"
            ],
            [
             0.3333333333333333,
             "#9c179e"
            ],
            [
             0.4444444444444444,
             "#bd3786"
            ],
            [
             0.5555555555555556,
             "#d8576b"
            ],
            [
             0.6666666666666666,
             "#ed7953"
            ],
            [
             0.7777777777777778,
             "#fb9f3a"
            ],
            [
             0.8888888888888888,
             "#fdca26"
            ],
            [
             1,
             "#f0f921"
            ]
           ],
           "sequentialminus": [
            [
             0,
             "#0d0887"
            ],
            [
             0.1111111111111111,
             "#46039f"
            ],
            [
             0.2222222222222222,
             "#7201a8"
            ],
            [
             0.3333333333333333,
             "#9c179e"
            ],
            [
             0.4444444444444444,
             "#bd3786"
            ],
            [
             0.5555555555555556,
             "#d8576b"
            ],
            [
             0.6666666666666666,
             "#ed7953"
            ],
            [
             0.7777777777777778,
             "#fb9f3a"
            ],
            [
             0.8888888888888888,
             "#fdca26"
            ],
            [
             1,
             "#f0f921"
            ]
           ]
          },
          "colorway": [
           "#636efa",
           "#EF553B",
           "#00cc96",
           "#ab63fa",
           "#FFA15A",
           "#19d3f3",
           "#FF6692",
           "#B6E880",
           "#FF97FF",
           "#FECB52"
          ],
          "font": {
           "color": "#2a3f5f"
          },
          "geo": {
           "bgcolor": "white",
           "lakecolor": "white",
           "landcolor": "#E5ECF6",
           "showlakes": true,
           "showland": true,
           "subunitcolor": "white"
          },
          "hoverlabel": {
           "align": "left"
          },
          "hovermode": "closest",
          "mapbox": {
           "style": "light"
          },
          "paper_bgcolor": "white",
          "plot_bgcolor": "#E5ECF6",
          "polar": {
           "angularaxis": {
            "gridcolor": "white",
            "linecolor": "white",
            "ticks": ""
           },
           "bgcolor": "#E5ECF6",
           "radialaxis": {
            "gridcolor": "white",
            "linecolor": "white",
            "ticks": ""
           }
          },
          "scene": {
           "xaxis": {
            "backgroundcolor": "#E5ECF6",
            "gridcolor": "white",
            "gridwidth": 2,
            "linecolor": "white",
            "showbackground": true,
            "ticks": "",
            "zerolinecolor": "white"
           },
           "yaxis": {
            "backgroundcolor": "#E5ECF6",
            "gridcolor": "white",
            "gridwidth": 2,
            "linecolor": "white",
            "showbackground": true,
            "ticks": "",
            "zerolinecolor": "white"
           },
           "zaxis": {
            "backgroundcolor": "#E5ECF6",
            "gridcolor": "white",
            "gridwidth": 2,
            "linecolor": "white",
            "showbackground": true,
            "ticks": "",
            "zerolinecolor": "white"
           }
          },
          "shapedefaults": {
           "line": {
            "color": "#2a3f5f"
           }
          },
          "ternary": {
           "aaxis": {
            "gridcolor": "white",
            "linecolor": "white",
            "ticks": ""
           },
           "baxis": {
            "gridcolor": "white",
            "linecolor": "white",
            "ticks": ""
           },
           "bgcolor": "#E5ECF6",
           "caxis": {
            "gridcolor": "white",
            "linecolor": "white",
            "ticks": ""
           }
          },
          "title": {
           "x": 0.05
          },
          "xaxis": {
           "automargin": true,
           "gridcolor": "white",
           "linecolor": "white",
           "ticks": "",
           "title": {
            "standoff": 15
           },
           "zerolinecolor": "white",
           "zerolinewidth": 2
          },
          "yaxis": {
           "automargin": true,
           "gridcolor": "white",
           "linecolor": "white",
           "ticks": "",
           "title": {
            "standoff": 15
           },
           "zerolinecolor": "white",
           "zerolinewidth": 2
          }
         }
        },
        "updatemenus": [
         {
          "buttons": [
           {
            "args": [
             {
              "visible": [
               true,
               true
              ]
             },
             {
              "title": "Both"
             }
            ],
            "label": "Both",
            "method": "update"
           },
           {
            "args": [
             {
              "visible": [
               true,
               false
              ]
             },
             {
              "title": "Data 1"
             }
            ],
            "label": "Data 1",
            "method": "update"
           },
           {
            "args": [
             {
              "visible": [
               false,
               true
              ]
             },
             {
              "title": "Data 2"
             }
            ],
            "label": "Data 2",
            "method": "update"
           }
          ],
          "direction": "left",
          "type": "buttons"
         }
        ]
       }
      },
      "text/html": [
       "<div>                            <div id=\"013f8bbe-7759-4d2b-9508-2a0bcc71fad7\" class=\"plotly-graph-div\" style=\"height:525px; width:100%;\"></div>            <script type=\"text/javascript\">                require([\"plotly\"], function(Plotly) {                    window.PLOTLYENV=window.PLOTLYENV || {};                                    if (document.getElementById(\"013f8bbe-7759-4d2b-9508-2a0bcc71fad7\")) {                    Plotly.newPlot(                        \"013f8bbe-7759-4d2b-9508-2a0bcc71fad7\",                        [{\"name\":\"Data 1\",\"x\":[\"A\",\"B\",\"C\",\"D\"],\"y\":[100,200,500,673],\"type\":\"bar\"},{\"name\":\"Data 2\",\"x\":[\"A\",\"B\",\"C\",\"D\"],\"y\":[56,123,982,213],\"type\":\"bar\"}],                        {\"template\":{\"data\":{\"histogram2dcontour\":[{\"type\":\"histogram2dcontour\",\"colorbar\":{\"outlinewidth\":0,\"ticks\":\"\"},\"colorscale\":[[0.0,\"#0d0887\"],[0.1111111111111111,\"#46039f\"],[0.2222222222222222,\"#7201a8\"],[0.3333333333333333,\"#9c179e\"],[0.4444444444444444,\"#bd3786\"],[0.5555555555555556,\"#d8576b\"],[0.6666666666666666,\"#ed7953\"],[0.7777777777777778,\"#fb9f3a\"],[0.8888888888888888,\"#fdca26\"],[1.0,\"#f0f921\"]]}],\"choropleth\":[{\"type\":\"choropleth\",\"colorbar\":{\"outlinewidth\":0,\"ticks\":\"\"}}],\"histogram2d\":[{\"type\":\"histogram2d\",\"colorbar\":{\"outlinewidth\":0,\"ticks\":\"\"},\"colorscale\":[[0.0,\"#0d0887\"],[0.1111111111111111,\"#46039f\"],[0.2222222222222222,\"#7201a8\"],[0.3333333333333333,\"#9c179e\"],[0.4444444444444444,\"#bd3786\"],[0.5555555555555556,\"#d8576b\"],[0.6666666666666666,\"#ed7953\"],[0.7777777777777778,\"#fb9f3a\"],[0.8888888888888888,\"#fdca26\"],[1.0,\"#f0f921\"]]}],\"heatmap\":[{\"type\":\"heatmap\",\"colorbar\":{\"outlinewidth\":0,\"ticks\":\"\"},\"colorscale\":[[0.0,\"#0d0887\"],[0.1111111111111111,\"#46039f\"],[0.2222222222222222,\"#7201a8\"],[0.3333333333333333,\"#9c179e\"],[0.4444444444444444,\"#bd3786\"],[0.5555555555555556,\"#d8576b\"],[0.6666666666666666,\"#ed7953\"],[0.7777777777777778,\"#fb9f3a\"],[0.8888888888888888,\"#fdca26\"],[1.0,\"#f0f921\"]]}],\"heatmapgl\":[{\"type\":\"heatmapgl\",\"colorbar\":{\"outlinewidth\":0,\"ticks\":\"\"},\"colorscale\":[[0.0,\"#0d0887\"],[0.1111111111111111,\"#46039f\"],[0.2222222222222222,\"#7201a8\"],[0.3333333333333333,\"#9c179e\"],[0.4444444444444444,\"#bd3786\"],[0.5555555555555556,\"#d8576b\"],[0.6666666666666666,\"#ed7953\"],[0.7777777777777778,\"#fb9f3a\"],[0.8888888888888888,\"#fdca26\"],[1.0,\"#f0f921\"]]}],\"contourcarpet\":[{\"type\":\"contourcarpet\",\"colorbar\":{\"outlinewidth\":0,\"ticks\":\"\"}}],\"contour\":[{\"type\":\"contour\",\"colorbar\":{\"outlinewidth\":0,\"ticks\":\"\"},\"colorscale\":[[0.0,\"#0d0887\"],[0.1111111111111111,\"#46039f\"],[0.2222222222222222,\"#7201a8\"],[0.3333333333333333,\"#9c179e\"],[0.4444444444444444,\"#bd3786\"],[0.5555555555555556,\"#d8576b\"],[0.6666666666666666,\"#ed7953\"],[0.7777777777777778,\"#fb9f3a\"],[0.8888888888888888,\"#fdca26\"],[1.0,\"#f0f921\"]]}],\"surface\":[{\"type\":\"surface\",\"colorbar\":{\"outlinewidth\":0,\"ticks\":\"\"},\"colorscale\":[[0.0,\"#0d0887\"],[0.1111111111111111,\"#46039f\"],[0.2222222222222222,\"#7201a8\"],[0.3333333333333333,\"#9c179e\"],[0.4444444444444444,\"#bd3786\"],[0.5555555555555556,\"#d8576b\"],[0.6666666666666666,\"#ed7953\"],[0.7777777777777778,\"#fb9f3a\"],[0.8888888888888888,\"#fdca26\"],[1.0,\"#f0f921\"]]}],\"mesh3d\":[{\"type\":\"mesh3d\",\"colorbar\":{\"outlinewidth\":0,\"ticks\":\"\"}}],\"scatter\":[{\"fillpattern\":{\"fillmode\":\"overlay\",\"size\":10,\"solidity\":0.2},\"type\":\"scatter\"}],\"parcoords\":[{\"type\":\"parcoords\",\"line\":{\"colorbar\":{\"outlinewidth\":0,\"ticks\":\"\"}}}],\"scatterpolargl\":[{\"type\":\"scatterpolargl\",\"marker\":{\"colorbar\":{\"outlinewidth\":0,\"ticks\":\"\"}}}],\"bar\":[{\"error_x\":{\"color\":\"#2a3f5f\"},\"error_y\":{\"color\":\"#2a3f5f\"},\"marker\":{\"line\":{\"color\":\"#E5ECF6\",\"width\":0.5},\"pattern\":{\"fillmode\":\"overlay\",\"size\":10,\"solidity\":0.2}},\"type\":\"bar\"}],\"scattergeo\":[{\"type\":\"scattergeo\",\"marker\":{\"colorbar\":{\"outlinewidth\":0,\"ticks\":\"\"}}}],\"scatterpolar\":[{\"type\":\"scatterpolar\",\"marker\":{\"colorbar\":{\"outlinewidth\":0,\"ticks\":\"\"}}}],\"histogram\":[{\"marker\":{\"pattern\":{\"fillmode\":\"overlay\",\"size\":10,\"solidity\":0.2}},\"type\":\"histogram\"}],\"scattergl\":[{\"type\":\"scattergl\",\"marker\":{\"colorbar\":{\"outlinewidth\":0,\"ticks\":\"\"}}}],\"scatter3d\":[{\"type\":\"scatter3d\",\"line\":{\"colorbar\":{\"outlinewidth\":0,\"ticks\":\"\"}},\"marker\":{\"colorbar\":{\"outlinewidth\":0,\"ticks\":\"\"}}}],\"scattermapbox\":[{\"type\":\"scattermapbox\",\"marker\":{\"colorbar\":{\"outlinewidth\":0,\"ticks\":\"\"}}}],\"scatterternary\":[{\"type\":\"scatterternary\",\"marker\":{\"colorbar\":{\"outlinewidth\":0,\"ticks\":\"\"}}}],\"scattercarpet\":[{\"type\":\"scattercarpet\",\"marker\":{\"colorbar\":{\"outlinewidth\":0,\"ticks\":\"\"}}}],\"carpet\":[{\"aaxis\":{\"endlinecolor\":\"#2a3f5f\",\"gridcolor\":\"white\",\"linecolor\":\"white\",\"minorgridcolor\":\"white\",\"startlinecolor\":\"#2a3f5f\"},\"baxis\":{\"endlinecolor\":\"#2a3f5f\",\"gridcolor\":\"white\",\"linecolor\":\"white\",\"minorgridcolor\":\"white\",\"startlinecolor\":\"#2a3f5f\"},\"type\":\"carpet\"}],\"table\":[{\"cells\":{\"fill\":{\"color\":\"#EBF0F8\"},\"line\":{\"color\":\"white\"}},\"header\":{\"fill\":{\"color\":\"#C8D4E3\"},\"line\":{\"color\":\"white\"}},\"type\":\"table\"}],\"barpolar\":[{\"marker\":{\"line\":{\"color\":\"#E5ECF6\",\"width\":0.5},\"pattern\":{\"fillmode\":\"overlay\",\"size\":10,\"solidity\":0.2}},\"type\":\"barpolar\"}],\"pie\":[{\"automargin\":true,\"type\":\"pie\"}]},\"layout\":{\"autotypenumbers\":\"strict\",\"colorway\":[\"#636efa\",\"#EF553B\",\"#00cc96\",\"#ab63fa\",\"#FFA15A\",\"#19d3f3\",\"#FF6692\",\"#B6E880\",\"#FF97FF\",\"#FECB52\"],\"font\":{\"color\":\"#2a3f5f\"},\"hovermode\":\"closest\",\"hoverlabel\":{\"align\":\"left\"},\"paper_bgcolor\":\"white\",\"plot_bgcolor\":\"#E5ECF6\",\"polar\":{\"bgcolor\":\"#E5ECF6\",\"angularaxis\":{\"gridcolor\":\"white\",\"linecolor\":\"white\",\"ticks\":\"\"},\"radialaxis\":{\"gridcolor\":\"white\",\"linecolor\":\"white\",\"ticks\":\"\"}},\"ternary\":{\"bgcolor\":\"#E5ECF6\",\"aaxis\":{\"gridcolor\":\"white\",\"linecolor\":\"white\",\"ticks\":\"\"},\"baxis\":{\"gridcolor\":\"white\",\"linecolor\":\"white\",\"ticks\":\"\"},\"caxis\":{\"gridcolor\":\"white\",\"linecolor\":\"white\",\"ticks\":\"\"}},\"coloraxis\":{\"colorbar\":{\"outlinewidth\":0,\"ticks\":\"\"}},\"colorscale\":{\"sequential\":[[0.0,\"#0d0887\"],[0.1111111111111111,\"#46039f\"],[0.2222222222222222,\"#7201a8\"],[0.3333333333333333,\"#9c179e\"],[0.4444444444444444,\"#bd3786\"],[0.5555555555555556,\"#d8576b\"],[0.6666666666666666,\"#ed7953\"],[0.7777777777777778,\"#fb9f3a\"],[0.8888888888888888,\"#fdca26\"],[1.0,\"#f0f921\"]],\"sequentialminus\":[[0.0,\"#0d0887\"],[0.1111111111111111,\"#46039f\"],[0.2222222222222222,\"#7201a8\"],[0.3333333333333333,\"#9c179e\"],[0.4444444444444444,\"#bd3786\"],[0.5555555555555556,\"#d8576b\"],[0.6666666666666666,\"#ed7953\"],[0.7777777777777778,\"#fb9f3a\"],[0.8888888888888888,\"#fdca26\"],[1.0,\"#f0f921\"]],\"diverging\":[[0,\"#8e0152\"],[0.1,\"#c51b7d\"],[0.2,\"#de77ae\"],[0.3,\"#f1b6da\"],[0.4,\"#fde0ef\"],[0.5,\"#f7f7f7\"],[0.6,\"#e6f5d0\"],[0.7,\"#b8e186\"],[0.8,\"#7fbc41\"],[0.9,\"#4d9221\"],[1,\"#276419\"]]},\"xaxis\":{\"gridcolor\":\"white\",\"linecolor\":\"white\",\"ticks\":\"\",\"title\":{\"standoff\":15},\"zerolinecolor\":\"white\",\"automargin\":true,\"zerolinewidth\":2},\"yaxis\":{\"gridcolor\":\"white\",\"linecolor\":\"white\",\"ticks\":\"\",\"title\":{\"standoff\":15},\"zerolinecolor\":\"white\",\"automargin\":true,\"zerolinewidth\":2},\"scene\":{\"xaxis\":{\"backgroundcolor\":\"#E5ECF6\",\"gridcolor\":\"white\",\"linecolor\":\"white\",\"showbackground\":true,\"ticks\":\"\",\"zerolinecolor\":\"white\",\"gridwidth\":2},\"yaxis\":{\"backgroundcolor\":\"#E5ECF6\",\"gridcolor\":\"white\",\"linecolor\":\"white\",\"showbackground\":true,\"ticks\":\"\",\"zerolinecolor\":\"white\",\"gridwidth\":2},\"zaxis\":{\"backgroundcolor\":\"#E5ECF6\",\"gridcolor\":\"white\",\"linecolor\":\"white\",\"showbackground\":true,\"ticks\":\"\",\"zerolinecolor\":\"white\",\"gridwidth\":2}},\"shapedefaults\":{\"line\":{\"color\":\"#2a3f5f\"}},\"annotationdefaults\":{\"arrowcolor\":\"#2a3f5f\",\"arrowhead\":0,\"arrowwidth\":1},\"geo\":{\"bgcolor\":\"white\",\"landcolor\":\"#E5ECF6\",\"subunitcolor\":\"white\",\"showland\":true,\"showlakes\":true,\"lakecolor\":\"white\"},\"title\":{\"x\":0.05},\"mapbox\":{\"style\":\"light\"}}},\"updatemenus\":[{\"buttons\":[{\"args\":[{\"visible\":[true,true]},{\"title\":\"Both\"}],\"label\":\"Both\",\"method\":\"update\"},{\"args\":[{\"visible\":[true,false]},{\"title\":\"Data 1\"}],\"label\":\"Data 1\",\"method\":\"update\"},{\"args\":[{\"visible\":[false,true]},{\"title\":\"Data 2\"}],\"label\":\"Data 2\",\"method\":\"update\"}],\"direction\":\"left\",\"type\":\"buttons\"}]},                        {\"responsive\": true}                    ).then(function(){\n",
       "                            \n",
       "var gd = document.getElementById('013f8bbe-7759-4d2b-9508-2a0bcc71fad7');\n",
       "var x = new MutationObserver(function (mutations, observer) {{\n",
       "        var display = window.getComputedStyle(gd).display;\n",
       "        if (!display || display === 'none') {{\n",
       "            console.log([gd, 'removed!']);\n",
       "            Plotly.purge(gd);\n",
       "            observer.disconnect();\n",
       "        }}\n",
       "}});\n",
       "\n",
       "// Listen for the removal of the full notebook cells\n",
       "var notebookContainer = gd.closest('#notebook-container');\n",
       "if (notebookContainer) {{\n",
       "    x.observe(notebookContainer, {childList: true});\n",
       "}}\n",
       "\n",
       "// Listen for the clearing of the current output cell\n",
       "var outputEl = gd.closest('.output');\n",
       "if (outputEl) {{\n",
       "    x.observe(outputEl, {childList: true});\n",
       "}}\n",
       "\n",
       "                        })                };                });            </script>        </div>"
      ]
     },
     "metadata": {},
     "output_type": "display_data"
    }
   ],
   "source": [
    "import plotly.graph_objects as px\n",
    "import numpy\n",
    "  \n",
    "  \n",
    "# creating random data through randomint\n",
    "# function of numpy.random\n",
    "np.random.seed(42)\n",
    "  \n",
    "random_x = np.random.randint(1, 101, 100)\n",
    "random_y = np.random.randint(1, 101, 100)\n",
    "  \n",
    "x = ['A', 'B', 'C', 'D']\n",
    "  \n",
    "plot = px.Figure(data=[go.Bar(\n",
    "    name='Data 1',\n",
    "    x=x,\n",
    "    y=[100, 200, 500, 673]\n",
    "),\n",
    "    go.Bar(\n",
    "    name='Data 2',\n",
    "    x=x,\n",
    "    y=[56, 123, 982, 213]\n",
    ")\n",
    "])\n",
    "  \n",
    "  \n",
    "# Add dropdown\n",
    "plot.update_layout(\n",
    "    updatemenus=[\n",
    "        dict(\n",
    "            type=\"buttons\",\n",
    "            direction=\"left\",\n",
    "            buttons=list([\n",
    "                dict(label=\"Both\",\n",
    "                     method=\"update\",\n",
    "                     args=[{\"visible\": [True, True]},\n",
    "                           {\"title\": \"Both\"}]),\n",
    "                dict(label=\"Data 1\",\n",
    "                     method=\"update\",\n",
    "                     args=[{\"visible\": [True, False]},\n",
    "                           {\"title\": \"Data 1\",\n",
    "                            }]),\n",
    "                dict(label=\"Data 2\",\n",
    "                     method=\"update\",\n",
    "                     args=[{\"visible\": [False, True]},\n",
    "                           {\"title\": \"Data 2\",\n",
    "                            }]),\n",
    "            ]),\n",
    "        )\n",
    "    ])\n",
    "  \n",
    "plot.show()"
   ]
  },
  {
   "cell_type": "code",
   "execution_count": 50,
   "id": "6d8271a9",
   "metadata": {},
   "outputs": [],
   "source": [
    "# stats.pointbiserialr(x, y)\n",
    "# PointbiserialrResult(correlation=0.21816, pvalue=0.51928)\n",
    "\n",
    "# test still missing\n",
    "\n",
    "def abortion_sex():\n",
    "    \"\"\"\n",
    "    Check for correlation between sex and response to abortion by counting responses\n",
    "    of males and females and plotting the percentage\n",
    "    \"\"\"\n",
    "    \n",
    "    print(\"\\n\" + '\\033[1m' + 'Hypothesis 1: Is there any relation between the response concerning abortion and sex?' + '\\033[0m')\n",
    "    \n",
    "    # choosing relevant columns\n",
    "    abortion_df = tidy_abortion_df()\n",
    "    abse_df = abortion_df[[\"sex\", \"response to abortion\"]]\n",
    "        \n",
    "    # group_by\n",
    "    abse_group_df = abse_df.groupby([\"sex\",\"response to abortion\"]).value_counts().reset_index()\n",
    "    abse_group_df = abse_group_df.rename(columns = {0:\"counts\"})\n",
    "    \n",
    "    # get counts of how many males and how many females \n",
    "    quantity = abse_df[\"sex\"].value_counts()\n",
    "    quantity_males = np.asarray(quantity)[0]\n",
    "    quantity_females = np.asarray(quantity)[1]\n",
    "    \n",
    "    # split df for males and females \n",
    "    females_df = abse_group_df[:4]\n",
    "    males_df = abse_group_df[4:]\n",
    "    \n",
    "    values = males_df[\"response to abortion\"].to_numpy()\n",
    "    \n",
    "    # use function to get percentage, mean and max values respectively \n",
    "    females_df, females_percentage, mean_female_response, max_female_response = percentage_mean_max(females_df, quantity_females)\n",
    "    males_df, males_percentage, mean_male_response, max_male_response = percentage_mean_max(males_df, quantity_males)\n",
    "\n",
    "    # add percentage to grouped df\n",
    "    abse_group_df = pd.concat([females_df, males_df])\n",
    "    print(\"\\n Grouped Dataframe: \\n\\n\",abse_group_df, \"\\n\")\n",
    "    \n",
    "    # summary df with mean and max response\n",
    "    zipped = list(zip(set(abse_df[\"sex\"].to_numpy()), [mean_male_response, mean_female_response], [max_male_response, max_female_response]))\n",
    "    summary_df = pd.DataFrame(zipped, columns = [\"Age\", \"Mean Response\", \"Max Response\"])\n",
    "    print(\"\\nSummary:\\n\\n\",summary_df)\n",
    "    \n",
    "    # line plot for response to abortion of males and females in percentage \n",
    "    \n",
    "    plot = go.Figure(data=[go.Scatter(\n",
    "        name='Males',\n",
    "        x=values,\n",
    "        y=males_percentage, \n",
    "    ),\n",
    "        go.Scatter(\n",
    "        name='Females',\n",
    "        x=values,\n",
    "        y=females_percentage,\n",
    "        line_color = \"red\"\n",
    "    )\n",
    "    ])\n",
    "    \n",
    "    plot.update_xaxes(dtick=values)\n",
    "    plot.update_xaxes(title=\"Response to abortion in numeric values\")\n",
    "    plot.update_yaxes(title=\"Percentage\")\n",
    "    \n",
    "        # Add dropdown\n",
    "    plot.update_layout(\n",
    "        updatemenus=[\n",
    "            \n",
    "            dict(\n",
    "                type=\"buttons\",\n",
    "                direction=\"left\",\n",
    "                buttons=list([\n",
    "                    \n",
    "                    dict(label=\"Both\",\n",
    "                         method=\"update\",\n",
    "                         args=[{\"visible\": [True, True]},\n",
    "                               {\"title\": \"Both\"},\n",
    "                              ]),\n",
    "                               \n",
    "                    \n",
    "                    dict(label=\"Males\",\n",
    "                         method=\"update\",\n",
    "                         args=[{\"visible\": [True, False]},\n",
    "                               {\"title\": \"Male response to abortion\",\n",
    "                                }]),\n",
    "                    \n",
    "                    dict(label=\"Females\",\n",
    "                         method=\"update\",\n",
    "                         args=[{\"visible\": [False, True]},\n",
    "                               {\"title\": \"Female response to abortion\",\n",
    "                                }]),\n",
    "                ]),\n",
    "            )\n",
    "        ])\n",
    "      \n",
    "    plot.show()\n",
    "    \n",
    "    # Hypothesis test\n",
    "#     sex_arr = abse_df[\"sex\"].to_numpy()\n",
    "#     sex_bool = sex_arr == \"male\"\n",
    "#     response_arr = abse_df[\"response to abortion\"].to_numpy()\n",
    "    \n",
    "#     print(stats.pointbiserialr(sex_bool, response_arr))\n",
    "    \n",
    "    return "
   ]
  },
  {
   "cell_type": "code",
   "execution_count": 51,
   "id": "7ead43b3",
   "metadata": {},
   "outputs": [
    {
     "name": "stdout",
     "output_type": "stream",
     "text": [
      "\n",
      "\u001b[1mHypothesis 1: Is there any relation between the response concerning abortion and sex?\u001b[0m\n",
      "\n",
      " Grouped Dataframe: \n",
      "\n",
      "       sex  response to abortion  counts  percentage\n",
      "0  female                     1     198    0.254499\n",
      "1  female                     2     125    0.160668\n",
      "2  female                     3     169    0.217224\n",
      "3  female                     4     286    0.367609\n",
      "4    male                     1     212    0.267677\n",
      "5    male                     2     120    0.151515\n",
      "6    male                     3     203    0.256313\n",
      "7    male                     4     257    0.324495 \n",
      "\n",
      "\n",
      "Summary:\n",
      "\n",
      "       Age  Mean Response  Max Response\n",
      "0  female       2.637626             4\n",
      "1    male       2.697943             4\n"
     ]
    },
    {
     "data": {
      "application/vnd.plotly.v1+json": {
       "config": {
        "plotlyServerURL": "https://plot.ly"
       },
       "data": [
        {
         "name": "Males",
         "type": "scatter",
         "x": [
          1,
          2,
          3,
          4
         ],
         "y": [
          0.2676767676767677,
          0.15151515151515152,
          0.2563131313131313,
          0.3244949494949495
         ]
        },
        {
         "line": {
          "color": "red"
         },
         "name": "Females",
         "type": "scatter",
         "x": [
          1,
          2,
          3,
          4
         ],
         "y": [
          0.2544987146529563,
          0.16066838046272494,
          0.21722365038560412,
          0.3676092544987147
         ]
        }
       ],
       "layout": {
        "template": {
         "data": {
          "bar": [
           {
            "error_x": {
             "color": "#2a3f5f"
            },
            "error_y": {
             "color": "#2a3f5f"
            },
            "marker": {
             "line": {
              "color": "#E5ECF6",
              "width": 0.5
             },
             "pattern": {
              "fillmode": "overlay",
              "size": 10,
              "solidity": 0.2
             }
            },
            "type": "bar"
           }
          ],
          "barpolar": [
           {
            "marker": {
             "line": {
              "color": "#E5ECF6",
              "width": 0.5
             },
             "pattern": {
              "fillmode": "overlay",
              "size": 10,
              "solidity": 0.2
             }
            },
            "type": "barpolar"
           }
          ],
          "carpet": [
           {
            "aaxis": {
             "endlinecolor": "#2a3f5f",
             "gridcolor": "white",
             "linecolor": "white",
             "minorgridcolor": "white",
             "startlinecolor": "#2a3f5f"
            },
            "baxis": {
             "endlinecolor": "#2a3f5f",
             "gridcolor": "white",
             "linecolor": "white",
             "minorgridcolor": "white",
             "startlinecolor": "#2a3f5f"
            },
            "type": "carpet"
           }
          ],
          "choropleth": [
           {
            "colorbar": {
             "outlinewidth": 0,
             "ticks": ""
            },
            "type": "choropleth"
           }
          ],
          "contour": [
           {
            "colorbar": {
             "outlinewidth": 0,
             "ticks": ""
            },
            "colorscale": [
             [
              0,
              "#0d0887"
             ],
             [
              0.1111111111111111,
              "#46039f"
             ],
             [
              0.2222222222222222,
              "#7201a8"
             ],
             [
              0.3333333333333333,
              "#9c179e"
             ],
             [
              0.4444444444444444,
              "#bd3786"
             ],
             [
              0.5555555555555556,
              "#d8576b"
             ],
             [
              0.6666666666666666,
              "#ed7953"
             ],
             [
              0.7777777777777778,
              "#fb9f3a"
             ],
             [
              0.8888888888888888,
              "#fdca26"
             ],
             [
              1,
              "#f0f921"
             ]
            ],
            "type": "contour"
           }
          ],
          "contourcarpet": [
           {
            "colorbar": {
             "outlinewidth": 0,
             "ticks": ""
            },
            "type": "contourcarpet"
           }
          ],
          "heatmap": [
           {
            "colorbar": {
             "outlinewidth": 0,
             "ticks": ""
            },
            "colorscale": [
             [
              0,
              "#0d0887"
             ],
             [
              0.1111111111111111,
              "#46039f"
             ],
             [
              0.2222222222222222,
              "#7201a8"
             ],
             [
              0.3333333333333333,
              "#9c179e"
             ],
             [
              0.4444444444444444,
              "#bd3786"
             ],
             [
              0.5555555555555556,
              "#d8576b"
             ],
             [
              0.6666666666666666,
              "#ed7953"
             ],
             [
              0.7777777777777778,
              "#fb9f3a"
             ],
             [
              0.8888888888888888,
              "#fdca26"
             ],
             [
              1,
              "#f0f921"
             ]
            ],
            "type": "heatmap"
           }
          ],
          "heatmapgl": [
           {
            "colorbar": {
             "outlinewidth": 0,
             "ticks": ""
            },
            "colorscale": [
             [
              0,
              "#0d0887"
             ],
             [
              0.1111111111111111,
              "#46039f"
             ],
             [
              0.2222222222222222,
              "#7201a8"
             ],
             [
              0.3333333333333333,
              "#9c179e"
             ],
             [
              0.4444444444444444,
              "#bd3786"
             ],
             [
              0.5555555555555556,
              "#d8576b"
             ],
             [
              0.6666666666666666,
              "#ed7953"
             ],
             [
              0.7777777777777778,
              "#fb9f3a"
             ],
             [
              0.8888888888888888,
              "#fdca26"
             ],
             [
              1,
              "#f0f921"
             ]
            ],
            "type": "heatmapgl"
           }
          ],
          "histogram": [
           {
            "marker": {
             "pattern": {
              "fillmode": "overlay",
              "size": 10,
              "solidity": 0.2
             }
            },
            "type": "histogram"
           }
          ],
          "histogram2d": [
           {
            "colorbar": {
             "outlinewidth": 0,
             "ticks": ""
            },
            "colorscale": [
             [
              0,
              "#0d0887"
             ],
             [
              0.1111111111111111,
              "#46039f"
             ],
             [
              0.2222222222222222,
              "#7201a8"
             ],
             [
              0.3333333333333333,
              "#9c179e"
             ],
             [
              0.4444444444444444,
              "#bd3786"
             ],
             [
              0.5555555555555556,
              "#d8576b"
             ],
             [
              0.6666666666666666,
              "#ed7953"
             ],
             [
              0.7777777777777778,
              "#fb9f3a"
             ],
             [
              0.8888888888888888,
              "#fdca26"
             ],
             [
              1,
              "#f0f921"
             ]
            ],
            "type": "histogram2d"
           }
          ],
          "histogram2dcontour": [
           {
            "colorbar": {
             "outlinewidth": 0,
             "ticks": ""
            },
            "colorscale": [
             [
              0,
              "#0d0887"
             ],
             [
              0.1111111111111111,
              "#46039f"
             ],
             [
              0.2222222222222222,
              "#7201a8"
             ],
             [
              0.3333333333333333,
              "#9c179e"
             ],
             [
              0.4444444444444444,
              "#bd3786"
             ],
             [
              0.5555555555555556,
              "#d8576b"
             ],
             [
              0.6666666666666666,
              "#ed7953"
             ],
             [
              0.7777777777777778,
              "#fb9f3a"
             ],
             [
              0.8888888888888888,
              "#fdca26"
             ],
             [
              1,
              "#f0f921"
             ]
            ],
            "type": "histogram2dcontour"
           }
          ],
          "mesh3d": [
           {
            "colorbar": {
             "outlinewidth": 0,
             "ticks": ""
            },
            "type": "mesh3d"
           }
          ],
          "parcoords": [
           {
            "line": {
             "colorbar": {
              "outlinewidth": 0,
              "ticks": ""
             }
            },
            "type": "parcoords"
           }
          ],
          "pie": [
           {
            "automargin": true,
            "type": "pie"
           }
          ],
          "scatter": [
           {
            "fillpattern": {
             "fillmode": "overlay",
             "size": 10,
             "solidity": 0.2
            },
            "type": "scatter"
           }
          ],
          "scatter3d": [
           {
            "line": {
             "colorbar": {
              "outlinewidth": 0,
              "ticks": ""
             }
            },
            "marker": {
             "colorbar": {
              "outlinewidth": 0,
              "ticks": ""
             }
            },
            "type": "scatter3d"
           }
          ],
          "scattercarpet": [
           {
            "marker": {
             "colorbar": {
              "outlinewidth": 0,
              "ticks": ""
             }
            },
            "type": "scattercarpet"
           }
          ],
          "scattergeo": [
           {
            "marker": {
             "colorbar": {
              "outlinewidth": 0,
              "ticks": ""
             }
            },
            "type": "scattergeo"
           }
          ],
          "scattergl": [
           {
            "marker": {
             "colorbar": {
              "outlinewidth": 0,
              "ticks": ""
             }
            },
            "type": "scattergl"
           }
          ],
          "scattermapbox": [
           {
            "marker": {
             "colorbar": {
              "outlinewidth": 0,
              "ticks": ""
             }
            },
            "type": "scattermapbox"
           }
          ],
          "scatterpolar": [
           {
            "marker": {
             "colorbar": {
              "outlinewidth": 0,
              "ticks": ""
             }
            },
            "type": "scatterpolar"
           }
          ],
          "scatterpolargl": [
           {
            "marker": {
             "colorbar": {
              "outlinewidth": 0,
              "ticks": ""
             }
            },
            "type": "scatterpolargl"
           }
          ],
          "scatterternary": [
           {
            "marker": {
             "colorbar": {
              "outlinewidth": 0,
              "ticks": ""
             }
            },
            "type": "scatterternary"
           }
          ],
          "surface": [
           {
            "colorbar": {
             "outlinewidth": 0,
             "ticks": ""
            },
            "colorscale": [
             [
              0,
              "#0d0887"
             ],
             [
              0.1111111111111111,
              "#46039f"
             ],
             [
              0.2222222222222222,
              "#7201a8"
             ],
             [
              0.3333333333333333,
              "#9c179e"
             ],
             [
              0.4444444444444444,
              "#bd3786"
             ],
             [
              0.5555555555555556,
              "#d8576b"
             ],
             [
              0.6666666666666666,
              "#ed7953"
             ],
             [
              0.7777777777777778,
              "#fb9f3a"
             ],
             [
              0.8888888888888888,
              "#fdca26"
             ],
             [
              1,
              "#f0f921"
             ]
            ],
            "type": "surface"
           }
          ],
          "table": [
           {
            "cells": {
             "fill": {
              "color": "#EBF0F8"
             },
             "line": {
              "color": "white"
             }
            },
            "header": {
             "fill": {
              "color": "#C8D4E3"
             },
             "line": {
              "color": "white"
             }
            },
            "type": "table"
           }
          ]
         },
         "layout": {
          "annotationdefaults": {
           "arrowcolor": "#2a3f5f",
           "arrowhead": 0,
           "arrowwidth": 1
          },
          "autotypenumbers": "strict",
          "coloraxis": {
           "colorbar": {
            "outlinewidth": 0,
            "ticks": ""
           }
          },
          "colorscale": {
           "diverging": [
            [
             0,
             "#8e0152"
            ],
            [
             0.1,
             "#c51b7d"
            ],
            [
             0.2,
             "#de77ae"
            ],
            [
             0.3,
             "#f1b6da"
            ],
            [
             0.4,
             "#fde0ef"
            ],
            [
             0.5,
             "#f7f7f7"
            ],
            [
             0.6,
             "#e6f5d0"
            ],
            [
             0.7,
             "#b8e186"
            ],
            [
             0.8,
             "#7fbc41"
            ],
            [
             0.9,
             "#4d9221"
            ],
            [
             1,
             "#276419"
            ]
           ],
           "sequential": [
            [
             0,
             "#0d0887"
            ],
            [
             0.1111111111111111,
             "#46039f"
            ],
            [
             0.2222222222222222,
             "#7201a8"
            ],
            [
             0.3333333333333333,
             "#9c179e"
            ],
            [
             0.4444444444444444,
             "#bd3786"
            ],
            [
             0.5555555555555556,
             "#d8576b"
            ],
            [
             0.6666666666666666,
             "#ed7953"
            ],
            [
             0.7777777777777778,
             "#fb9f3a"
            ],
            [
             0.8888888888888888,
             "#fdca26"
            ],
            [
             1,
             "#f0f921"
            ]
           ],
           "sequentialminus": [
            [
             0,
             "#0d0887"
            ],
            [
             0.1111111111111111,
             "#46039f"
            ],
            [
             0.2222222222222222,
             "#7201a8"
            ],
            [
             0.3333333333333333,
             "#9c179e"
            ],
            [
             0.4444444444444444,
             "#bd3786"
            ],
            [
             0.5555555555555556,
             "#d8576b"
            ],
            [
             0.6666666666666666,
             "#ed7953"
            ],
            [
             0.7777777777777778,
             "#fb9f3a"
            ],
            [
             0.8888888888888888,
             "#fdca26"
            ],
            [
             1,
             "#f0f921"
            ]
           ]
          },
          "colorway": [
           "#636efa",
           "#EF553B",
           "#00cc96",
           "#ab63fa",
           "#FFA15A",
           "#19d3f3",
           "#FF6692",
           "#B6E880",
           "#FF97FF",
           "#FECB52"
          ],
          "font": {
           "color": "#2a3f5f"
          },
          "geo": {
           "bgcolor": "white",
           "lakecolor": "white",
           "landcolor": "#E5ECF6",
           "showlakes": true,
           "showland": true,
           "subunitcolor": "white"
          },
          "hoverlabel": {
           "align": "left"
          },
          "hovermode": "closest",
          "mapbox": {
           "style": "light"
          },
          "paper_bgcolor": "white",
          "plot_bgcolor": "#E5ECF6",
          "polar": {
           "angularaxis": {
            "gridcolor": "white",
            "linecolor": "white",
            "ticks": ""
           },
           "bgcolor": "#E5ECF6",
           "radialaxis": {
            "gridcolor": "white",
            "linecolor": "white",
            "ticks": ""
           }
          },
          "scene": {
           "xaxis": {
            "backgroundcolor": "#E5ECF6",
            "gridcolor": "white",
            "gridwidth": 2,
            "linecolor": "white",
            "showbackground": true,
            "ticks": "",
            "zerolinecolor": "white"
           },
           "yaxis": {
            "backgroundcolor": "#E5ECF6",
            "gridcolor": "white",
            "gridwidth": 2,
            "linecolor": "white",
            "showbackground": true,
            "ticks": "",
            "zerolinecolor": "white"
           },
           "zaxis": {
            "backgroundcolor": "#E5ECF6",
            "gridcolor": "white",
            "gridwidth": 2,
            "linecolor": "white",
            "showbackground": true,
            "ticks": "",
            "zerolinecolor": "white"
           }
          },
          "shapedefaults": {
           "line": {
            "color": "#2a3f5f"
           }
          },
          "ternary": {
           "aaxis": {
            "gridcolor": "white",
            "linecolor": "white",
            "ticks": ""
           },
           "baxis": {
            "gridcolor": "white",
            "linecolor": "white",
            "ticks": ""
           },
           "bgcolor": "#E5ECF6",
           "caxis": {
            "gridcolor": "white",
            "linecolor": "white",
            "ticks": ""
           }
          },
          "title": {
           "x": 0.05
          },
          "xaxis": {
           "automargin": true,
           "gridcolor": "white",
           "linecolor": "white",
           "ticks": "",
           "title": {
            "standoff": 15
           },
           "zerolinecolor": "white",
           "zerolinewidth": 2
          },
          "yaxis": {
           "automargin": true,
           "gridcolor": "white",
           "linecolor": "white",
           "ticks": "",
           "title": {
            "standoff": 15
           },
           "zerolinecolor": "white",
           "zerolinewidth": 2
          }
         }
        },
        "updatemenus": [
         {
          "buttons": [
           {
            "args": [
             {
              "visible": [
               true,
               true
              ]
             },
             {
              "title": "Both"
             }
            ],
            "label": "Both",
            "method": "update"
           },
           {
            "args": [
             {
              "visible": [
               true,
               false
              ]
             },
             {
              "title": "Male response to abortion"
             }
            ],
            "label": "Males",
            "method": "update"
           },
           {
            "args": [
             {
              "visible": [
               false,
               true
              ]
             },
             {
              "title": "Female response to abortion"
             }
            ],
            "label": "Females",
            "method": "update"
           }
          ],
          "direction": "left",
          "type": "buttons"
         }
        ],
        "xaxis": {
         "dtick": [
          1,
          2,
          3,
          4
         ],
         "title": {
          "text": "Response to abortion in numeric values"
         }
        },
        "yaxis": {
         "title": {
          "text": "Percentage"
         }
        }
       }
      },
      "text/html": [
       "<div>                            <div id=\"74109041-0478-4117-b8da-fadf688a4367\" class=\"plotly-graph-div\" style=\"height:525px; width:100%;\"></div>            <script type=\"text/javascript\">                require([\"plotly\"], function(Plotly) {                    window.PLOTLYENV=window.PLOTLYENV || {};                                    if (document.getElementById(\"74109041-0478-4117-b8da-fadf688a4367\")) {                    Plotly.newPlot(                        \"74109041-0478-4117-b8da-fadf688a4367\",                        [{\"name\":\"Males\",\"x\":[1,2,3,4],\"y\":[0.2676767676767677,0.15151515151515152,0.2563131313131313,0.3244949494949495],\"type\":\"scatter\"},{\"line\":{\"color\":\"red\"},\"name\":\"Females\",\"x\":[1,2,3,4],\"y\":[0.2544987146529563,0.16066838046272494,0.21722365038560412,0.3676092544987147],\"type\":\"scatter\"}],                        {\"template\":{\"data\":{\"histogram2dcontour\":[{\"type\":\"histogram2dcontour\",\"colorbar\":{\"outlinewidth\":0,\"ticks\":\"\"},\"colorscale\":[[0.0,\"#0d0887\"],[0.1111111111111111,\"#46039f\"],[0.2222222222222222,\"#7201a8\"],[0.3333333333333333,\"#9c179e\"],[0.4444444444444444,\"#bd3786\"],[0.5555555555555556,\"#d8576b\"],[0.6666666666666666,\"#ed7953\"],[0.7777777777777778,\"#fb9f3a\"],[0.8888888888888888,\"#fdca26\"],[1.0,\"#f0f921\"]]}],\"choropleth\":[{\"type\":\"choropleth\",\"colorbar\":{\"outlinewidth\":0,\"ticks\":\"\"}}],\"histogram2d\":[{\"type\":\"histogram2d\",\"colorbar\":{\"outlinewidth\":0,\"ticks\":\"\"},\"colorscale\":[[0.0,\"#0d0887\"],[0.1111111111111111,\"#46039f\"],[0.2222222222222222,\"#7201a8\"],[0.3333333333333333,\"#9c179e\"],[0.4444444444444444,\"#bd3786\"],[0.5555555555555556,\"#d8576b\"],[0.6666666666666666,\"#ed7953\"],[0.7777777777777778,\"#fb9f3a\"],[0.8888888888888888,\"#fdca26\"],[1.0,\"#f0f921\"]]}],\"heatmap\":[{\"type\":\"heatmap\",\"colorbar\":{\"outlinewidth\":0,\"ticks\":\"\"},\"colorscale\":[[0.0,\"#0d0887\"],[0.1111111111111111,\"#46039f\"],[0.2222222222222222,\"#7201a8\"],[0.3333333333333333,\"#9c179e\"],[0.4444444444444444,\"#bd3786\"],[0.5555555555555556,\"#d8576b\"],[0.6666666666666666,\"#ed7953\"],[0.7777777777777778,\"#fb9f3a\"],[0.8888888888888888,\"#fdca26\"],[1.0,\"#f0f921\"]]}],\"heatmapgl\":[{\"type\":\"heatmapgl\",\"colorbar\":{\"outlinewidth\":0,\"ticks\":\"\"},\"colorscale\":[[0.0,\"#0d0887\"],[0.1111111111111111,\"#46039f\"],[0.2222222222222222,\"#7201a8\"],[0.3333333333333333,\"#9c179e\"],[0.4444444444444444,\"#bd3786\"],[0.5555555555555556,\"#d8576b\"],[0.6666666666666666,\"#ed7953\"],[0.7777777777777778,\"#fb9f3a\"],[0.8888888888888888,\"#fdca26\"],[1.0,\"#f0f921\"]]}],\"contourcarpet\":[{\"type\":\"contourcarpet\",\"colorbar\":{\"outlinewidth\":0,\"ticks\":\"\"}}],\"contour\":[{\"type\":\"contour\",\"colorbar\":{\"outlinewidth\":0,\"ticks\":\"\"},\"colorscale\":[[0.0,\"#0d0887\"],[0.1111111111111111,\"#46039f\"],[0.2222222222222222,\"#7201a8\"],[0.3333333333333333,\"#9c179e\"],[0.4444444444444444,\"#bd3786\"],[0.5555555555555556,\"#d8576b\"],[0.6666666666666666,\"#ed7953\"],[0.7777777777777778,\"#fb9f3a\"],[0.8888888888888888,\"#fdca26\"],[1.0,\"#f0f921\"]]}],\"surface\":[{\"type\":\"surface\",\"colorbar\":{\"outlinewidth\":0,\"ticks\":\"\"},\"colorscale\":[[0.0,\"#0d0887\"],[0.1111111111111111,\"#46039f\"],[0.2222222222222222,\"#7201a8\"],[0.3333333333333333,\"#9c179e\"],[0.4444444444444444,\"#bd3786\"],[0.5555555555555556,\"#d8576b\"],[0.6666666666666666,\"#ed7953\"],[0.7777777777777778,\"#fb9f3a\"],[0.8888888888888888,\"#fdca26\"],[1.0,\"#f0f921\"]]}],\"mesh3d\":[{\"type\":\"mesh3d\",\"colorbar\":{\"outlinewidth\":0,\"ticks\":\"\"}}],\"scatter\":[{\"fillpattern\":{\"fillmode\":\"overlay\",\"size\":10,\"solidity\":0.2},\"type\":\"scatter\"}],\"parcoords\":[{\"type\":\"parcoords\",\"line\":{\"colorbar\":{\"outlinewidth\":0,\"ticks\":\"\"}}}],\"scatterpolargl\":[{\"type\":\"scatterpolargl\",\"marker\":{\"colorbar\":{\"outlinewidth\":0,\"ticks\":\"\"}}}],\"bar\":[{\"error_x\":{\"color\":\"#2a3f5f\"},\"error_y\":{\"color\":\"#2a3f5f\"},\"marker\":{\"line\":{\"color\":\"#E5ECF6\",\"width\":0.5},\"pattern\":{\"fillmode\":\"overlay\",\"size\":10,\"solidity\":0.2}},\"type\":\"bar\"}],\"scattergeo\":[{\"type\":\"scattergeo\",\"marker\":{\"colorbar\":{\"outlinewidth\":0,\"ticks\":\"\"}}}],\"scatterpolar\":[{\"type\":\"scatterpolar\",\"marker\":{\"colorbar\":{\"outlinewidth\":0,\"ticks\":\"\"}}}],\"histogram\":[{\"marker\":{\"pattern\":{\"fillmode\":\"overlay\",\"size\":10,\"solidity\":0.2}},\"type\":\"histogram\"}],\"scattergl\":[{\"type\":\"scattergl\",\"marker\":{\"colorbar\":{\"outlinewidth\":0,\"ticks\":\"\"}}}],\"scatter3d\":[{\"type\":\"scatter3d\",\"line\":{\"colorbar\":{\"outlinewidth\":0,\"ticks\":\"\"}},\"marker\":{\"colorbar\":{\"outlinewidth\":0,\"ticks\":\"\"}}}],\"scattermapbox\":[{\"type\":\"scattermapbox\",\"marker\":{\"colorbar\":{\"outlinewidth\":0,\"ticks\":\"\"}}}],\"scatterternary\":[{\"type\":\"scatterternary\",\"marker\":{\"colorbar\":{\"outlinewidth\":0,\"ticks\":\"\"}}}],\"scattercarpet\":[{\"type\":\"scattercarpet\",\"marker\":{\"colorbar\":{\"outlinewidth\":0,\"ticks\":\"\"}}}],\"carpet\":[{\"aaxis\":{\"endlinecolor\":\"#2a3f5f\",\"gridcolor\":\"white\",\"linecolor\":\"white\",\"minorgridcolor\":\"white\",\"startlinecolor\":\"#2a3f5f\"},\"baxis\":{\"endlinecolor\":\"#2a3f5f\",\"gridcolor\":\"white\",\"linecolor\":\"white\",\"minorgridcolor\":\"white\",\"startlinecolor\":\"#2a3f5f\"},\"type\":\"carpet\"}],\"table\":[{\"cells\":{\"fill\":{\"color\":\"#EBF0F8\"},\"line\":{\"color\":\"white\"}},\"header\":{\"fill\":{\"color\":\"#C8D4E3\"},\"line\":{\"color\":\"white\"}},\"type\":\"table\"}],\"barpolar\":[{\"marker\":{\"line\":{\"color\":\"#E5ECF6\",\"width\":0.5},\"pattern\":{\"fillmode\":\"overlay\",\"size\":10,\"solidity\":0.2}},\"type\":\"barpolar\"}],\"pie\":[{\"automargin\":true,\"type\":\"pie\"}]},\"layout\":{\"autotypenumbers\":\"strict\",\"colorway\":[\"#636efa\",\"#EF553B\",\"#00cc96\",\"#ab63fa\",\"#FFA15A\",\"#19d3f3\",\"#FF6692\",\"#B6E880\",\"#FF97FF\",\"#FECB52\"],\"font\":{\"color\":\"#2a3f5f\"},\"hovermode\":\"closest\",\"hoverlabel\":{\"align\":\"left\"},\"paper_bgcolor\":\"white\",\"plot_bgcolor\":\"#E5ECF6\",\"polar\":{\"bgcolor\":\"#E5ECF6\",\"angularaxis\":{\"gridcolor\":\"white\",\"linecolor\":\"white\",\"ticks\":\"\"},\"radialaxis\":{\"gridcolor\":\"white\",\"linecolor\":\"white\",\"ticks\":\"\"}},\"ternary\":{\"bgcolor\":\"#E5ECF6\",\"aaxis\":{\"gridcolor\":\"white\",\"linecolor\":\"white\",\"ticks\":\"\"},\"baxis\":{\"gridcolor\":\"white\",\"linecolor\":\"white\",\"ticks\":\"\"},\"caxis\":{\"gridcolor\":\"white\",\"linecolor\":\"white\",\"ticks\":\"\"}},\"coloraxis\":{\"colorbar\":{\"outlinewidth\":0,\"ticks\":\"\"}},\"colorscale\":{\"sequential\":[[0.0,\"#0d0887\"],[0.1111111111111111,\"#46039f\"],[0.2222222222222222,\"#7201a8\"],[0.3333333333333333,\"#9c179e\"],[0.4444444444444444,\"#bd3786\"],[0.5555555555555556,\"#d8576b\"],[0.6666666666666666,\"#ed7953\"],[0.7777777777777778,\"#fb9f3a\"],[0.8888888888888888,\"#fdca26\"],[1.0,\"#f0f921\"]],\"sequentialminus\":[[0.0,\"#0d0887\"],[0.1111111111111111,\"#46039f\"],[0.2222222222222222,\"#7201a8\"],[0.3333333333333333,\"#9c179e\"],[0.4444444444444444,\"#bd3786\"],[0.5555555555555556,\"#d8576b\"],[0.6666666666666666,\"#ed7953\"],[0.7777777777777778,\"#fb9f3a\"],[0.8888888888888888,\"#fdca26\"],[1.0,\"#f0f921\"]],\"diverging\":[[0,\"#8e0152\"],[0.1,\"#c51b7d\"],[0.2,\"#de77ae\"],[0.3,\"#f1b6da\"],[0.4,\"#fde0ef\"],[0.5,\"#f7f7f7\"],[0.6,\"#e6f5d0\"],[0.7,\"#b8e186\"],[0.8,\"#7fbc41\"],[0.9,\"#4d9221\"],[1,\"#276419\"]]},\"xaxis\":{\"gridcolor\":\"white\",\"linecolor\":\"white\",\"ticks\":\"\",\"title\":{\"standoff\":15},\"zerolinecolor\":\"white\",\"automargin\":true,\"zerolinewidth\":2},\"yaxis\":{\"gridcolor\":\"white\",\"linecolor\":\"white\",\"ticks\":\"\",\"title\":{\"standoff\":15},\"zerolinecolor\":\"white\",\"automargin\":true,\"zerolinewidth\":2},\"scene\":{\"xaxis\":{\"backgroundcolor\":\"#E5ECF6\",\"gridcolor\":\"white\",\"linecolor\":\"white\",\"showbackground\":true,\"ticks\":\"\",\"zerolinecolor\":\"white\",\"gridwidth\":2},\"yaxis\":{\"backgroundcolor\":\"#E5ECF6\",\"gridcolor\":\"white\",\"linecolor\":\"white\",\"showbackground\":true,\"ticks\":\"\",\"zerolinecolor\":\"white\",\"gridwidth\":2},\"zaxis\":{\"backgroundcolor\":\"#E5ECF6\",\"gridcolor\":\"white\",\"linecolor\":\"white\",\"showbackground\":true,\"ticks\":\"\",\"zerolinecolor\":\"white\",\"gridwidth\":2}},\"shapedefaults\":{\"line\":{\"color\":\"#2a3f5f\"}},\"annotationdefaults\":{\"arrowcolor\":\"#2a3f5f\",\"arrowhead\":0,\"arrowwidth\":1},\"geo\":{\"bgcolor\":\"white\",\"landcolor\":\"#E5ECF6\",\"subunitcolor\":\"white\",\"showland\":true,\"showlakes\":true,\"lakecolor\":\"white\"},\"title\":{\"x\":0.05},\"mapbox\":{\"style\":\"light\"}}},\"xaxis\":{\"dtick\":[1,2,3,4],\"title\":{\"text\":\"Response to abortion in numeric values\"}},\"yaxis\":{\"title\":{\"text\":\"Percentage\"}},\"updatemenus\":[{\"buttons\":[{\"args\":[{\"visible\":[true,true]},{\"title\":\"Both\"}],\"label\":\"Both\",\"method\":\"update\"},{\"args\":[{\"visible\":[true,false]},{\"title\":\"Male response to abortion\"}],\"label\":\"Males\",\"method\":\"update\"},{\"args\":[{\"visible\":[false,true]},{\"title\":\"Female response to abortion\"}],\"label\":\"Females\",\"method\":\"update\"}],\"direction\":\"left\",\"type\":\"buttons\"}]},                        {\"responsive\": true}                    ).then(function(){\n",
       "                            \n",
       "var gd = document.getElementById('74109041-0478-4117-b8da-fadf688a4367');\n",
       "var x = new MutationObserver(function (mutations, observer) {{\n",
       "        var display = window.getComputedStyle(gd).display;\n",
       "        if (!display || display === 'none') {{\n",
       "            console.log([gd, 'removed!']);\n",
       "            Plotly.purge(gd);\n",
       "            observer.disconnect();\n",
       "        }}\n",
       "}});\n",
       "\n",
       "// Listen for the removal of the full notebook cells\n",
       "var notebookContainer = gd.closest('#notebook-container');\n",
       "if (notebookContainer) {{\n",
       "    x.observe(notebookContainer, {childList: true});\n",
       "}}\n",
       "\n",
       "// Listen for the clearing of the current output cell\n",
       "var outputEl = gd.closest('.output');\n",
       "if (outputEl) {{\n",
       "    x.observe(outputEl, {childList: true});\n",
       "}}\n",
       "\n",
       "                        })                };                });            </script>        </div>"
      ]
     },
     "metadata": {},
     "output_type": "display_data"
    }
   ],
   "source": [
    "abortion_sex()"
   ]
  },
  {
   "cell_type": "code",
   "execution_count": 40,
   "id": "f80f42d5",
   "metadata": {},
   "outputs": [
    {
     "data": {
      "text/plain": [
       "array([False, False,  True, False,  True])"
      ]
     },
     "execution_count": 40,
     "metadata": {},
     "output_type": "execute_result"
    }
   ],
   "source": [
    "x = np.array([\"alina\", \"alina\", \"carmen\", \"alina\", \"carmen\"])\n",
    "bool_x = x == \"carmen\"\n",
    "bool_x"
   ]
  },
  {
   "cell_type": "code",
   "execution_count": 52,
   "id": "b5af0954",
   "metadata": {},
   "outputs": [
    {
     "name": "stdout",
     "output_type": "stream",
     "text": [
      "\u001b[4mhello\u001b[0m\n"
     ]
    }
   ],
   "source": [
    "print(\"\\033[4mhello\\033[0m\")"
   ]
  },
  {
   "cell_type": "code",
   "execution_count": 5,
   "id": "e1988ef2",
   "metadata": {},
   "outputs": [],
   "source": [
    "def participants_counts():\n",
    "    \"\"\"\n",
    "    doc:\n",
    "    \"\"\"\n",
    "    df = tidy_abortion_df()\n",
    "    abse_df = df[[\"sex\", \"response to abortion\"]]\n",
    "    \n",
    "    abag_df = df[[\"age\", \"response to abortion\"]]\n",
    "    abag_df = abag_df.dropna()\n",
    "    \n",
    "    abre_df = df[[\"response to abortion\", \"denomination\", \"religious assessment\"]]\n",
    "    abre_df = abre_df.dropna()\n",
    "    abre_df = abre_df[(abre_df[\"denomination\"] != \"other non christian religious group\") & (abre_df[\"religious assessment\"] != \"neither nor\" )]\n",
    "    abre_df[\"religious assessment\"] = abre_df[\"religious assessment\"].replace([\"deeply religious\", \"very religious\", \"rather religious\"],\"religious\").replace([\"rather not religious\", \"not religious\", \"not religious at all\"], \"not religious\")\n",
    "    abre_df[\"denomination\"] = abre_df[\"denomination\"].replace([\"protestant church (w.o. free church)\", \"protestant church\", \"roman catholic church\", \"other christian religious group\"],\"christian\")\n",
    "    index_names = abre_df[(abre_df[\"religious assessment\"] == \"religious\") & (abre_df[\"denomination\"] == \"no religious group\")].index\n",
    "    abre_df.drop(index_names, inplace = True)\n",
    "    \n",
    "    data = {\"Hypothesis\": [1,2,3],\n",
    "           \"Participant counts\": [len(abse_df), len(abag_df), len(abre_df)]\n",
    "           }\n",
    "    \n",
    "    data_frame = pd.DataFrame(data)\n",
    "    print(data_frame)\n",
    "    \n",
    "    return"
   ]
  },
  {
   "cell_type": "code",
   "execution_count": 7,
   "id": "643e77ee",
   "metadata": {},
   "outputs": [
    {
     "name": "stdout",
     "output_type": "stream",
     "text": [
      "   Hypothesis  Participant counts\n",
      "0           1                1570\n",
      "1           2                1570\n",
      "2           3                1259\n"
     ]
    },
    {
     "data": {
      "image/png": "[encoded data removed]",
      "text/plain": [
       "<Figure size 720x504 with 5 Axes>"
      ]
     },
     "metadata": {
      "needs_background": "light"
     },
     "output_type": "display_data"
    }
   ],
   "source": [
    "ind_histograms()\n",
    "participants_counts()"
   ]
  },
  {
   "cell_type": "code",
   "execution_count": 4,
   "id": "2fce78e1",
   "metadata": {},
   "outputs": [],
   "source": [
    "# kommentare+doc !!\n",
    "def ind_histograms():\n",
    "    \"\"\"\n",
    "    doc:\n",
    "    \"\"\"\n",
    "    \n",
    "    df2 = tidy_abortion_df()\n",
    "    x1 = df2[\"response to abortion\"].to_numpy()\n",
    "    x2 = df2[\"sex\"].to_numpy()\n",
    "    x3 = df2[\"age\"].to_numpy()\n",
    "    x4 = df2[\"denomination\"].dropna().to_numpy()\n",
    "    x5 = df2[\"religious assessment\"].dropna().to_numpy()\n",
    "    \n",
    "    fig, ax = plt.subplots(2, 3, figsize=(10,7))\n",
    "    fig.suptitle(\"Histogram for each individual variable\", fontsize=20)\n",
    "    \n",
    "    \n",
    "    ax[0,0].hist(x1)\n",
    "    ax[0,0].set_title(\"Response to Abortion\")\n",
    "    ax[0,0].set_ylabel(\"counts\")\n",
    "    \n",
    "    ax[0,1].hist(x2)\n",
    "    ax[0,1].set_title(\"Sex\")\n",
    "    ax[0,1].set_ylabel(\"counts\")\n",
    "    \n",
    "    ax[0,2].hist(x3, bins = 30, rwidth=0.7)\n",
    "    ax[0,2].set_title(\"Age\")\n",
    "    ax[0,2].set_ylabel(\"counts\")\n",
    "    \n",
    "    ax[1,0].hist(x4, rwidth=0.7)\n",
    "    ax[1,0].set_title(\"Denomination\")\n",
    "    ax[1,0].tick_params(axis='x', labelrotation = 90)\n",
    "    ax[1,0].set_ylabel(\"counts\")\n",
    "    \n",
    "    ax[1,1].hist(x5, rwidth=0.7)\n",
    "    ax[1,1].set_title(\"Religious Assessment\")\n",
    "    ax[1,1].tick_params(axis='x', labelrotation = 90)\n",
    "    ax[1,1].set_ylabel(\"counts\")\n",
    "    \n",
    "    fig.delaxes(ax[1][2])\n",
    "    fig.tight_layout()\n",
    "    \n",
    "    return "
   ]
  },
  {
   "cell_type": "code",
   "execution_count": 58,
   "id": "bd17b0c8",
   "metadata": {},
   "outputs": [
    {
     "data": {
      "image/png": "[encoded data removed]",
      "text/plain": [
       "<Figure size 720x504 with 5 Axes>"
      ]
     },
     "metadata": {
      "needs_background": "light"
     },
     "output_type": "display_data"
    }
   ],
   "source": [
    "ind_histograms()"
   ]
  },
  {
   "cell_type": "code",
   "execution_count": 11,
   "id": "ec515acc",
   "metadata": {},
   "outputs": [
    {
     "data": {
      "image/png": "[encoded data removed]",
      "text/plain": [
       "<Figure size 432x288 with 2 Axes>"
      ]
     },
     "metadata": {
      "needs_background": "light"
     },
     "output_type": "display_data"
    }
   ],
   "source": [
    "plot1 = plt.subplot2grid((3, 1), (0, 0), colspan=2)\n",
    "plot2 = plt.subplot2grid((3, 3), (0, 2), rowspan=3, colspan=2)\n",
    "plot3 = plt.subplot2grid((3, 3), (1, 0), rowspan=2)"
   ]
  },
  {
   "cell_type": "code",
   "execution_count": null,
   "id": "213c71ed",
   "metadata": {},
   "outputs": [],
   "source": [
    "import plotly.express as px\n",
    "import plotly.graph_objects as go\n",
    "from plotly.subplots import make_subplots\n",
    "\n",
    "df = tidy_abortion_df()\n",
    "\n",
    "fig = make_subplots(rows=2, cols=3)\n",
    "\n",
    "trace1 = px.histogram(df, x='response to abortion')\n",
    "trace2 = px.histogram(df, x='sex')\n",
    "trace3 = px.histogram(df, x = \"age\", nbins = 30)\n",
    "#trace4 = px.histogram()\n",
    "\n",
    "\n",
    "fig.add_trace(go.Scatter(mode='lines', x=trace1.data[0]['x'], y=trace1.data[0]['y']), row=1, col=1)\n",
    "fig.add_trace(go.Scatter(mode='lines', x=trace2.data[0]['x'], y=trace2.data[0]['y']), row=2, col=1)\n",
    "fig.show()\n",
    "\n",
    "\n",
    "# test"
   ]
  }
 ],
 "metadata": {
  "kernelspec": {
   "display_name": "Python 3 (ipykernel)",
   "language": "python",
   "name": "python3"
  },
  "language_info": {
   "codemirror_mode": {
    "name": "ipython",
    "version": 3
   },
   "file_extension": ".py",
   "mimetype": "text/x-python",
   "name": "python",
   "nbconvert_exporter": "python",
   "pygments_lexer": "ipython3",
   "version": "3.10.4"
  }
 },
 "nbformat": 4,
 "nbformat_minor": 5
}
