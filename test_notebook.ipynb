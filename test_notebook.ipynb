{
 "cells": [
  {
   "cell_type": "code",
   "execution_count": 25,
   "id": "fe77d1ac",
   "metadata": {},
   "outputs": [],
   "source": [
    "import pandas as pd\n",
    "import numpy as np\n",
    "import matplotlib.pyplot as plt\n",
    "\n",
    "pd.options.mode.chained_assignment = None"
   ]
  },
  {
   "cell_type": "code",
   "execution_count": 26,
   "id": "0e68d382",
   "metadata": {},
   "outputs": [],
   "source": [
    "def tidy_abortion_df():\n",
    "    \"\"\"\n",
    "    Create dataframe with variables relevant for all hypotheses concerning abortion\n",
    "    \"\"\"\n",
    "    \n",
    "    # load data\n",
    "    df = pd.read_stata('data/data.dta', convert_categoricals = False)\n",
    "    # choose relevant columns / variables  \n",
    "    abortion_df = df[[\"sex\", \"age\", \"J005\", \"rd01\", \"J029\"]]\n",
    "    # remove all values below 0 of abortion response, as negative values indicate not apllicable\n",
    "    abortion_df = abortion_df[(abortion_df.J005 > 0)]\n",
    "    # rename columns\n",
    "    abortion_df = abortion_df. rename(columns = {\"J005\": \"response to abortion\", \"rd01\": \"denomination\", \"J029\": \"religious assessment\"})\n",
    "    # rename values \n",
    "    abortion_df = abortion_df.replace({\"sex\": {1: \"male\", 2: \"female\"},\n",
    "                                      \"denomination\": {1: \"protestant church (w.o. free church)\", 2: \"protestant church\", 3: \"roman catholic church\", 4: \"other christian religious group\", 5: \"other non christian religious group\", 6: \"no religious group\", -9: np.nan, -7: np.nan},\n",
    "                                      \"religious assessment\": {1: \"deeply religious\", 2: \"very religious\", 3: \"rather religious\", 4: \"neither nor\", 5: \"rather not religious\", 6: \"not religious\", 7: \"not religious at all\", -13: np.nan, -12: np.nan, -9: np.nan, -8: np.nan}})  \n",
    "    \n",
    "    return abortion_df"
   ]
  },
  {
   "cell_type": "code",
   "execution_count": 38,
   "id": "5147e7fb",
   "metadata": {},
   "outputs": [],
   "source": [
    "def tidy_abortion_summary():\n",
    "    \n",
    "    print(\"\\nFull Dataframe: \\n\\n\", tidy_abortion_df())\n",
    "    # summary statistic\n",
    "    print(\"\\nSummary statistic: \\n\\n\", tidy_abortion_df().describe(include='all'))   \n",
    "    \n",
    "    return "
   ]
  },
  {
   "cell_type": "code",
   "execution_count": 41,
   "id": "dbc55d7d",
   "metadata": {},
   "outputs": [],
   "source": [
    "# could still add mean and max response of males and females to summarizing df \n",
    "# test still missing\n",
    "def abortion_sex():\n",
    "    \"\"\"\n",
    "    Check for correlation between sex and response to abortion by counting responses\n",
    "    of males and females and plotting the percentage\n",
    "    \"\"\"\n",
    "    abortion_df = tidy_abortion_df()\n",
    "    abse_df = abortion_df[[\"sex\", \"response to abortion\"]]\n",
    "        \n",
    "    # group_by\n",
    "    abse_group_df = abse_df.groupby([\"sex\",\"response to abortion\"]).value_counts().reset_index()\n",
    "    abse_group_df = abse_group_df.rename(columns = {0:\"counts\"})\n",
    "    \n",
    "    quantity = abse_df[\"sex\"].value_counts()\n",
    "    quantity_males = np.asarray(quantity)[0]\n",
    "    quantity_females = np.asarray(quantity)[1]\n",
    "    \n",
    "    females_df = abse_group_df[:4]\n",
    "    males_df = abse_group_df[4:]\n",
    "    \n",
    "    males_df[\"percentage\"] = males_df[\"counts\"]/quantity_males\n",
    "    females_df[\"percentage\"] = females_df[\"counts\"]/quantity_females\n",
    "    \n",
    "    males_percentage = males_df[\"percentage\"].to_numpy()\n",
    "    females_percentage = females_df[\"percentage\"].to_numpy()\n",
    "    \n",
    "    values = males_df[\"response to abortion\"].to_numpy()\n",
    "    \n",
    "    abse_group_df = pd.concat([females_df, males_df])\n",
    "    print(\"\\n Grouped Dataframe for: \\n\\n\",abse_group_df, \"\\n\")\n",
    "    \n",
    "    # line plot for response to abortion of males and females in percentage \n",
    "    plt.plot(values, males_percentage, 'o-g')\n",
    "    plt.plot(values, females_percentage, 'o-b')\n",
    "    plt.legend(['males', 'females'])\n",
    "    \n",
    "    return "
   ]
  },
  {
   "cell_type": "code",
   "execution_count": 42,
   "id": "d482062e",
   "metadata": {},
   "outputs": [
    {
     "name": "stdout",
     "output_type": "stream",
     "text": [
      "\n",
      "Full Dataframe: \n",
      "\n",
      "          sex  age  response to abortion                          denomination  \\\n",
      "1     female   64                     4                    no religious group   \n",
      "5       male   41                     1  protestant church (w.o. free church)   \n",
      "10      male   37                     4                    no religious group   \n",
      "11    female   77                     3                 roman catholic church   \n",
      "13      male   46                     4                    no religious group   \n",
      "...      ...  ...                   ...                                   ...   \n",
      "3467  female   60                     3  protestant church (w.o. free church)   \n",
      "3468  female   69                     4                    no religious group   \n",
      "3471  female   43                     1                    no religious group   \n",
      "3472  female   32                     1                    no religious group   \n",
      "3476    male   88                     3                    no religious group   \n",
      "\n",
      "      religious assessment  \n",
      "1     not religious at all  \n",
      "5     rather not religious  \n",
      "10    not religious at all  \n",
      "11        rather religious  \n",
      "13    rather not religious  \n",
      "...                    ...  \n",
      "3467      rather religious  \n",
      "3468           neither nor  \n",
      "3471  not religious at all  \n",
      "3472  not religious at all  \n",
      "3476  not religious at all  \n",
      "\n",
      "[1570 rows x 5 columns]\n",
      "\n",
      "Summary statistic: \n",
      "\n",
      "          sex          age  response to abortion        denomination  \\\n",
      "count   1570  1570.000000           1570.000000                1569   \n",
      "unique     2          NaN                   NaN                   6   \n",
      "top     male          NaN                   NaN  no religious group   \n",
      "freq     792          NaN                   NaN                 621   \n",
      "mean     NaN    51.313376              2.667516                 NaN   \n",
      "std      NaN    17.800570              1.198694                 NaN   \n",
      "min      NaN    18.000000              1.000000                 NaN   \n",
      "25%      NaN    37.000000              1.000000                 NaN   \n",
      "50%      NaN    52.000000              3.000000                 NaN   \n",
      "75%      NaN    65.000000              4.000000                 NaN   \n",
      "max      NaN    94.000000              4.000000                 NaN   \n",
      "\n",
      "        religious assessment  \n",
      "count                   1533  \n",
      "unique                     7  \n",
      "top     not religious at all  \n",
      "freq                     461  \n",
      "mean                     NaN  \n",
      "std                      NaN  \n",
      "min                      NaN  \n",
      "25%                      NaN  \n",
      "50%                      NaN  \n",
      "75%                      NaN  \n",
      "max                      NaN  \n",
      "\n",
      " Grouped Dataframe: \n",
      "\n",
      "       sex  response to abortion  counts  percentage\n",
      "0  female                     1     198    0.254499\n",
      "1  female                     2     125    0.160668\n",
      "2  female                     3     169    0.217224\n",
      "3  female                     4     286    0.367609\n",
      "4    male                     1     212    0.267677\n",
      "5    male                     2     120    0.151515\n",
      "6    male                     3     203    0.256313\n",
      "7    male                     4     257    0.324495 \n",
      "\n"
     ]
    },
    {
     "data": {
      "image/png": "[encoded data removed]",
      "text/plain": [
       "<Figure size 432x288 with 1 Axes>"
      ]
     },
     "metadata": {
      "needs_background": "light"
     },
     "output_type": "display_data"
    }
   ],
   "source": [
    "tidy_abortion_summary()\n",
    "abortion_sex()"
   ]
  },
  {
   "cell_type": "code",
   "execution_count": null,
   "id": "6097e60a",
   "metadata": {},
   "outputs": [],
   "source": []
  }
 ],
 "metadata": {
  "kernelspec": {
   "display_name": "Python 3 (ipykernel)",
   "language": "python",
   "name": "python3"
  },
  "language_info": {
   "codemirror_mode": {
    "name": "ipython",
    "version": 3
   },
   "file_extension": ".py",
   "mimetype": "text/x-python",
   "name": "python",
   "nbconvert_exporter": "python",
   "pygments_lexer": "ipython3",
   "version": "3.10.4"
  }
 },
 "nbformat": 4,
 "nbformat_minor": 5
}
